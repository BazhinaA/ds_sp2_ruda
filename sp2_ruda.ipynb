{
 "cells": [
  {
   "cell_type": "markdown",
   "metadata": {
    "toc": true
   },
   "source": [
    "<h1>Содержание<span class=\"tocSkip\"></span></h1>\n",
    "<div class=\"toc\"><ul class=\"toc-item\"><li><span><a href=\"#Подготовка-данных\" data-toc-modified-id=\"Подготовка-данных-1\"><span class=\"toc-item-num\">1&nbsp;&nbsp;</span>Подготовка данных</a></span></li><li><span><a href=\"#Анализ-данных\" data-toc-modified-id=\"Анализ-данных-2\"><span class=\"toc-item-num\">2&nbsp;&nbsp;</span>Анализ данных</a></span></li><li><span><a href=\"#Модель\" data-toc-modified-id=\"Модель-3\"><span class=\"toc-item-num\">3&nbsp;&nbsp;</span>Модель</a></span></li><li><span><a href=\"#Чек-лист-готовности-проекта\" data-toc-modified-id=\"Чек-лист-готовности-проекта-4\"><span class=\"toc-item-num\">4&nbsp;&nbsp;</span>Чек-лист готовности проекта</a></span></li></ul></div>"
   ]
  },
  {
   "cell_type": "markdown",
   "metadata": {},
   "source": [
    "# Восстановление золота из руды"
   ]
  },
  {
   "cell_type": "markdown",
   "metadata": {
    "toc": true
   },
   "source": [
    "<h1>Содержание<span class=\"tocSkip\"></span></h1>\n",
    "<div class=\"toc\"><ul class=\"toc-item\"><li><span><a href=\"#Подготовка-данных\" data-toc-modified-id=\"Подготовка-данных-1\"><span class=\"toc-item-num\">1&nbsp;&nbsp;</span>Подготовка данных</a></span></li><li><span><a href=\"#Анализ-данных\" data-toc-modified-id=\"Анализ-данных-2\"><span class=\"toc-item-num\">2&nbsp;&nbsp;</span>Анализ данных</a></span></li><li><span><a href=\"#Модель\" data-toc-modified-id=\"Модель-3\"><span class=\"toc-item-num\">3&nbsp;&nbsp;</span>Модель</a></span></li><li><span><a href=\"#Чек-лист-готовности-проекта\" data-toc-modified-id=\"Чек-лист-готовности-проекта-4\"><span class=\"toc-item-num\">4&nbsp;&nbsp;</span>Чек-лист готовности проекта</a></span></li></ul></div>"
   ]
  },
  {
   "cell_type": "markdown",
   "metadata": {},
   "source": [
    "Подготовьте прототип модели машинного обучения для «Цифры». Компания разрабатывает решения для эффективной работы промышленных предприятий.\n",
    "\n",
    "Модель должна предсказать коэффициент восстановления золота из золотосодержащей руды. Используйте данные с параметрами добычи и очистки. \n",
    "\n",
    "Модель поможет оптимизировать производство, чтобы не запускать предприятие с убыточными характеристиками.\n",
    "\n",
    "Вам нужно:\n",
    "\n",
    "1. Подготовить данные;\n",
    "2. Провести исследовательский анализ данных;\n",
    "3. Построить и обучить модель.\n",
    "\n",
    "Чтобы выполнить проект, обращайтесь к библиотекам *pandas*, *matplotlib* и *sklearn.* Вам поможет их документация."
   ]
  },
  {
   "cell_type": "markdown",
   "metadata": {},
   "source": [
    "<div class=\"alert alert-info\">\n",
    "<b>\n",
    "В нашем распоряжении данные компании \"Цифры\".\n",
    "Необходимо подготовить прототип модели машинного обучения. Модель должна предсказать коэффициент восстановления золота из золотосодержащей руды, будем иметь в виду, что перед нами задача регрессии.\n",
    "    </div>"
   ]
  },
  {
   "cell_type": "markdown",
   "metadata": {},
   "source": [
    "## Подготовка данных"
   ]
  },
  {
   "cell_type": "code",
   "execution_count": 1,
   "metadata": {},
   "outputs": [
    {
     "data": {
      "text/html": [
       "<style>.container { width:90% !important; }</style>"
      ],
      "text/plain": [
       "<IPython.core.display.HTML object>"
      ]
     },
     "metadata": {},
     "output_type": "display_data"
    }
   ],
   "source": [
    "from IPython.core.display import display, HTML\n",
    "display(HTML(\"<style>.container { width:90% !important; }</style>\"))"
   ]
  },
  {
   "cell_type": "code",
   "execution_count": 2,
   "metadata": {},
   "outputs": [],
   "source": [
    "import pandas as pd\n",
    "import numpy as np\n",
    "from matplotlib import pyplot as plt\n",
    "import seaborn as sns\n",
    "from sklearn.metrics import mean_absolute_error\n",
    "from sklearn.linear_model import LinearRegression\n",
    "from sklearn.model_selection import cross_val_score\n",
    "from sklearn.model_selection import cross_val_predict\n",
    "from sklearn.metrics import fbeta_score, make_scorer\n",
    "from sklearn.tree import DecisionTreeRegressor\n",
    "from sklearn.ensemble import RandomForestRegressor\n",
    "from sklearn.dummy import DummyRegressor\n",
    "from sklearn.model_selection import GridSearchCV\n",
    "from IPython.display import display\n",
    "import warnings\n",
    "warnings.filterwarnings('ignore')"
   ]
  },
  {
   "cell_type": "code",
   "execution_count": 3,
   "metadata": {},
   "outputs": [],
   "source": [
    "RANDOM_STATE = 12345"
   ]
  },
  {
   "cell_type": "markdown",
   "metadata": {},
   "source": [
    "<div class=\"alert alert-info\">\n",
    "<b>\n",
    "Загрузим данные. изучим данные в них, проверим на наличие дубликатов и пропусков, при наличии пропусков примем решение о их замене либо полном удалении.\n",
    "    </div>"
   ]
  },
  {
   "cell_type": "markdown",
   "metadata": {},
   "source": [
    "<div class=\"alert alert-info\">\n",
    "<b>\n",
    "<br>gold_recovery_train_new.csv — обучающая выборка;   \n",
    "<br>gold_recovery_test_new.csv — тестовая выборка; \n",
    "<br>gold_recovery_full_new.csv — исходные данные\n",
    "\n",
    "</div>"
   ]
  },
  {
   "cell_type": "code",
   "execution_count": 4,
   "metadata": {},
   "outputs": [],
   "source": [
    "try:\n",
    "    train_data = pd.read_csv('/datasets/gold_recovery_train_new.csv', index_col='date')\n",
    "    test_data = pd.read_csv('/datasets/gold_recovery_test_new.csv',index_col='date')\n",
    "    full_data = pd.read_csv('/datasets/gold_recovery_full_new.csv',index_col='date')\n",
    "except:\n",
    "    train_data = pd.read_csv('gold_recovery_train_new.csv',index_col='date')\n",
    "    test_data = pd.read_csv('gold_recovery_test_new.csv',index_col='date')\n",
    "    full_data = pd.read_csv('gold_recovery_full_new.csv',index_col='date')\n"
   ]
  },
  {
   "cell_type": "code",
   "execution_count": 5,
   "metadata": {},
   "outputs": [],
   "source": [
    "datasets = [train_data, test_data, full_data]"
   ]
  },
  {
   "cell_type": "code",
   "execution_count": 6,
   "metadata": {},
   "outputs": [
    {
     "name": "stdout",
     "output_type": "stream",
     "text": [
      "<class 'pandas.core.frame.DataFrame'>\n",
      "Index: 14149 entries, 2016-01-15 00:00:00 to 2018-08-18 10:59:59\n",
      "Data columns (total 86 columns):\n",
      " #   Column                                              Non-Null Count  Dtype  \n",
      "---  ------                                              --------------  -----  \n",
      " 0   final.output.concentrate_ag                         14148 non-null  float64\n",
      " 1   final.output.concentrate_pb                         14148 non-null  float64\n",
      " 2   final.output.concentrate_sol                        13938 non-null  float64\n",
      " 3   final.output.concentrate_au                         14149 non-null  float64\n",
      " 4   final.output.recovery                               14149 non-null  float64\n",
      " 5   final.output.tail_ag                                14149 non-null  float64\n",
      " 6   final.output.tail_pb                                14049 non-null  float64\n",
      " 7   final.output.tail_sol                               14144 non-null  float64\n",
      " 8   final.output.tail_au                                14149 non-null  float64\n",
      " 9   primary_cleaner.input.sulfate                       14129 non-null  float64\n",
      " 10  primary_cleaner.input.depressant                    14117 non-null  float64\n",
      " 11  primary_cleaner.input.feed_size                     14149 non-null  float64\n",
      " 12  primary_cleaner.input.xanthate                      14049 non-null  float64\n",
      " 13  primary_cleaner.output.concentrate_ag               14149 non-null  float64\n",
      " 14  primary_cleaner.output.concentrate_pb               14063 non-null  float64\n",
      " 15  primary_cleaner.output.concentrate_sol              13863 non-null  float64\n",
      " 16  primary_cleaner.output.concentrate_au               14149 non-null  float64\n",
      " 17  primary_cleaner.output.tail_ag                      14148 non-null  float64\n",
      " 18  primary_cleaner.output.tail_pb                      14134 non-null  float64\n",
      " 19  primary_cleaner.output.tail_sol                     14103 non-null  float64\n",
      " 20  primary_cleaner.output.tail_au                      14149 non-null  float64\n",
      " 21  primary_cleaner.state.floatbank8_a_air              14145 non-null  float64\n",
      " 22  primary_cleaner.state.floatbank8_a_level            14148 non-null  float64\n",
      " 23  primary_cleaner.state.floatbank8_b_air              14145 non-null  float64\n",
      " 24  primary_cleaner.state.floatbank8_b_level            14148 non-null  float64\n",
      " 25  primary_cleaner.state.floatbank8_c_air              14147 non-null  float64\n",
      " 26  primary_cleaner.state.floatbank8_c_level            14148 non-null  float64\n",
      " 27  primary_cleaner.state.floatbank8_d_air              14146 non-null  float64\n",
      " 28  primary_cleaner.state.floatbank8_d_level            14148 non-null  float64\n",
      " 29  rougher.calculation.sulfate_to_au_concentrate       14148 non-null  float64\n",
      " 30  rougher.calculation.floatbank10_sulfate_to_au_feed  14148 non-null  float64\n",
      " 31  rougher.calculation.floatbank11_sulfate_to_au_feed  14148 non-null  float64\n",
      " 32  rougher.calculation.au_pb_ratio                     14149 non-null  float64\n",
      " 33  rougher.input.feed_ag                               14149 non-null  float64\n",
      " 34  rougher.input.feed_pb                               14049 non-null  float64\n",
      " 35  rougher.input.feed_rate                             14141 non-null  float64\n",
      " 36  rougher.input.feed_size                             14005 non-null  float64\n",
      " 37  rougher.input.feed_sol                              14071 non-null  float64\n",
      " 38  rougher.input.feed_au                               14149 non-null  float64\n",
      " 39  rougher.input.floatbank10_sulfate                   14120 non-null  float64\n",
      " 40  rougher.input.floatbank10_xanthate                  14141 non-null  float64\n",
      " 41  rougher.input.floatbank11_sulfate                   14113 non-null  float64\n",
      " 42  rougher.input.floatbank11_xanthate                  13721 non-null  float64\n",
      " 43  rougher.output.concentrate_ag                       14149 non-null  float64\n",
      " 44  rougher.output.concentrate_pb                       14149 non-null  float64\n",
      " 45  rougher.output.concentrate_sol                      14127 non-null  float64\n",
      " 46  rougher.output.concentrate_au                       14149 non-null  float64\n",
      " 47  rougher.output.recovery                             14149 non-null  float64\n",
      " 48  rougher.output.tail_ag                              14148 non-null  float64\n",
      " 49  rougher.output.tail_pb                              14149 non-null  float64\n",
      " 50  rougher.output.tail_sol                             14149 non-null  float64\n",
      " 51  rougher.output.tail_au                              14149 non-null  float64\n",
      " 52  rougher.state.floatbank10_a_air                     14148 non-null  float64\n",
      " 53  rougher.state.floatbank10_a_level                   14148 non-null  float64\n",
      " 54  rougher.state.floatbank10_b_air                     14148 non-null  float64\n",
      " 55  rougher.state.floatbank10_b_level                   14148 non-null  float64\n",
      " 56  rougher.state.floatbank10_c_air                     14148 non-null  float64\n",
      " 57  rougher.state.floatbank10_c_level                   14148 non-null  float64\n",
      " 58  rougher.state.floatbank10_d_air                     14149 non-null  float64\n",
      " 59  rougher.state.floatbank10_d_level                   14149 non-null  float64\n",
      " 60  rougher.state.floatbank10_e_air                     13713 non-null  float64\n",
      " 61  rougher.state.floatbank10_e_level                   14149 non-null  float64\n",
      " 62  rougher.state.floatbank10_f_air                     14149 non-null  float64\n",
      " 63  rougher.state.floatbank10_f_level                   14149 non-null  float64\n",
      " 64  secondary_cleaner.output.tail_ag                    14147 non-null  float64\n",
      " 65  secondary_cleaner.output.tail_pb                    14139 non-null  float64\n",
      " 66  secondary_cleaner.output.tail_sol                   12544 non-null  float64\n",
      " 67  secondary_cleaner.output.tail_au                    14149 non-null  float64\n",
      " 68  secondary_cleaner.state.floatbank2_a_air            13932 non-null  float64\n",
      " 69  secondary_cleaner.state.floatbank2_a_level          14148 non-null  float64\n",
      " 70  secondary_cleaner.state.floatbank2_b_air            14128 non-null  float64\n",
      " 71  secondary_cleaner.state.floatbank2_b_level          14148 non-null  float64\n",
      " 72  secondary_cleaner.state.floatbank3_a_air            14145 non-null  float64\n",
      " 73  secondary_cleaner.state.floatbank3_a_level          14148 non-null  float64\n",
      " 74  secondary_cleaner.state.floatbank3_b_air            14148 non-null  float64\n",
      " 75  secondary_cleaner.state.floatbank3_b_level          14148 non-null  float64\n",
      " 76  secondary_cleaner.state.floatbank4_a_air            14143 non-null  float64\n",
      " 77  secondary_cleaner.state.floatbank4_a_level          14148 non-null  float64\n",
      " 78  secondary_cleaner.state.floatbank4_b_air            14148 non-null  float64\n",
      " 79  secondary_cleaner.state.floatbank4_b_level          14148 non-null  float64\n",
      " 80  secondary_cleaner.state.floatbank5_a_air            14148 non-null  float64\n",
      " 81  secondary_cleaner.state.floatbank5_a_level          14148 non-null  float64\n",
      " 82  secondary_cleaner.state.floatbank5_b_air            14148 non-null  float64\n",
      " 83  secondary_cleaner.state.floatbank5_b_level          14148 non-null  float64\n",
      " 84  secondary_cleaner.state.floatbank6_a_air            14147 non-null  float64\n",
      " 85  secondary_cleaner.state.floatbank6_a_level          14148 non-null  float64\n",
      "dtypes: float64(86)\n",
      "memory usage: 9.4+ MB\n"
     ]
    },
    {
     "data": {
      "text/plain": [
       "None"
      ]
     },
     "metadata": {},
     "output_type": "display_data"
    },
    {
     "name": "stdout",
     "output_type": "stream",
     "text": [
      "<class 'pandas.core.frame.DataFrame'>\n",
      "Index: 5290 entries, 2016-09-01 00:59:59 to 2017-12-31 23:59:59\n",
      "Data columns (total 52 columns):\n",
      " #   Column                                      Non-Null Count  Dtype  \n",
      "---  ------                                      --------------  -----  \n",
      " 0   primary_cleaner.input.sulfate               5286 non-null   float64\n",
      " 1   primary_cleaner.input.depressant            5285 non-null   float64\n",
      " 2   primary_cleaner.input.feed_size             5290 non-null   float64\n",
      " 3   primary_cleaner.input.xanthate              5286 non-null   float64\n",
      " 4   primary_cleaner.state.floatbank8_a_air      5290 non-null   float64\n",
      " 5   primary_cleaner.state.floatbank8_a_level    5290 non-null   float64\n",
      " 6   primary_cleaner.state.floatbank8_b_air      5290 non-null   float64\n",
      " 7   primary_cleaner.state.floatbank8_b_level    5290 non-null   float64\n",
      " 8   primary_cleaner.state.floatbank8_c_air      5290 non-null   float64\n",
      " 9   primary_cleaner.state.floatbank8_c_level    5290 non-null   float64\n",
      " 10  primary_cleaner.state.floatbank8_d_air      5290 non-null   float64\n",
      " 11  primary_cleaner.state.floatbank8_d_level    5290 non-null   float64\n",
      " 12  rougher.input.feed_ag                       5290 non-null   float64\n",
      " 13  rougher.input.feed_pb                       5290 non-null   float64\n",
      " 14  rougher.input.feed_rate                     5287 non-null   float64\n",
      " 15  rougher.input.feed_size                     5289 non-null   float64\n",
      " 16  rougher.input.feed_sol                      5269 non-null   float64\n",
      " 17  rougher.input.feed_au                       5290 non-null   float64\n",
      " 18  rougher.input.floatbank10_sulfate           5285 non-null   float64\n",
      " 19  rougher.input.floatbank10_xanthate          5290 non-null   float64\n",
      " 20  rougher.input.floatbank11_sulfate           5282 non-null   float64\n",
      " 21  rougher.input.floatbank11_xanthate          5265 non-null   float64\n",
      " 22  rougher.state.floatbank10_a_air             5290 non-null   float64\n",
      " 23  rougher.state.floatbank10_a_level           5290 non-null   float64\n",
      " 24  rougher.state.floatbank10_b_air             5290 non-null   float64\n",
      " 25  rougher.state.floatbank10_b_level           5290 non-null   float64\n",
      " 26  rougher.state.floatbank10_c_air             5290 non-null   float64\n",
      " 27  rougher.state.floatbank10_c_level           5290 non-null   float64\n",
      " 28  rougher.state.floatbank10_d_air             5290 non-null   float64\n",
      " 29  rougher.state.floatbank10_d_level           5290 non-null   float64\n",
      " 30  rougher.state.floatbank10_e_air             5290 non-null   float64\n",
      " 31  rougher.state.floatbank10_e_level           5290 non-null   float64\n",
      " 32  rougher.state.floatbank10_f_air             5290 non-null   float64\n",
      " 33  rougher.state.floatbank10_f_level           5290 non-null   float64\n",
      " 34  secondary_cleaner.state.floatbank2_a_air    5287 non-null   float64\n",
      " 35  secondary_cleaner.state.floatbank2_a_level  5290 non-null   float64\n",
      " 36  secondary_cleaner.state.floatbank2_b_air    5288 non-null   float64\n",
      " 37  secondary_cleaner.state.floatbank2_b_level  5290 non-null   float64\n",
      " 38  secondary_cleaner.state.floatbank3_a_air    5281 non-null   float64\n",
      " 39  secondary_cleaner.state.floatbank3_a_level  5290 non-null   float64\n",
      " 40  secondary_cleaner.state.floatbank3_b_air    5290 non-null   float64\n",
      " 41  secondary_cleaner.state.floatbank3_b_level  5290 non-null   float64\n",
      " 42  secondary_cleaner.state.floatbank4_a_air    5290 non-null   float64\n",
      " 43  secondary_cleaner.state.floatbank4_a_level  5290 non-null   float64\n",
      " 44  secondary_cleaner.state.floatbank4_b_air    5290 non-null   float64\n",
      " 45  secondary_cleaner.state.floatbank4_b_level  5290 non-null   float64\n",
      " 46  secondary_cleaner.state.floatbank5_a_air    5290 non-null   float64\n",
      " 47  secondary_cleaner.state.floatbank5_a_level  5290 non-null   float64\n",
      " 48  secondary_cleaner.state.floatbank5_b_air    5290 non-null   float64\n",
      " 49  secondary_cleaner.state.floatbank5_b_level  5290 non-null   float64\n",
      " 50  secondary_cleaner.state.floatbank6_a_air    5290 non-null   float64\n",
      " 51  secondary_cleaner.state.floatbank6_a_level  5290 non-null   float64\n",
      "dtypes: float64(52)\n",
      "memory usage: 2.1+ MB\n"
     ]
    },
    {
     "data": {
      "text/plain": [
       "None"
      ]
     },
     "metadata": {},
     "output_type": "display_data"
    },
    {
     "name": "stdout",
     "output_type": "stream",
     "text": [
      "<class 'pandas.core.frame.DataFrame'>\n",
      "Index: 19439 entries, 2016-01-15 00:00:00 to 2018-08-18 10:59:59\n",
      "Data columns (total 86 columns):\n",
      " #   Column                                              Non-Null Count  Dtype  \n",
      "---  ------                                              --------------  -----  \n",
      " 0   final.output.concentrate_ag                         19438 non-null  float64\n",
      " 1   final.output.concentrate_pb                         19438 non-null  float64\n",
      " 2   final.output.concentrate_sol                        19228 non-null  float64\n",
      " 3   final.output.concentrate_au                         19439 non-null  float64\n",
      " 4   final.output.recovery                               19439 non-null  float64\n",
      " 5   final.output.tail_ag                                19438 non-null  float64\n",
      " 6   final.output.tail_pb                                19338 non-null  float64\n",
      " 7   final.output.tail_sol                               19433 non-null  float64\n",
      " 8   final.output.tail_au                                19439 non-null  float64\n",
      " 9   primary_cleaner.input.sulfate                       19415 non-null  float64\n",
      " 10  primary_cleaner.input.depressant                    19402 non-null  float64\n",
      " 11  primary_cleaner.input.feed_size                     19439 non-null  float64\n",
      " 12  primary_cleaner.input.xanthate                      19335 non-null  float64\n",
      " 13  primary_cleaner.output.concentrate_ag               19439 non-null  float64\n",
      " 14  primary_cleaner.output.concentrate_pb               19323 non-null  float64\n",
      " 15  primary_cleaner.output.concentrate_sol              19069 non-null  float64\n",
      " 16  primary_cleaner.output.concentrate_au               19439 non-null  float64\n",
      " 17  primary_cleaner.output.tail_ag                      19435 non-null  float64\n",
      " 18  primary_cleaner.output.tail_pb                      19418 non-null  float64\n",
      " 19  primary_cleaner.output.tail_sol                     19377 non-null  float64\n",
      " 20  primary_cleaner.output.tail_au                      19439 non-null  float64\n",
      " 21  primary_cleaner.state.floatbank8_a_air              19435 non-null  float64\n",
      " 22  primary_cleaner.state.floatbank8_a_level            19438 non-null  float64\n",
      " 23  primary_cleaner.state.floatbank8_b_air              19435 non-null  float64\n",
      " 24  primary_cleaner.state.floatbank8_b_level            19438 non-null  float64\n",
      " 25  primary_cleaner.state.floatbank8_c_air              19437 non-null  float64\n",
      " 26  primary_cleaner.state.floatbank8_c_level            19438 non-null  float64\n",
      " 27  primary_cleaner.state.floatbank8_d_air              19436 non-null  float64\n",
      " 28  primary_cleaner.state.floatbank8_d_level            19438 non-null  float64\n",
      " 29  rougher.calculation.sulfate_to_au_concentrate       19437 non-null  float64\n",
      " 30  rougher.calculation.floatbank10_sulfate_to_au_feed  19437 non-null  float64\n",
      " 31  rougher.calculation.floatbank11_sulfate_to_au_feed  19437 non-null  float64\n",
      " 32  rougher.calculation.au_pb_ratio                     19439 non-null  float64\n",
      " 33  rougher.input.feed_ag                               19439 non-null  float64\n",
      " 34  rougher.input.feed_pb                               19339 non-null  float64\n",
      " 35  rougher.input.feed_rate                             19428 non-null  float64\n",
      " 36  rougher.input.feed_size                             19294 non-null  float64\n",
      " 37  rougher.input.feed_sol                              19340 non-null  float64\n",
      " 38  rougher.input.feed_au                               19439 non-null  float64\n",
      " 39  rougher.input.floatbank10_sulfate                   19405 non-null  float64\n",
      " 40  rougher.input.floatbank10_xanthate                  19431 non-null  float64\n",
      " 41  rougher.input.floatbank11_sulfate                   19395 non-null  float64\n",
      " 42  rougher.input.floatbank11_xanthate                  18986 non-null  float64\n",
      " 43  rougher.output.concentrate_ag                       19439 non-null  float64\n",
      " 44  rougher.output.concentrate_pb                       19439 non-null  float64\n",
      " 45  rougher.output.concentrate_sol                      19416 non-null  float64\n",
      " 46  rougher.output.concentrate_au                       19439 non-null  float64\n",
      " 47  rougher.output.recovery                             19439 non-null  float64\n",
      " 48  rougher.output.tail_ag                              19438 non-null  float64\n",
      " 49  rougher.output.tail_pb                              19439 non-null  float64\n",
      " 50  rougher.output.tail_sol                             19439 non-null  float64\n",
      " 51  rougher.output.tail_au                              19439 non-null  float64\n",
      " 52  rougher.state.floatbank10_a_air                     19438 non-null  float64\n",
      " 53  rougher.state.floatbank10_a_level                   19438 non-null  float64\n",
      " 54  rougher.state.floatbank10_b_air                     19438 non-null  float64\n",
      " 55  rougher.state.floatbank10_b_level                   19438 non-null  float64\n",
      " 56  rougher.state.floatbank10_c_air                     19438 non-null  float64\n",
      " 57  rougher.state.floatbank10_c_level                   19438 non-null  float64\n",
      " 58  rougher.state.floatbank10_d_air                     19439 non-null  float64\n",
      " 59  rougher.state.floatbank10_d_level                   19439 non-null  float64\n",
      " 60  rougher.state.floatbank10_e_air                     19003 non-null  float64\n",
      " 61  rougher.state.floatbank10_e_level                   19439 non-null  float64\n",
      " 62  rougher.state.floatbank10_f_air                     19439 non-null  float64\n",
      " 63  rougher.state.floatbank10_f_level                   19439 non-null  float64\n",
      " 64  secondary_cleaner.output.tail_ag                    19437 non-null  float64\n",
      " 65  secondary_cleaner.output.tail_pb                    19427 non-null  float64\n",
      " 66  secondary_cleaner.output.tail_sol                   17691 non-null  float64\n",
      " 67  secondary_cleaner.output.tail_au                    19439 non-null  float64\n",
      " 68  secondary_cleaner.state.floatbank2_a_air            19219 non-null  float64\n",
      " 69  secondary_cleaner.state.floatbank2_a_level          19438 non-null  float64\n",
      " 70  secondary_cleaner.state.floatbank2_b_air            19416 non-null  float64\n",
      " 71  secondary_cleaner.state.floatbank2_b_level          19438 non-null  float64\n",
      " 72  secondary_cleaner.state.floatbank3_a_air            19426 non-null  float64\n",
      " 73  secondary_cleaner.state.floatbank3_a_level          19438 non-null  float64\n",
      " 74  secondary_cleaner.state.floatbank3_b_air            19438 non-null  float64\n",
      " 75  secondary_cleaner.state.floatbank3_b_level          19438 non-null  float64\n",
      " 76  secondary_cleaner.state.floatbank4_a_air            19433 non-null  float64\n",
      " 77  secondary_cleaner.state.floatbank4_a_level          19438 non-null  float64\n",
      " 78  secondary_cleaner.state.floatbank4_b_air            19438 non-null  float64\n",
      " 79  secondary_cleaner.state.floatbank4_b_level          19438 non-null  float64\n",
      " 80  secondary_cleaner.state.floatbank5_a_air            19438 non-null  float64\n",
      " 81  secondary_cleaner.state.floatbank5_a_level          19438 non-null  float64\n",
      " 82  secondary_cleaner.state.floatbank5_b_air            19438 non-null  float64\n",
      " 83  secondary_cleaner.state.floatbank5_b_level          19438 non-null  float64\n",
      " 84  secondary_cleaner.state.floatbank6_a_air            19437 non-null  float64\n",
      " 85  secondary_cleaner.state.floatbank6_a_level          19438 non-null  float64\n",
      "dtypes: float64(86)\n",
      "memory usage: 12.9+ MB\n"
     ]
    },
    {
     "data": {
      "text/plain": [
       "None"
      ]
     },
     "metadata": {},
     "output_type": "display_data"
    }
   ],
   "source": [
    "for dataset in datasets:\n",
    "    display(dataset.info())\n",
    "    "
   ]
  },
  {
   "cell_type": "code",
   "execution_count": 7,
   "metadata": {
    "scrolled": true
   },
   "outputs": [
    {
     "data": {
      "text/html": [
       "<div>\n",
       "<style scoped>\n",
       "    .dataframe tbody tr th:only-of-type {\n",
       "        vertical-align: middle;\n",
       "    }\n",
       "\n",
       "    .dataframe tbody tr th {\n",
       "        vertical-align: top;\n",
       "    }\n",
       "\n",
       "    .dataframe thead th {\n",
       "        text-align: right;\n",
       "    }\n",
       "</style>\n",
       "<table border=\"1\" class=\"dataframe\">\n",
       "  <thead>\n",
       "    <tr style=\"text-align: right;\">\n",
       "      <th></th>\n",
       "      <th>final.output.concentrate_ag</th>\n",
       "      <th>final.output.concentrate_pb</th>\n",
       "      <th>final.output.concentrate_sol</th>\n",
       "      <th>final.output.concentrate_au</th>\n",
       "      <th>final.output.recovery</th>\n",
       "      <th>final.output.tail_ag</th>\n",
       "      <th>final.output.tail_pb</th>\n",
       "      <th>final.output.tail_sol</th>\n",
       "      <th>final.output.tail_au</th>\n",
       "      <th>primary_cleaner.input.sulfate</th>\n",
       "      <th>...</th>\n",
       "      <th>secondary_cleaner.state.floatbank4_a_air</th>\n",
       "      <th>secondary_cleaner.state.floatbank4_a_level</th>\n",
       "      <th>secondary_cleaner.state.floatbank4_b_air</th>\n",
       "      <th>secondary_cleaner.state.floatbank4_b_level</th>\n",
       "      <th>secondary_cleaner.state.floatbank5_a_air</th>\n",
       "      <th>secondary_cleaner.state.floatbank5_a_level</th>\n",
       "      <th>secondary_cleaner.state.floatbank5_b_air</th>\n",
       "      <th>secondary_cleaner.state.floatbank5_b_level</th>\n",
       "      <th>secondary_cleaner.state.floatbank6_a_air</th>\n",
       "      <th>secondary_cleaner.state.floatbank6_a_level</th>\n",
       "    </tr>\n",
       "    <tr>\n",
       "      <th>date</th>\n",
       "      <th></th>\n",
       "      <th></th>\n",
       "      <th></th>\n",
       "      <th></th>\n",
       "      <th></th>\n",
       "      <th></th>\n",
       "      <th></th>\n",
       "      <th></th>\n",
       "      <th></th>\n",
       "      <th></th>\n",
       "      <th></th>\n",
       "      <th></th>\n",
       "      <th></th>\n",
       "      <th></th>\n",
       "      <th></th>\n",
       "      <th></th>\n",
       "      <th></th>\n",
       "      <th></th>\n",
       "      <th></th>\n",
       "      <th></th>\n",
       "      <th></th>\n",
       "    </tr>\n",
       "  </thead>\n",
       "  <tbody>\n",
       "    <tr>\n",
       "      <th>2016-01-15 00:00:00</th>\n",
       "      <td>6.055403</td>\n",
       "      <td>9.889648</td>\n",
       "      <td>5.507324</td>\n",
       "      <td>42.192020</td>\n",
       "      <td>70.541216</td>\n",
       "      <td>10.411962</td>\n",
       "      <td>0.895447</td>\n",
       "      <td>16.904297</td>\n",
       "      <td>2.143149</td>\n",
       "      <td>127.092003</td>\n",
       "      <td>...</td>\n",
       "      <td>14.016835</td>\n",
       "      <td>-502.488007</td>\n",
       "      <td>12.099931</td>\n",
       "      <td>-504.715942</td>\n",
       "      <td>9.925633</td>\n",
       "      <td>-498.310211</td>\n",
       "      <td>8.079666</td>\n",
       "      <td>-500.470978</td>\n",
       "      <td>14.151341</td>\n",
       "      <td>-605.841980</td>\n",
       "    </tr>\n",
       "    <tr>\n",
       "      <th>2016-01-15 01:00:00</th>\n",
       "      <td>6.029369</td>\n",
       "      <td>9.968944</td>\n",
       "      <td>5.257781</td>\n",
       "      <td>42.701629</td>\n",
       "      <td>69.266198</td>\n",
       "      <td>10.462676</td>\n",
       "      <td>0.927452</td>\n",
       "      <td>16.634514</td>\n",
       "      <td>2.224930</td>\n",
       "      <td>125.629232</td>\n",
       "      <td>...</td>\n",
       "      <td>13.992281</td>\n",
       "      <td>-505.503262</td>\n",
       "      <td>11.950531</td>\n",
       "      <td>-501.331529</td>\n",
       "      <td>10.039245</td>\n",
       "      <td>-500.169983</td>\n",
       "      <td>7.984757</td>\n",
       "      <td>-500.582168</td>\n",
       "      <td>13.998353</td>\n",
       "      <td>-599.787184</td>\n",
       "    </tr>\n",
       "    <tr>\n",
       "      <th>2016-01-15 02:00:00</th>\n",
       "      <td>6.055926</td>\n",
       "      <td>10.213995</td>\n",
       "      <td>5.383759</td>\n",
       "      <td>42.657501</td>\n",
       "      <td>68.116445</td>\n",
       "      <td>10.507046</td>\n",
       "      <td>0.953716</td>\n",
       "      <td>16.208849</td>\n",
       "      <td>2.257889</td>\n",
       "      <td>123.819808</td>\n",
       "      <td>...</td>\n",
       "      <td>14.015015</td>\n",
       "      <td>-502.520901</td>\n",
       "      <td>11.912783</td>\n",
       "      <td>-501.133383</td>\n",
       "      <td>10.070913</td>\n",
       "      <td>-500.129135</td>\n",
       "      <td>8.013877</td>\n",
       "      <td>-500.517572</td>\n",
       "      <td>14.028663</td>\n",
       "      <td>-601.427363</td>\n",
       "    </tr>\n",
       "    <tr>\n",
       "      <th>2016-01-15 03:00:00</th>\n",
       "      <td>6.047977</td>\n",
       "      <td>9.977019</td>\n",
       "      <td>4.858634</td>\n",
       "      <td>42.689819</td>\n",
       "      <td>68.347543</td>\n",
       "      <td>10.422762</td>\n",
       "      <td>0.883763</td>\n",
       "      <td>16.532835</td>\n",
       "      <td>2.146849</td>\n",
       "      <td>122.270188</td>\n",
       "      <td>...</td>\n",
       "      <td>14.036510</td>\n",
       "      <td>-500.857308</td>\n",
       "      <td>11.999550</td>\n",
       "      <td>-501.193686</td>\n",
       "      <td>9.970366</td>\n",
       "      <td>-499.201640</td>\n",
       "      <td>7.977324</td>\n",
       "      <td>-500.255908</td>\n",
       "      <td>14.005551</td>\n",
       "      <td>-599.996129</td>\n",
       "    </tr>\n",
       "    <tr>\n",
       "      <th>2016-01-15 04:00:00</th>\n",
       "      <td>6.148599</td>\n",
       "      <td>10.142511</td>\n",
       "      <td>4.939416</td>\n",
       "      <td>42.774141</td>\n",
       "      <td>66.927016</td>\n",
       "      <td>10.360302</td>\n",
       "      <td>0.792826</td>\n",
       "      <td>16.525686</td>\n",
       "      <td>2.055292</td>\n",
       "      <td>117.988169</td>\n",
       "      <td>...</td>\n",
       "      <td>14.027298</td>\n",
       "      <td>-499.838632</td>\n",
       "      <td>11.953070</td>\n",
       "      <td>-501.053894</td>\n",
       "      <td>9.925709</td>\n",
       "      <td>-501.686727</td>\n",
       "      <td>7.894242</td>\n",
       "      <td>-500.356035</td>\n",
       "      <td>13.996647</td>\n",
       "      <td>-601.496691</td>\n",
       "    </tr>\n",
       "  </tbody>\n",
       "</table>\n",
       "<p>5 rows × 86 columns</p>\n",
       "</div>"
      ],
      "text/plain": [
       "                     final.output.concentrate_ag  final.output.concentrate_pb  \\\n",
       "date                                                                            \n",
       "2016-01-15 00:00:00                     6.055403                     9.889648   \n",
       "2016-01-15 01:00:00                     6.029369                     9.968944   \n",
       "2016-01-15 02:00:00                     6.055926                    10.213995   \n",
       "2016-01-15 03:00:00                     6.047977                     9.977019   \n",
       "2016-01-15 04:00:00                     6.148599                    10.142511   \n",
       "\n",
       "                     final.output.concentrate_sol  \\\n",
       "date                                                \n",
       "2016-01-15 00:00:00                      5.507324   \n",
       "2016-01-15 01:00:00                      5.257781   \n",
       "2016-01-15 02:00:00                      5.383759   \n",
       "2016-01-15 03:00:00                      4.858634   \n",
       "2016-01-15 04:00:00                      4.939416   \n",
       "\n",
       "                     final.output.concentrate_au  final.output.recovery  \\\n",
       "date                                                                      \n",
       "2016-01-15 00:00:00                    42.192020              70.541216   \n",
       "2016-01-15 01:00:00                    42.701629              69.266198   \n",
       "2016-01-15 02:00:00                    42.657501              68.116445   \n",
       "2016-01-15 03:00:00                    42.689819              68.347543   \n",
       "2016-01-15 04:00:00                    42.774141              66.927016   \n",
       "\n",
       "                     final.output.tail_ag  final.output.tail_pb  \\\n",
       "date                                                              \n",
       "2016-01-15 00:00:00             10.411962              0.895447   \n",
       "2016-01-15 01:00:00             10.462676              0.927452   \n",
       "2016-01-15 02:00:00             10.507046              0.953716   \n",
       "2016-01-15 03:00:00             10.422762              0.883763   \n",
       "2016-01-15 04:00:00             10.360302              0.792826   \n",
       "\n",
       "                     final.output.tail_sol  final.output.tail_au  \\\n",
       "date                                                               \n",
       "2016-01-15 00:00:00              16.904297              2.143149   \n",
       "2016-01-15 01:00:00              16.634514              2.224930   \n",
       "2016-01-15 02:00:00              16.208849              2.257889   \n",
       "2016-01-15 03:00:00              16.532835              2.146849   \n",
       "2016-01-15 04:00:00              16.525686              2.055292   \n",
       "\n",
       "                     primary_cleaner.input.sulfate  ...  \\\n",
       "date                                                ...   \n",
       "2016-01-15 00:00:00                     127.092003  ...   \n",
       "2016-01-15 01:00:00                     125.629232  ...   \n",
       "2016-01-15 02:00:00                     123.819808  ...   \n",
       "2016-01-15 03:00:00                     122.270188  ...   \n",
       "2016-01-15 04:00:00                     117.988169  ...   \n",
       "\n",
       "                     secondary_cleaner.state.floatbank4_a_air  \\\n",
       "date                                                            \n",
       "2016-01-15 00:00:00                                 14.016835   \n",
       "2016-01-15 01:00:00                                 13.992281   \n",
       "2016-01-15 02:00:00                                 14.015015   \n",
       "2016-01-15 03:00:00                                 14.036510   \n",
       "2016-01-15 04:00:00                                 14.027298   \n",
       "\n",
       "                     secondary_cleaner.state.floatbank4_a_level  \\\n",
       "date                                                              \n",
       "2016-01-15 00:00:00                                 -502.488007   \n",
       "2016-01-15 01:00:00                                 -505.503262   \n",
       "2016-01-15 02:00:00                                 -502.520901   \n",
       "2016-01-15 03:00:00                                 -500.857308   \n",
       "2016-01-15 04:00:00                                 -499.838632   \n",
       "\n",
       "                     secondary_cleaner.state.floatbank4_b_air  \\\n",
       "date                                                            \n",
       "2016-01-15 00:00:00                                 12.099931   \n",
       "2016-01-15 01:00:00                                 11.950531   \n",
       "2016-01-15 02:00:00                                 11.912783   \n",
       "2016-01-15 03:00:00                                 11.999550   \n",
       "2016-01-15 04:00:00                                 11.953070   \n",
       "\n",
       "                     secondary_cleaner.state.floatbank4_b_level  \\\n",
       "date                                                              \n",
       "2016-01-15 00:00:00                                 -504.715942   \n",
       "2016-01-15 01:00:00                                 -501.331529   \n",
       "2016-01-15 02:00:00                                 -501.133383   \n",
       "2016-01-15 03:00:00                                 -501.193686   \n",
       "2016-01-15 04:00:00                                 -501.053894   \n",
       "\n",
       "                     secondary_cleaner.state.floatbank5_a_air  \\\n",
       "date                                                            \n",
       "2016-01-15 00:00:00                                  9.925633   \n",
       "2016-01-15 01:00:00                                 10.039245   \n",
       "2016-01-15 02:00:00                                 10.070913   \n",
       "2016-01-15 03:00:00                                  9.970366   \n",
       "2016-01-15 04:00:00                                  9.925709   \n",
       "\n",
       "                     secondary_cleaner.state.floatbank5_a_level  \\\n",
       "date                                                              \n",
       "2016-01-15 00:00:00                                 -498.310211   \n",
       "2016-01-15 01:00:00                                 -500.169983   \n",
       "2016-01-15 02:00:00                                 -500.129135   \n",
       "2016-01-15 03:00:00                                 -499.201640   \n",
       "2016-01-15 04:00:00                                 -501.686727   \n",
       "\n",
       "                     secondary_cleaner.state.floatbank5_b_air  \\\n",
       "date                                                            \n",
       "2016-01-15 00:00:00                                  8.079666   \n",
       "2016-01-15 01:00:00                                  7.984757   \n",
       "2016-01-15 02:00:00                                  8.013877   \n",
       "2016-01-15 03:00:00                                  7.977324   \n",
       "2016-01-15 04:00:00                                  7.894242   \n",
       "\n",
       "                     secondary_cleaner.state.floatbank5_b_level  \\\n",
       "date                                                              \n",
       "2016-01-15 00:00:00                                 -500.470978   \n",
       "2016-01-15 01:00:00                                 -500.582168   \n",
       "2016-01-15 02:00:00                                 -500.517572   \n",
       "2016-01-15 03:00:00                                 -500.255908   \n",
       "2016-01-15 04:00:00                                 -500.356035   \n",
       "\n",
       "                     secondary_cleaner.state.floatbank6_a_air  \\\n",
       "date                                                            \n",
       "2016-01-15 00:00:00                                 14.151341   \n",
       "2016-01-15 01:00:00                                 13.998353   \n",
       "2016-01-15 02:00:00                                 14.028663   \n",
       "2016-01-15 03:00:00                                 14.005551   \n",
       "2016-01-15 04:00:00                                 13.996647   \n",
       "\n",
       "                     secondary_cleaner.state.floatbank6_a_level  \n",
       "date                                                             \n",
       "2016-01-15 00:00:00                                 -605.841980  \n",
       "2016-01-15 01:00:00                                 -599.787184  \n",
       "2016-01-15 02:00:00                                 -601.427363  \n",
       "2016-01-15 03:00:00                                 -599.996129  \n",
       "2016-01-15 04:00:00                                 -601.496691  \n",
       "\n",
       "[5 rows x 86 columns]"
      ]
     },
     "metadata": {},
     "output_type": "display_data"
    },
    {
     "data": {
      "text/html": [
       "<div>\n",
       "<style scoped>\n",
       "    .dataframe tbody tr th:only-of-type {\n",
       "        vertical-align: middle;\n",
       "    }\n",
       "\n",
       "    .dataframe tbody tr th {\n",
       "        vertical-align: top;\n",
       "    }\n",
       "\n",
       "    .dataframe thead th {\n",
       "        text-align: right;\n",
       "    }\n",
       "</style>\n",
       "<table border=\"1\" class=\"dataframe\">\n",
       "  <thead>\n",
       "    <tr style=\"text-align: right;\">\n",
       "      <th></th>\n",
       "      <th>primary_cleaner.input.sulfate</th>\n",
       "      <th>primary_cleaner.input.depressant</th>\n",
       "      <th>primary_cleaner.input.feed_size</th>\n",
       "      <th>primary_cleaner.input.xanthate</th>\n",
       "      <th>primary_cleaner.state.floatbank8_a_air</th>\n",
       "      <th>primary_cleaner.state.floatbank8_a_level</th>\n",
       "      <th>primary_cleaner.state.floatbank8_b_air</th>\n",
       "      <th>primary_cleaner.state.floatbank8_b_level</th>\n",
       "      <th>primary_cleaner.state.floatbank8_c_air</th>\n",
       "      <th>primary_cleaner.state.floatbank8_c_level</th>\n",
       "      <th>...</th>\n",
       "      <th>secondary_cleaner.state.floatbank4_a_air</th>\n",
       "      <th>secondary_cleaner.state.floatbank4_a_level</th>\n",
       "      <th>secondary_cleaner.state.floatbank4_b_air</th>\n",
       "      <th>secondary_cleaner.state.floatbank4_b_level</th>\n",
       "      <th>secondary_cleaner.state.floatbank5_a_air</th>\n",
       "      <th>secondary_cleaner.state.floatbank5_a_level</th>\n",
       "      <th>secondary_cleaner.state.floatbank5_b_air</th>\n",
       "      <th>secondary_cleaner.state.floatbank5_b_level</th>\n",
       "      <th>secondary_cleaner.state.floatbank6_a_air</th>\n",
       "      <th>secondary_cleaner.state.floatbank6_a_level</th>\n",
       "    </tr>\n",
       "    <tr>\n",
       "      <th>date</th>\n",
       "      <th></th>\n",
       "      <th></th>\n",
       "      <th></th>\n",
       "      <th></th>\n",
       "      <th></th>\n",
       "      <th></th>\n",
       "      <th></th>\n",
       "      <th></th>\n",
       "      <th></th>\n",
       "      <th></th>\n",
       "      <th></th>\n",
       "      <th></th>\n",
       "      <th></th>\n",
       "      <th></th>\n",
       "      <th></th>\n",
       "      <th></th>\n",
       "      <th></th>\n",
       "      <th></th>\n",
       "      <th></th>\n",
       "      <th></th>\n",
       "      <th></th>\n",
       "    </tr>\n",
       "  </thead>\n",
       "  <tbody>\n",
       "    <tr>\n",
       "      <th>2016-09-01 00:59:59</th>\n",
       "      <td>210.800909</td>\n",
       "      <td>14.993118</td>\n",
       "      <td>8.080000</td>\n",
       "      <td>1.005021</td>\n",
       "      <td>1398.981301</td>\n",
       "      <td>-500.225577</td>\n",
       "      <td>1399.144926</td>\n",
       "      <td>-499.919735</td>\n",
       "      <td>1400.102998</td>\n",
       "      <td>-500.704369</td>\n",
       "      <td>...</td>\n",
       "      <td>12.023554</td>\n",
       "      <td>-497.795834</td>\n",
       "      <td>8.016656</td>\n",
       "      <td>-501.289139</td>\n",
       "      <td>7.946562</td>\n",
       "      <td>-432.317850</td>\n",
       "      <td>4.872511</td>\n",
       "      <td>-500.037437</td>\n",
       "      <td>26.705889</td>\n",
       "      <td>-499.709414</td>\n",
       "    </tr>\n",
       "    <tr>\n",
       "      <th>2016-09-01 01:59:59</th>\n",
       "      <td>215.392455</td>\n",
       "      <td>14.987471</td>\n",
       "      <td>8.080000</td>\n",
       "      <td>0.990469</td>\n",
       "      <td>1398.777912</td>\n",
       "      <td>-500.057435</td>\n",
       "      <td>1398.055362</td>\n",
       "      <td>-499.778182</td>\n",
       "      <td>1396.151033</td>\n",
       "      <td>-499.240168</td>\n",
       "      <td>...</td>\n",
       "      <td>12.058140</td>\n",
       "      <td>-498.695773</td>\n",
       "      <td>8.130979</td>\n",
       "      <td>-499.634209</td>\n",
       "      <td>7.958270</td>\n",
       "      <td>-525.839648</td>\n",
       "      <td>4.878850</td>\n",
       "      <td>-500.162375</td>\n",
       "      <td>25.019940</td>\n",
       "      <td>-499.819438</td>\n",
       "    </tr>\n",
       "    <tr>\n",
       "      <th>2016-09-01 02:59:59</th>\n",
       "      <td>215.259946</td>\n",
       "      <td>12.884934</td>\n",
       "      <td>7.786667</td>\n",
       "      <td>0.996043</td>\n",
       "      <td>1398.493666</td>\n",
       "      <td>-500.868360</td>\n",
       "      <td>1398.860436</td>\n",
       "      <td>-499.764529</td>\n",
       "      <td>1398.075709</td>\n",
       "      <td>-502.151509</td>\n",
       "      <td>...</td>\n",
       "      <td>11.962366</td>\n",
       "      <td>-498.767484</td>\n",
       "      <td>8.096893</td>\n",
       "      <td>-500.827423</td>\n",
       "      <td>8.071056</td>\n",
       "      <td>-500.801673</td>\n",
       "      <td>4.905125</td>\n",
       "      <td>-499.828510</td>\n",
       "      <td>24.994862</td>\n",
       "      <td>-500.622559</td>\n",
       "    </tr>\n",
       "    <tr>\n",
       "      <th>2016-09-01 03:59:59</th>\n",
       "      <td>215.336236</td>\n",
       "      <td>12.006805</td>\n",
       "      <td>7.640000</td>\n",
       "      <td>0.863514</td>\n",
       "      <td>1399.618111</td>\n",
       "      <td>-498.863574</td>\n",
       "      <td>1397.440120</td>\n",
       "      <td>-499.211024</td>\n",
       "      <td>1400.129303</td>\n",
       "      <td>-498.355873</td>\n",
       "      <td>...</td>\n",
       "      <td>12.033091</td>\n",
       "      <td>-498.350935</td>\n",
       "      <td>8.074946</td>\n",
       "      <td>-499.474407</td>\n",
       "      <td>7.897085</td>\n",
       "      <td>-500.868509</td>\n",
       "      <td>4.931400</td>\n",
       "      <td>-499.963623</td>\n",
       "      <td>24.948919</td>\n",
       "      <td>-498.709987</td>\n",
       "    </tr>\n",
       "    <tr>\n",
       "      <th>2016-09-01 04:59:59</th>\n",
       "      <td>199.099327</td>\n",
       "      <td>10.682530</td>\n",
       "      <td>7.530000</td>\n",
       "      <td>0.805575</td>\n",
       "      <td>1401.268123</td>\n",
       "      <td>-500.808305</td>\n",
       "      <td>1398.128818</td>\n",
       "      <td>-499.504543</td>\n",
       "      <td>1402.172226</td>\n",
       "      <td>-500.810606</td>\n",
       "      <td>...</td>\n",
       "      <td>12.025367</td>\n",
       "      <td>-500.786497</td>\n",
       "      <td>8.054678</td>\n",
       "      <td>-500.397500</td>\n",
       "      <td>8.107890</td>\n",
       "      <td>-509.526725</td>\n",
       "      <td>4.957674</td>\n",
       "      <td>-500.360026</td>\n",
       "      <td>25.003331</td>\n",
       "      <td>-500.856333</td>\n",
       "    </tr>\n",
       "  </tbody>\n",
       "</table>\n",
       "<p>5 rows × 52 columns</p>\n",
       "</div>"
      ],
      "text/plain": [
       "                     primary_cleaner.input.sulfate  \\\n",
       "date                                                 \n",
       "2016-09-01 00:59:59                     210.800909   \n",
       "2016-09-01 01:59:59                     215.392455   \n",
       "2016-09-01 02:59:59                     215.259946   \n",
       "2016-09-01 03:59:59                     215.336236   \n",
       "2016-09-01 04:59:59                     199.099327   \n",
       "\n",
       "                     primary_cleaner.input.depressant  \\\n",
       "date                                                    \n",
       "2016-09-01 00:59:59                         14.993118   \n",
       "2016-09-01 01:59:59                         14.987471   \n",
       "2016-09-01 02:59:59                         12.884934   \n",
       "2016-09-01 03:59:59                         12.006805   \n",
       "2016-09-01 04:59:59                         10.682530   \n",
       "\n",
       "                     primary_cleaner.input.feed_size  \\\n",
       "date                                                   \n",
       "2016-09-01 00:59:59                         8.080000   \n",
       "2016-09-01 01:59:59                         8.080000   \n",
       "2016-09-01 02:59:59                         7.786667   \n",
       "2016-09-01 03:59:59                         7.640000   \n",
       "2016-09-01 04:59:59                         7.530000   \n",
       "\n",
       "                     primary_cleaner.input.xanthate  \\\n",
       "date                                                  \n",
       "2016-09-01 00:59:59                        1.005021   \n",
       "2016-09-01 01:59:59                        0.990469   \n",
       "2016-09-01 02:59:59                        0.996043   \n",
       "2016-09-01 03:59:59                        0.863514   \n",
       "2016-09-01 04:59:59                        0.805575   \n",
       "\n",
       "                     primary_cleaner.state.floatbank8_a_air  \\\n",
       "date                                                          \n",
       "2016-09-01 00:59:59                             1398.981301   \n",
       "2016-09-01 01:59:59                             1398.777912   \n",
       "2016-09-01 02:59:59                             1398.493666   \n",
       "2016-09-01 03:59:59                             1399.618111   \n",
       "2016-09-01 04:59:59                             1401.268123   \n",
       "\n",
       "                     primary_cleaner.state.floatbank8_a_level  \\\n",
       "date                                                            \n",
       "2016-09-01 00:59:59                               -500.225577   \n",
       "2016-09-01 01:59:59                               -500.057435   \n",
       "2016-09-01 02:59:59                               -500.868360   \n",
       "2016-09-01 03:59:59                               -498.863574   \n",
       "2016-09-01 04:59:59                               -500.808305   \n",
       "\n",
       "                     primary_cleaner.state.floatbank8_b_air  \\\n",
       "date                                                          \n",
       "2016-09-01 00:59:59                             1399.144926   \n",
       "2016-09-01 01:59:59                             1398.055362   \n",
       "2016-09-01 02:59:59                             1398.860436   \n",
       "2016-09-01 03:59:59                             1397.440120   \n",
       "2016-09-01 04:59:59                             1398.128818   \n",
       "\n",
       "                     primary_cleaner.state.floatbank8_b_level  \\\n",
       "date                                                            \n",
       "2016-09-01 00:59:59                               -499.919735   \n",
       "2016-09-01 01:59:59                               -499.778182   \n",
       "2016-09-01 02:59:59                               -499.764529   \n",
       "2016-09-01 03:59:59                               -499.211024   \n",
       "2016-09-01 04:59:59                               -499.504543   \n",
       "\n",
       "                     primary_cleaner.state.floatbank8_c_air  \\\n",
       "date                                                          \n",
       "2016-09-01 00:59:59                             1400.102998   \n",
       "2016-09-01 01:59:59                             1396.151033   \n",
       "2016-09-01 02:59:59                             1398.075709   \n",
       "2016-09-01 03:59:59                             1400.129303   \n",
       "2016-09-01 04:59:59                             1402.172226   \n",
       "\n",
       "                     primary_cleaner.state.floatbank8_c_level  ...  \\\n",
       "date                                                           ...   \n",
       "2016-09-01 00:59:59                               -500.704369  ...   \n",
       "2016-09-01 01:59:59                               -499.240168  ...   \n",
       "2016-09-01 02:59:59                               -502.151509  ...   \n",
       "2016-09-01 03:59:59                               -498.355873  ...   \n",
       "2016-09-01 04:59:59                               -500.810606  ...   \n",
       "\n",
       "                     secondary_cleaner.state.floatbank4_a_air  \\\n",
       "date                                                            \n",
       "2016-09-01 00:59:59                                 12.023554   \n",
       "2016-09-01 01:59:59                                 12.058140   \n",
       "2016-09-01 02:59:59                                 11.962366   \n",
       "2016-09-01 03:59:59                                 12.033091   \n",
       "2016-09-01 04:59:59                                 12.025367   \n",
       "\n",
       "                     secondary_cleaner.state.floatbank4_a_level  \\\n",
       "date                                                              \n",
       "2016-09-01 00:59:59                                 -497.795834   \n",
       "2016-09-01 01:59:59                                 -498.695773   \n",
       "2016-09-01 02:59:59                                 -498.767484   \n",
       "2016-09-01 03:59:59                                 -498.350935   \n",
       "2016-09-01 04:59:59                                 -500.786497   \n",
       "\n",
       "                     secondary_cleaner.state.floatbank4_b_air  \\\n",
       "date                                                            \n",
       "2016-09-01 00:59:59                                  8.016656   \n",
       "2016-09-01 01:59:59                                  8.130979   \n",
       "2016-09-01 02:59:59                                  8.096893   \n",
       "2016-09-01 03:59:59                                  8.074946   \n",
       "2016-09-01 04:59:59                                  8.054678   \n",
       "\n",
       "                     secondary_cleaner.state.floatbank4_b_level  \\\n",
       "date                                                              \n",
       "2016-09-01 00:59:59                                 -501.289139   \n",
       "2016-09-01 01:59:59                                 -499.634209   \n",
       "2016-09-01 02:59:59                                 -500.827423   \n",
       "2016-09-01 03:59:59                                 -499.474407   \n",
       "2016-09-01 04:59:59                                 -500.397500   \n",
       "\n",
       "                     secondary_cleaner.state.floatbank5_a_air  \\\n",
       "date                                                            \n",
       "2016-09-01 00:59:59                                  7.946562   \n",
       "2016-09-01 01:59:59                                  7.958270   \n",
       "2016-09-01 02:59:59                                  8.071056   \n",
       "2016-09-01 03:59:59                                  7.897085   \n",
       "2016-09-01 04:59:59                                  8.107890   \n",
       "\n",
       "                     secondary_cleaner.state.floatbank5_a_level  \\\n",
       "date                                                              \n",
       "2016-09-01 00:59:59                                 -432.317850   \n",
       "2016-09-01 01:59:59                                 -525.839648   \n",
       "2016-09-01 02:59:59                                 -500.801673   \n",
       "2016-09-01 03:59:59                                 -500.868509   \n",
       "2016-09-01 04:59:59                                 -509.526725   \n",
       "\n",
       "                     secondary_cleaner.state.floatbank5_b_air  \\\n",
       "date                                                            \n",
       "2016-09-01 00:59:59                                  4.872511   \n",
       "2016-09-01 01:59:59                                  4.878850   \n",
       "2016-09-01 02:59:59                                  4.905125   \n",
       "2016-09-01 03:59:59                                  4.931400   \n",
       "2016-09-01 04:59:59                                  4.957674   \n",
       "\n",
       "                     secondary_cleaner.state.floatbank5_b_level  \\\n",
       "date                                                              \n",
       "2016-09-01 00:59:59                                 -500.037437   \n",
       "2016-09-01 01:59:59                                 -500.162375   \n",
       "2016-09-01 02:59:59                                 -499.828510   \n",
       "2016-09-01 03:59:59                                 -499.963623   \n",
       "2016-09-01 04:59:59                                 -500.360026   \n",
       "\n",
       "                     secondary_cleaner.state.floatbank6_a_air  \\\n",
       "date                                                            \n",
       "2016-09-01 00:59:59                                 26.705889   \n",
       "2016-09-01 01:59:59                                 25.019940   \n",
       "2016-09-01 02:59:59                                 24.994862   \n",
       "2016-09-01 03:59:59                                 24.948919   \n",
       "2016-09-01 04:59:59                                 25.003331   \n",
       "\n",
       "                     secondary_cleaner.state.floatbank6_a_level  \n",
       "date                                                             \n",
       "2016-09-01 00:59:59                                 -499.709414  \n",
       "2016-09-01 01:59:59                                 -499.819438  \n",
       "2016-09-01 02:59:59                                 -500.622559  \n",
       "2016-09-01 03:59:59                                 -498.709987  \n",
       "2016-09-01 04:59:59                                 -500.856333  \n",
       "\n",
       "[5 rows x 52 columns]"
      ]
     },
     "metadata": {},
     "output_type": "display_data"
    },
    {
     "data": {
      "text/html": [
       "<div>\n",
       "<style scoped>\n",
       "    .dataframe tbody tr th:only-of-type {\n",
       "        vertical-align: middle;\n",
       "    }\n",
       "\n",
       "    .dataframe tbody tr th {\n",
       "        vertical-align: top;\n",
       "    }\n",
       "\n",
       "    .dataframe thead th {\n",
       "        text-align: right;\n",
       "    }\n",
       "</style>\n",
       "<table border=\"1\" class=\"dataframe\">\n",
       "  <thead>\n",
       "    <tr style=\"text-align: right;\">\n",
       "      <th></th>\n",
       "      <th>final.output.concentrate_ag</th>\n",
       "      <th>final.output.concentrate_pb</th>\n",
       "      <th>final.output.concentrate_sol</th>\n",
       "      <th>final.output.concentrate_au</th>\n",
       "      <th>final.output.recovery</th>\n",
       "      <th>final.output.tail_ag</th>\n",
       "      <th>final.output.tail_pb</th>\n",
       "      <th>final.output.tail_sol</th>\n",
       "      <th>final.output.tail_au</th>\n",
       "      <th>primary_cleaner.input.sulfate</th>\n",
       "      <th>...</th>\n",
       "      <th>secondary_cleaner.state.floatbank4_a_air</th>\n",
       "      <th>secondary_cleaner.state.floatbank4_a_level</th>\n",
       "      <th>secondary_cleaner.state.floatbank4_b_air</th>\n",
       "      <th>secondary_cleaner.state.floatbank4_b_level</th>\n",
       "      <th>secondary_cleaner.state.floatbank5_a_air</th>\n",
       "      <th>secondary_cleaner.state.floatbank5_a_level</th>\n",
       "      <th>secondary_cleaner.state.floatbank5_b_air</th>\n",
       "      <th>secondary_cleaner.state.floatbank5_b_level</th>\n",
       "      <th>secondary_cleaner.state.floatbank6_a_air</th>\n",
       "      <th>secondary_cleaner.state.floatbank6_a_level</th>\n",
       "    </tr>\n",
       "    <tr>\n",
       "      <th>date</th>\n",
       "      <th></th>\n",
       "      <th></th>\n",
       "      <th></th>\n",
       "      <th></th>\n",
       "      <th></th>\n",
       "      <th></th>\n",
       "      <th></th>\n",
       "      <th></th>\n",
       "      <th></th>\n",
       "      <th></th>\n",
       "      <th></th>\n",
       "      <th></th>\n",
       "      <th></th>\n",
       "      <th></th>\n",
       "      <th></th>\n",
       "      <th></th>\n",
       "      <th></th>\n",
       "      <th></th>\n",
       "      <th></th>\n",
       "      <th></th>\n",
       "      <th></th>\n",
       "    </tr>\n",
       "  </thead>\n",
       "  <tbody>\n",
       "    <tr>\n",
       "      <th>2016-01-15 00:00:00</th>\n",
       "      <td>6.055403</td>\n",
       "      <td>9.889648</td>\n",
       "      <td>5.507324</td>\n",
       "      <td>42.192020</td>\n",
       "      <td>70.541216</td>\n",
       "      <td>10.411962</td>\n",
       "      <td>0.895447</td>\n",
       "      <td>16.904297</td>\n",
       "      <td>2.143149</td>\n",
       "      <td>127.092003</td>\n",
       "      <td>...</td>\n",
       "      <td>14.016835</td>\n",
       "      <td>-502.488007</td>\n",
       "      <td>12.099931</td>\n",
       "      <td>-504.715942</td>\n",
       "      <td>9.925633</td>\n",
       "      <td>-498.310211</td>\n",
       "      <td>8.079666</td>\n",
       "      <td>-500.470978</td>\n",
       "      <td>14.151341</td>\n",
       "      <td>-605.841980</td>\n",
       "    </tr>\n",
       "    <tr>\n",
       "      <th>2016-01-15 01:00:00</th>\n",
       "      <td>6.029369</td>\n",
       "      <td>9.968944</td>\n",
       "      <td>5.257781</td>\n",
       "      <td>42.701629</td>\n",
       "      <td>69.266198</td>\n",
       "      <td>10.462676</td>\n",
       "      <td>0.927452</td>\n",
       "      <td>16.634514</td>\n",
       "      <td>2.224930</td>\n",
       "      <td>125.629232</td>\n",
       "      <td>...</td>\n",
       "      <td>13.992281</td>\n",
       "      <td>-505.503262</td>\n",
       "      <td>11.950531</td>\n",
       "      <td>-501.331529</td>\n",
       "      <td>10.039245</td>\n",
       "      <td>-500.169983</td>\n",
       "      <td>7.984757</td>\n",
       "      <td>-500.582168</td>\n",
       "      <td>13.998353</td>\n",
       "      <td>-599.787184</td>\n",
       "    </tr>\n",
       "    <tr>\n",
       "      <th>2016-01-15 02:00:00</th>\n",
       "      <td>6.055926</td>\n",
       "      <td>10.213995</td>\n",
       "      <td>5.383759</td>\n",
       "      <td>42.657501</td>\n",
       "      <td>68.116445</td>\n",
       "      <td>10.507046</td>\n",
       "      <td>0.953716</td>\n",
       "      <td>16.208849</td>\n",
       "      <td>2.257889</td>\n",
       "      <td>123.819808</td>\n",
       "      <td>...</td>\n",
       "      <td>14.015015</td>\n",
       "      <td>-502.520901</td>\n",
       "      <td>11.912783</td>\n",
       "      <td>-501.133383</td>\n",
       "      <td>10.070913</td>\n",
       "      <td>-500.129135</td>\n",
       "      <td>8.013877</td>\n",
       "      <td>-500.517572</td>\n",
       "      <td>14.028663</td>\n",
       "      <td>-601.427363</td>\n",
       "    </tr>\n",
       "    <tr>\n",
       "      <th>2016-01-15 03:00:00</th>\n",
       "      <td>6.047977</td>\n",
       "      <td>9.977019</td>\n",
       "      <td>4.858634</td>\n",
       "      <td>42.689819</td>\n",
       "      <td>68.347543</td>\n",
       "      <td>10.422762</td>\n",
       "      <td>0.883763</td>\n",
       "      <td>16.532835</td>\n",
       "      <td>2.146849</td>\n",
       "      <td>122.270188</td>\n",
       "      <td>...</td>\n",
       "      <td>14.036510</td>\n",
       "      <td>-500.857308</td>\n",
       "      <td>11.999550</td>\n",
       "      <td>-501.193686</td>\n",
       "      <td>9.970366</td>\n",
       "      <td>-499.201640</td>\n",
       "      <td>7.977324</td>\n",
       "      <td>-500.255908</td>\n",
       "      <td>14.005551</td>\n",
       "      <td>-599.996129</td>\n",
       "    </tr>\n",
       "    <tr>\n",
       "      <th>2016-01-15 04:00:00</th>\n",
       "      <td>6.148599</td>\n",
       "      <td>10.142511</td>\n",
       "      <td>4.939416</td>\n",
       "      <td>42.774141</td>\n",
       "      <td>66.927016</td>\n",
       "      <td>10.360302</td>\n",
       "      <td>0.792826</td>\n",
       "      <td>16.525686</td>\n",
       "      <td>2.055292</td>\n",
       "      <td>117.988169</td>\n",
       "      <td>...</td>\n",
       "      <td>14.027298</td>\n",
       "      <td>-499.838632</td>\n",
       "      <td>11.953070</td>\n",
       "      <td>-501.053894</td>\n",
       "      <td>9.925709</td>\n",
       "      <td>-501.686727</td>\n",
       "      <td>7.894242</td>\n",
       "      <td>-500.356035</td>\n",
       "      <td>13.996647</td>\n",
       "      <td>-601.496691</td>\n",
       "    </tr>\n",
       "  </tbody>\n",
       "</table>\n",
       "<p>5 rows × 86 columns</p>\n",
       "</div>"
      ],
      "text/plain": [
       "                     final.output.concentrate_ag  final.output.concentrate_pb  \\\n",
       "date                                                                            \n",
       "2016-01-15 00:00:00                     6.055403                     9.889648   \n",
       "2016-01-15 01:00:00                     6.029369                     9.968944   \n",
       "2016-01-15 02:00:00                     6.055926                    10.213995   \n",
       "2016-01-15 03:00:00                     6.047977                     9.977019   \n",
       "2016-01-15 04:00:00                     6.148599                    10.142511   \n",
       "\n",
       "                     final.output.concentrate_sol  \\\n",
       "date                                                \n",
       "2016-01-15 00:00:00                      5.507324   \n",
       "2016-01-15 01:00:00                      5.257781   \n",
       "2016-01-15 02:00:00                      5.383759   \n",
       "2016-01-15 03:00:00                      4.858634   \n",
       "2016-01-15 04:00:00                      4.939416   \n",
       "\n",
       "                     final.output.concentrate_au  final.output.recovery  \\\n",
       "date                                                                      \n",
       "2016-01-15 00:00:00                    42.192020              70.541216   \n",
       "2016-01-15 01:00:00                    42.701629              69.266198   \n",
       "2016-01-15 02:00:00                    42.657501              68.116445   \n",
       "2016-01-15 03:00:00                    42.689819              68.347543   \n",
       "2016-01-15 04:00:00                    42.774141              66.927016   \n",
       "\n",
       "                     final.output.tail_ag  final.output.tail_pb  \\\n",
       "date                                                              \n",
       "2016-01-15 00:00:00             10.411962              0.895447   \n",
       "2016-01-15 01:00:00             10.462676              0.927452   \n",
       "2016-01-15 02:00:00             10.507046              0.953716   \n",
       "2016-01-15 03:00:00             10.422762              0.883763   \n",
       "2016-01-15 04:00:00             10.360302              0.792826   \n",
       "\n",
       "                     final.output.tail_sol  final.output.tail_au  \\\n",
       "date                                                               \n",
       "2016-01-15 00:00:00              16.904297              2.143149   \n",
       "2016-01-15 01:00:00              16.634514              2.224930   \n",
       "2016-01-15 02:00:00              16.208849              2.257889   \n",
       "2016-01-15 03:00:00              16.532835              2.146849   \n",
       "2016-01-15 04:00:00              16.525686              2.055292   \n",
       "\n",
       "                     primary_cleaner.input.sulfate  ...  \\\n",
       "date                                                ...   \n",
       "2016-01-15 00:00:00                     127.092003  ...   \n",
       "2016-01-15 01:00:00                     125.629232  ...   \n",
       "2016-01-15 02:00:00                     123.819808  ...   \n",
       "2016-01-15 03:00:00                     122.270188  ...   \n",
       "2016-01-15 04:00:00                     117.988169  ...   \n",
       "\n",
       "                     secondary_cleaner.state.floatbank4_a_air  \\\n",
       "date                                                            \n",
       "2016-01-15 00:00:00                                 14.016835   \n",
       "2016-01-15 01:00:00                                 13.992281   \n",
       "2016-01-15 02:00:00                                 14.015015   \n",
       "2016-01-15 03:00:00                                 14.036510   \n",
       "2016-01-15 04:00:00                                 14.027298   \n",
       "\n",
       "                     secondary_cleaner.state.floatbank4_a_level  \\\n",
       "date                                                              \n",
       "2016-01-15 00:00:00                                 -502.488007   \n",
       "2016-01-15 01:00:00                                 -505.503262   \n",
       "2016-01-15 02:00:00                                 -502.520901   \n",
       "2016-01-15 03:00:00                                 -500.857308   \n",
       "2016-01-15 04:00:00                                 -499.838632   \n",
       "\n",
       "                     secondary_cleaner.state.floatbank4_b_air  \\\n",
       "date                                                            \n",
       "2016-01-15 00:00:00                                 12.099931   \n",
       "2016-01-15 01:00:00                                 11.950531   \n",
       "2016-01-15 02:00:00                                 11.912783   \n",
       "2016-01-15 03:00:00                                 11.999550   \n",
       "2016-01-15 04:00:00                                 11.953070   \n",
       "\n",
       "                     secondary_cleaner.state.floatbank4_b_level  \\\n",
       "date                                                              \n",
       "2016-01-15 00:00:00                                 -504.715942   \n",
       "2016-01-15 01:00:00                                 -501.331529   \n",
       "2016-01-15 02:00:00                                 -501.133383   \n",
       "2016-01-15 03:00:00                                 -501.193686   \n",
       "2016-01-15 04:00:00                                 -501.053894   \n",
       "\n",
       "                     secondary_cleaner.state.floatbank5_a_air  \\\n",
       "date                                                            \n",
       "2016-01-15 00:00:00                                  9.925633   \n",
       "2016-01-15 01:00:00                                 10.039245   \n",
       "2016-01-15 02:00:00                                 10.070913   \n",
       "2016-01-15 03:00:00                                  9.970366   \n",
       "2016-01-15 04:00:00                                  9.925709   \n",
       "\n",
       "                     secondary_cleaner.state.floatbank5_a_level  \\\n",
       "date                                                              \n",
       "2016-01-15 00:00:00                                 -498.310211   \n",
       "2016-01-15 01:00:00                                 -500.169983   \n",
       "2016-01-15 02:00:00                                 -500.129135   \n",
       "2016-01-15 03:00:00                                 -499.201640   \n",
       "2016-01-15 04:00:00                                 -501.686727   \n",
       "\n",
       "                     secondary_cleaner.state.floatbank5_b_air  \\\n",
       "date                                                            \n",
       "2016-01-15 00:00:00                                  8.079666   \n",
       "2016-01-15 01:00:00                                  7.984757   \n",
       "2016-01-15 02:00:00                                  8.013877   \n",
       "2016-01-15 03:00:00                                  7.977324   \n",
       "2016-01-15 04:00:00                                  7.894242   \n",
       "\n",
       "                     secondary_cleaner.state.floatbank5_b_level  \\\n",
       "date                                                              \n",
       "2016-01-15 00:00:00                                 -500.470978   \n",
       "2016-01-15 01:00:00                                 -500.582168   \n",
       "2016-01-15 02:00:00                                 -500.517572   \n",
       "2016-01-15 03:00:00                                 -500.255908   \n",
       "2016-01-15 04:00:00                                 -500.356035   \n",
       "\n",
       "                     secondary_cleaner.state.floatbank6_a_air  \\\n",
       "date                                                            \n",
       "2016-01-15 00:00:00                                 14.151341   \n",
       "2016-01-15 01:00:00                                 13.998353   \n",
       "2016-01-15 02:00:00                                 14.028663   \n",
       "2016-01-15 03:00:00                                 14.005551   \n",
       "2016-01-15 04:00:00                                 13.996647   \n",
       "\n",
       "                     secondary_cleaner.state.floatbank6_a_level  \n",
       "date                                                             \n",
       "2016-01-15 00:00:00                                 -605.841980  \n",
       "2016-01-15 01:00:00                                 -599.787184  \n",
       "2016-01-15 02:00:00                                 -601.427363  \n",
       "2016-01-15 03:00:00                                 -599.996129  \n",
       "2016-01-15 04:00:00                                 -601.496691  \n",
       "\n",
       "[5 rows x 86 columns]"
      ]
     },
     "metadata": {},
     "output_type": "display_data"
    }
   ],
   "source": [
    "for dataset in datasets:\n",
    "    display(dataset.head())\n",
    "    "
   ]
  },
  {
   "cell_type": "markdown",
   "metadata": {},
   "source": [
    "<div class=\"alert alert-info\">\n",
    "<b>\n",
    "\n",
    "Посмотрим наличие явных дубликатов\n",
    "    </div>"
   ]
  },
  {
   "cell_type": "code",
   "execution_count": 8,
   "metadata": {},
   "outputs": [
    {
     "data": {
      "text/plain": [
       "0"
      ]
     },
     "metadata": {},
     "output_type": "display_data"
    },
    {
     "data": {
      "text/plain": [
       "0"
      ]
     },
     "metadata": {},
     "output_type": "display_data"
    },
    {
     "data": {
      "text/plain": [
       "0"
      ]
     },
     "metadata": {},
     "output_type": "display_data"
    }
   ],
   "source": [
    "for dataset in datasets:\n",
    "    display(dataset.duplicated().sum())"
   ]
  },
  {
   "cell_type": "markdown",
   "metadata": {},
   "source": [
    "<div class=\"alert alert-info\">\n",
    "<b>\n",
    "Явных дубликатов не выявлено\n",
    "    </div>"
   ]
  },
  {
   "cell_type": "markdown",
   "metadata": {},
   "source": [
    "<div class=\"alert alert-info\">\n",
    "<b>\n",
    "<br> Проверим, что эффективность обогащения рассчитана правильно.\n",
    "<br>Нам известно, что эффективность обогащения рассчитывается по формуле Recovery = ((C*(F-T))/(F*(C-T))) * 100%\n",
    "<br>где С -  доля золота (продукт) в концентрате после флотации/очистки;\n",
    "<br>F - доля золота в сырье/концентрате до флотации/очистки;\n",
    "<br>T - доля золота в отвальных хвостах после флотации/очистки.\n",
    "<br>Вычислим ее на обучающей выборке (train) для признака rougher.output.recovery\n",
    "<br>Для рассчетов нам нужен этап флотации (после него состав руды снова изменится снова)\n",
    "<br>этап флтации обозначается rougher\n",
    "<br>параметр продукта - output, значит \n",
    "<br>С = rougher.output.concentrate_au \n",
    "<br>F = rougher.input.feed_au\n",
    "<br>T =  rougher.output.tail_au\n",
    "    </div>"
   ]
  },
  {
   "cell_type": "code",
   "execution_count": 9,
   "metadata": {},
   "outputs": [],
   "source": [
    "C = train_data['rougher.output.concentrate_au']\n",
    "F = train_data['rougher.input.feed_au']\n",
    "T = train_data['rougher.output.tail_au']"
   ]
  },
  {
   "cell_type": "code",
   "execution_count": 10,
   "metadata": {},
   "outputs": [],
   "source": [
    "recovery = ((C*(F-T))/(F*(C-T))) * 100"
   ]
  },
  {
   "cell_type": "markdown",
   "metadata": {},
   "source": [
    "<div class=\"alert alert-info\">\n",
    "<b>\n",
    "Найдем МАЕ между нашими рассчетами и значением признака rougher.output.recovery\n",
    "    </div>"
   ]
  },
  {
   "cell_type": "code",
   "execution_count": 11,
   "metadata": {},
   "outputs": [
    {
     "data": {
      "text/plain": [
       "9.73512347450521e-15"
      ]
     },
     "execution_count": 11,
     "metadata": {},
     "output_type": "execute_result"
    }
   ],
   "source": [
    "mae = mean_absolute_error(train_data['rougher.output.recovery'],recovery)\n",
    "mae"
   ]
  },
  {
   "cell_type": "markdown",
   "metadata": {},
   "source": [
    "<div class=\"alert alert-info\">\n",
    "<b>\n",
    "Видим, что значение МАЕ крайне мало, а это значит, что наши предсказания почти не отличаются от реальных значений\n",
    "    </div>"
   ]
  },
  {
   "cell_type": "markdown",
   "metadata": {},
   "source": [
    "<div class=\"alert alert-info\">\n",
    "<b>\n",
    "Проанализируем признаки, недоступные в тестовой выборке.\n",
    "    </div>"
   ]
  },
  {
   "cell_type": "code",
   "execution_count": 12,
   "metadata": {},
   "outputs": [
    {
     "data": {
      "text/plain": [
       "{'final.output.concentrate_ag',\n",
       " 'final.output.concentrate_au',\n",
       " 'final.output.concentrate_pb',\n",
       " 'final.output.concentrate_sol',\n",
       " 'final.output.recovery',\n",
       " 'final.output.tail_ag',\n",
       " 'final.output.tail_au',\n",
       " 'final.output.tail_pb',\n",
       " 'final.output.tail_sol',\n",
       " 'primary_cleaner.output.concentrate_ag',\n",
       " 'primary_cleaner.output.concentrate_au',\n",
       " 'primary_cleaner.output.concentrate_pb',\n",
       " 'primary_cleaner.output.concentrate_sol',\n",
       " 'primary_cleaner.output.tail_ag',\n",
       " 'primary_cleaner.output.tail_au',\n",
       " 'primary_cleaner.output.tail_pb',\n",
       " 'primary_cleaner.output.tail_sol',\n",
       " 'rougher.calculation.au_pb_ratio',\n",
       " 'rougher.calculation.floatbank10_sulfate_to_au_feed',\n",
       " 'rougher.calculation.floatbank11_sulfate_to_au_feed',\n",
       " 'rougher.calculation.sulfate_to_au_concentrate',\n",
       " 'rougher.output.concentrate_ag',\n",
       " 'rougher.output.concentrate_au',\n",
       " 'rougher.output.concentrate_pb',\n",
       " 'rougher.output.concentrate_sol',\n",
       " 'rougher.output.recovery',\n",
       " 'rougher.output.tail_ag',\n",
       " 'rougher.output.tail_au',\n",
       " 'rougher.output.tail_pb',\n",
       " 'rougher.output.tail_sol',\n",
       " 'secondary_cleaner.output.tail_ag',\n",
       " 'secondary_cleaner.output.tail_au',\n",
       " 'secondary_cleaner.output.tail_pb',\n",
       " 'secondary_cleaner.output.tail_sol'}"
      ]
     },
     "execution_count": 12,
     "metadata": {},
     "output_type": "execute_result"
    }
   ],
   "source": [
    "not_signs = set(train_data.columns) - set(test_data.columns)\n",
    "not_signs"
   ]
  },
  {
   "cell_type": "markdown",
   "metadata": {},
   "source": [
    "<div class=\"alert alert-info\">\n",
    "<b>\n",
    "В тестовой выборке отсутствуют такие признаки как final.output, primary_cleaner.output, rougher.calculation, rougher.output, secondary_cleaner.\n",
    "<br>final.output - финальные характеристики продукта\n",
    "<br>primary_cleaner.output - первичная очистка продукта\n",
    "<br>rougher.calculation - рассчетные характеристики на этапе флотации\n",
    "<br>rougher.output - параметры продукта на этапе флотации\n",
    "<br>secondary_cleaner - этап вторичной очистки\n",
    "<br>Видим, что эти данные мы получаем в процессе флотации и после нее, значит это онлайн метрики. Остальные признаки известны - значит это офлайн метрики"
   ]
  },
  {
   "cell_type": "markdown",
   "metadata": {},
   "source": [
    "<div class=\"alert alert-info\">\n",
    "<b>\n",
    "Добавим целевые признаки в таблицу с тестовыми значениями из исходных данных. Добовлять будем по колонке 'date'\n",
    "    </div>"
   ]
  },
  {
   "cell_type": "code",
   "execution_count": 13,
   "metadata": {},
   "outputs": [
    {
     "name": "stdout",
     "output_type": "stream",
     "text": [
      "Размерность тестовой выборки до добавления целевых признаков: (5290, 52)\n",
      "Размерность тестовой выборки после добавления целевых признаков: (5290, 54)\n"
     ]
    }
   ],
   "source": [
    "print('Размерность тестовой выборки до добавления целевых признаков:', test_data.shape)\n",
    "test_data = test_data.merge(full_data[['rougher.output.recovery','final.output.recovery']].loc[test_data.index], on='date', how='left')\n",
    "print('Размерность тестовой выборки после добавления целевых признаков:', test_data.shape)"
   ]
  },
  {
   "cell_type": "markdown",
   "metadata": {},
   "source": [
    "<div class=\"alert alert-info\">\n",
    "<b>\n",
    "Удалим в обучающей и тестовой выборке строки с пропусками в целевых признаках\n",
    "    </div>"
   ]
  },
  {
   "cell_type": "code",
   "execution_count": 14,
   "metadata": {},
   "outputs": [],
   "source": [
    "train_data = train_data.dropna(subset = ['rougher.output.recovery','final.output.recovery'])\n",
    "test_data = test_data.dropna(subset = ['rougher.output.recovery','final.output.recovery'])"
   ]
  },
  {
   "cell_type": "code",
   "execution_count": 15,
   "metadata": {
    "scrolled": true
   },
   "outputs": [
    {
     "name": "stdout",
     "output_type": "stream",
     "text": [
      "<class 'pandas.core.frame.DataFrame'>\n",
      "Index: 5290 entries, 2016-09-01 00:59:59 to 2017-12-31 23:59:59\n",
      "Data columns (total 54 columns):\n",
      " #   Column                                      Non-Null Count  Dtype  \n",
      "---  ------                                      --------------  -----  \n",
      " 0   primary_cleaner.input.sulfate               5286 non-null   float64\n",
      " 1   primary_cleaner.input.depressant            5285 non-null   float64\n",
      " 2   primary_cleaner.input.feed_size             5290 non-null   float64\n",
      " 3   primary_cleaner.input.xanthate              5286 non-null   float64\n",
      " 4   primary_cleaner.state.floatbank8_a_air      5290 non-null   float64\n",
      " 5   primary_cleaner.state.floatbank8_a_level    5290 non-null   float64\n",
      " 6   primary_cleaner.state.floatbank8_b_air      5290 non-null   float64\n",
      " 7   primary_cleaner.state.floatbank8_b_level    5290 non-null   float64\n",
      " 8   primary_cleaner.state.floatbank8_c_air      5290 non-null   float64\n",
      " 9   primary_cleaner.state.floatbank8_c_level    5290 non-null   float64\n",
      " 10  primary_cleaner.state.floatbank8_d_air      5290 non-null   float64\n",
      " 11  primary_cleaner.state.floatbank8_d_level    5290 non-null   float64\n",
      " 12  rougher.input.feed_ag                       5290 non-null   float64\n",
      " 13  rougher.input.feed_pb                       5290 non-null   float64\n",
      " 14  rougher.input.feed_rate                     5287 non-null   float64\n",
      " 15  rougher.input.feed_size                     5289 non-null   float64\n",
      " 16  rougher.input.feed_sol                      5269 non-null   float64\n",
      " 17  rougher.input.feed_au                       5290 non-null   float64\n",
      " 18  rougher.input.floatbank10_sulfate           5285 non-null   float64\n",
      " 19  rougher.input.floatbank10_xanthate          5290 non-null   float64\n",
      " 20  rougher.input.floatbank11_sulfate           5282 non-null   float64\n",
      " 21  rougher.input.floatbank11_xanthate          5265 non-null   float64\n",
      " 22  rougher.state.floatbank10_a_air             5290 non-null   float64\n",
      " 23  rougher.state.floatbank10_a_level           5290 non-null   float64\n",
      " 24  rougher.state.floatbank10_b_air             5290 non-null   float64\n",
      " 25  rougher.state.floatbank10_b_level           5290 non-null   float64\n",
      " 26  rougher.state.floatbank10_c_air             5290 non-null   float64\n",
      " 27  rougher.state.floatbank10_c_level           5290 non-null   float64\n",
      " 28  rougher.state.floatbank10_d_air             5290 non-null   float64\n",
      " 29  rougher.state.floatbank10_d_level           5290 non-null   float64\n",
      " 30  rougher.state.floatbank10_e_air             5290 non-null   float64\n",
      " 31  rougher.state.floatbank10_e_level           5290 non-null   float64\n",
      " 32  rougher.state.floatbank10_f_air             5290 non-null   float64\n",
      " 33  rougher.state.floatbank10_f_level           5290 non-null   float64\n",
      " 34  secondary_cleaner.state.floatbank2_a_air    5287 non-null   float64\n",
      " 35  secondary_cleaner.state.floatbank2_a_level  5290 non-null   float64\n",
      " 36  secondary_cleaner.state.floatbank2_b_air    5288 non-null   float64\n",
      " 37  secondary_cleaner.state.floatbank2_b_level  5290 non-null   float64\n",
      " 38  secondary_cleaner.state.floatbank3_a_air    5281 non-null   float64\n",
      " 39  secondary_cleaner.state.floatbank3_a_level  5290 non-null   float64\n",
      " 40  secondary_cleaner.state.floatbank3_b_air    5290 non-null   float64\n",
      " 41  secondary_cleaner.state.floatbank3_b_level  5290 non-null   float64\n",
      " 42  secondary_cleaner.state.floatbank4_a_air    5290 non-null   float64\n",
      " 43  secondary_cleaner.state.floatbank4_a_level  5290 non-null   float64\n",
      " 44  secondary_cleaner.state.floatbank4_b_air    5290 non-null   float64\n",
      " 45  secondary_cleaner.state.floatbank4_b_level  5290 non-null   float64\n",
      " 46  secondary_cleaner.state.floatbank5_a_air    5290 non-null   float64\n",
      " 47  secondary_cleaner.state.floatbank5_a_level  5290 non-null   float64\n",
      " 48  secondary_cleaner.state.floatbank5_b_air    5290 non-null   float64\n",
      " 49  secondary_cleaner.state.floatbank5_b_level  5290 non-null   float64\n",
      " 50  secondary_cleaner.state.floatbank6_a_air    5290 non-null   float64\n",
      " 51  secondary_cleaner.state.floatbank6_a_level  5290 non-null   float64\n",
      " 52  rougher.output.recovery                     5290 non-null   float64\n",
      " 53  final.output.recovery                       5290 non-null   float64\n",
      "dtypes: float64(54)\n",
      "memory usage: 2.2+ MB\n"
     ]
    }
   ],
   "source": [
    "test_data.info()"
   ]
  },
  {
   "cell_type": "markdown",
   "metadata": {},
   "source": [
    "<div class=\"alert alert-info\">\n",
    "<b>\n",
    "Заполним пропуски соседними значениями\n",
    "    </div>"
   ]
  },
  {
   "cell_type": "code",
   "execution_count": 16,
   "metadata": {},
   "outputs": [
    {
     "name": "stdout",
     "output_type": "stream",
     "text": [
      "0\n",
      "0\n"
     ]
    }
   ],
   "source": [
    "train_data = train_data.fillna(method='ffill')\n",
    "test_data = test_data.fillna(method='ffill')\n",
    "print(train_data.isnull().sum().sum())\n",
    "print(test_data.isnull().sum().sum())"
   ]
  },
  {
   "cell_type": "markdown",
   "metadata": {},
   "source": [
    "<div class=\"alert alert-info\">\n",
    "<b>\n",
    "Промежуточный вывод - загрузив данные в разные дата-фреймы посмотрели на количество пропущенных значений - заполнили их соседними по времени значениями, проверили точность расчета эффективности обогащения,проверили наличие явных дубликатов, выявили недостающие признакми в тестовой выборке.\n",
    "Перейдем к анализу данных.\n",
    "    </div>"
   ]
  },
  {
   "cell_type": "markdown",
   "metadata": {},
   "source": [
    "## Анализ данных\n",
    "\n"
   ]
  },
  {
   "cell_type": "markdown",
   "metadata": {},
   "source": [
    "<div class=\"alert alert-info\">\n",
    "<b>\n",
    "Посмотрим, как меняется концентрация металлов (Au, Ag, Pb) на различтных этапах очистки.\n",
    "    </div>"
   ]
  },
  {
   "cell_type": "markdown",
   "metadata": {},
   "source": [
    "<div class=\"alert alert-info\">\n",
    "<b>\n",
    "Согласно технологическому процессу можем выделить следующие этапы - \n",
    "<br>1) Приход исходного сырья\n",
    "<br>2) флотация (обогащение)\n",
    "<br>3) первичная очистка\n",
    "<br>4) вторичная очистка\n",
    "<br>5) финальный концентрат\n",
    "    </div>"
   ]
  },
  {
   "cell_type": "code",
   "execution_count": 17,
   "metadata": {},
   "outputs": [
    {
     "data": {
      "image/png": "[encoded data removed]",
      "text/plain": [
       "<Figure size 1080x1224 with 3 Axes>"
      ]
     },
     "metadata": {
      "needs_background": "light"
     },
     "output_type": "display_data"
    }
   ],
   "source": [
    "position = 0\n",
    "plt.figure(figsize=[15, 17])\n",
    "plt.subplots_adjust(top=0.94, wspace=0.2, hspace=0.3)\n",
    "for met in ['au', 'ag', 'pb']:\n",
    "    position +=1\n",
    "    plt.subplot(3,1,position)\n",
    "    plt.title(f'Распределение {str(met).upper()} на всех этапах', fontsize=13)\n",
    "    sns.set_style('darkgrid')\n",
    "    sns.histplot(train_data[f'rougher.input.feed_{met}'], color='y', label='Сырье', kde=True)\n",
    "    sns.histplot(train_data[f'rougher.output.concentrate_{met}'], color='b', label='Флотация', kde=True)\n",
    "    sns.histplot(train_data[f'primary_cleaner.output.concentrate_{met}'], color='g', label='Первичная очистка', kde=True)\n",
    "    sns.histplot(train_data[f'secondary_cleaner.output.tail_{met}'], color='c', label='Вторичная очистка', kde=True)\n",
    "    sns.histplot(train_data[f'final.output.concentrate_{met}'], color='r', label='Финальный концетрат',kde=True)\n",
    "    plt.xlabel('Концентрация металла')\n",
    "    plt.ylabel('Количество наблюдений')\n",
    "    plt.legend()\n",
    "plt.show();"
   ]
  },
  {
   "cell_type": "markdown",
   "metadata": {},
   "source": [
    "<div class=\"alert alert-info\">\n",
    "<b>\n",
    "По графикам видим, что все данные имеют нормальное распределение.\n",
    "Коцентрация золота на всех этапах сильно не меняется, тогда как концентрация серебра и свинца уменьшается - что логично, ведь цель технологического процесса - получить как можно больше чистого золота.\n",
    "    </div>"
   ]
  },
  {
   "cell_type": "markdown",
   "metadata": {},
   "source": [
    "<div class=\"alert alert-info\">\n",
    "<b>\n",
    "Сравним распределения размеров гранул сырья на обучающей и тестовой выборках\n",
    "    </div>"
   ]
  },
  {
   "cell_type": "code",
   "execution_count": 18,
   "metadata": {},
   "outputs": [
    {
     "data": {
      "image/png": "[encoded data removed]",
      "text/plain": [
       "<Figure size 1224x864 with 1 Axes>"
      ]
     },
     "metadata": {},
     "output_type": "display_data"
    }
   ],
   "source": [
    "plt.figure(figsize=[17,12])\n",
    "\n",
    "plt.hist(train_data['rougher.input.feed_size'], bins=200, label = 'Распределение рамеров гранул на обучающей выборке', alpha=.5)\n",
    "plt.hist(test_data['rougher.input.feed_size'], bins=200, label = 'Распределение размеров гранул на тестовой выборке', alpha=.5)\n",
    "\n",
    "plt.xlim([0, 150])\n",
    "plt.ylim([0, 1500])\n",
    "\n",
    "plt.xlabel('Размер гранул сырья')\n",
    "plt.ylabel('Количество результатов')\n",
    "\n",
    "plt.legend(loc='upper left', fontsize='x-large')\n",
    "\n",
    "plt.title('Гистограмма распределения гранул (на этапе флотации)')\n",
    "plt.show()"
   ]
  },
  {
   "cell_type": "markdown",
   "metadata": {},
   "source": [
    "<div class=\"alert alert-info\">\n",
    "<b>\n",
    "Видим, что основная доля всех гранул находятся в диапазоне от 40ед. до 60ед., значит, будем считать, что оценка модели будет правильной.\n",
    "    </div>"
   ]
  },
  {
   "cell_type": "markdown",
   "metadata": {},
   "source": [
    "<div class=\"alert alert-info\">\n",
    "<b>\n",
    "V2. Построим графики kde\n",
    "    </div>"
   ]
  },
  {
   "cell_type": "code",
   "execution_count": 19,
   "metadata": {},
   "outputs": [
    {
     "data": {
      "image/png": "[encoded data removed]",
      "text/plain": [
       "<Figure size 1224x864 with 1 Axes>"
      ]
     },
     "metadata": {},
     "output_type": "display_data"
    }
   ],
   "source": [
    "plt.figure(figsize=[17,12])\n",
    "ax = train_data['rougher.input.feed_size']\n",
    "bx = test_data['rougher.input.feed_size']\n",
    "s=ax.plot.kde(bw_method=0.3, label = 'Распределение рамеров гранул на обучающей выборке',color='green')\n",
    "t=bx.plot.kde(bw_method=0.3, label ='Распределение размеров гранул на тестовой выборке', color = 'blue')\n",
    "\n",
    "\n",
    "plt.xlim([-10, 200])\n",
    "plt.ylim([-0.001, 0.05])\n",
    "\n",
    "plt.xlabel('Размер гранул сырья')\n",
    "plt.ylabel('Доля распределений')\n",
    "\n",
    "plt.legend(loc='upper left', fontsize='x-large')\n",
    "\n",
    "plt.title('Гистограмма распределения гранул (на этапе флотации)')\n",
    "plt.show()"
   ]
  },
  {
   "cell_type": "markdown",
   "metadata": {},
   "source": [
    "Благодаря графику оценки плотности, видим, что распределение гранул на тестовой и обучающей выборках практически совпадает."
   ]
  },
  {
   "cell_type": "markdown",
   "metadata": {},
   "source": [
    "<div class=\"alert alert-info\">\n",
    "<b>\n",
    "Исследуем суммарную концентрацию всех веществ на разных стадиях: в сырье, в черновом и финальном концентратах на тренировочной выборке\n",
    "    </div>"
   ]
  },
  {
   "cell_type": "code",
   "execution_count": 20,
   "metadata": {},
   "outputs": [],
   "source": [
    "rougher_train = (train_data['rougher.output.concentrate_au'] + \n",
    "                           train_data['rougher.output.concentrate_ag'] + \n",
    "                           train_data['rougher.output.concentrate_pb'] +\n",
    "                           train_data['rougher.output.concentrate_sol'])\n",
    "primary_train = (train_data['primary_cleaner.output.concentrate_au'] + \n",
    "                           train_data['primary_cleaner.output.concentrate_ag'] + \n",
    "                           train_data['primary_cleaner.output.concentrate_pb'] +\n",
    "                           train_data['primary_cleaner.output.concentrate_sol'])\n",
    "\n",
    "final_train = (train_data['final.output.concentrate_au'] + \n",
    "                         train_data['final.output.concentrate_ag'] + \n",
    "                         train_data['final.output.concentrate_pb'] +\n",
    "                         train_data['final.output.concentrate_sol'])"
   ]
  },
  {
   "cell_type": "code",
   "execution_count": 21,
   "metadata": {},
   "outputs": [
    {
     "data": {
      "image/png": "[encoded data removed]",
      "text/plain": [
       "<Figure size 864x648 with 1 Axes>"
      ]
     },
     "metadata": {},
     "output_type": "display_data"
    }
   ],
   "source": [
    "plt.figure(figsize=[12,9])\n",
    "\n",
    "plt.hist(rougher_train, bins=100, label = 'Концентрат сырья', alpha=.5)\n",
    "plt.hist(primary_train, bins=100, label = 'Черновой концентрат', alpha=.5)\n",
    "plt.hist(final_train, bins=100, label = 'Финальный концентрат', alpha=.5)\n",
    "\n",
    "plt.xlim([40, 90])\n",
    "plt.ylim([0, 2000])\n",
    "\n",
    "plt.xlabel(\"Суммарная концентраця\")\n",
    "plt.ylabel(\"Количество результатов\")\n",
    "\n",
    "plt.legend(loc='upper left', fontsize='x-large')\n",
    "\n",
    "plt.title(\"Гистограмма распределения концентраций на разных этапах очистки\")\n",
    "plt.show()"
   ]
  },
  {
   "cell_type": "markdown",
   "metadata": {},
   "source": [
    "<div class=\"alert alert-info\">\n",
    "<b>\n",
    "видим, что концентрация всех веществ на финальном этапе более чем в 2 раза выше по сравнению с изначальным сырьем, а диапазон разброса суммарной концентрации веществ - уже.\n",
    "также по графику видим нормальное распределения, и значения суммы до 0 будем считать выбрасами. Данные значения могут сильно изменить поведение наших будущих моделей, поэтому удалим их.\n",
    "    </div>"
   ]
  },
  {
   "cell_type": "markdown",
   "metadata": {},
   "source": [
    "<div class=\"alert alert-info\">\n",
    "<b> V2. Добавляю график суммарной концентрации по исходному сырью  для тестовой и тренеровочной выборок. сравним их концентрацию\n",
    "    </div>"
   ]
  },
  {
   "cell_type": "code",
   "execution_count": 22,
   "metadata": {},
   "outputs": [
    {
     "data": {
      "image/png": "[encoded data removed]",
      "text/plain": [
       "<Figure size 1224x864 with 1 Axes>"
      ]
     },
     "metadata": {},
     "output_type": "display_data"
    }
   ],
   "source": [
    "#v2\n",
    "feed_train = train_data[['rougher.input.feed_ag', 'rougher.input.feed_pb', 'rougher.input.feed_au', 'rougher.input.feed_sol']].sum(axis=1)\n",
    "feed_test = test_data[['rougher.input.feed_ag', 'rougher.input.feed_pb', 'rougher.input.feed_au', 'rougher.input.feed_sol']].sum(axis=1)\n",
    "plt.figure(figsize=[17,12])\n",
    "ax = feed_train\n",
    "bx = feed_test\n",
    "s=ax.plot.kde(bw_method=0.3, label = 'Концентрация всех веществ на обучающей выборке',color='green')\n",
    "t=bx.plot.kde(bw_method=0.3, label ='Концентрация всех веществ на тестовой выборке', color = 'blue')\n",
    "\n",
    "\n",
    "#plt.xlim([0, 200])\n",
    "#plt.ylim([-0.001, 0.05])\n",
    "\n",
    "plt.xlabel('Концентрация веществ в сырье')\n",
    "plt.ylabel('Доля распределений')\n",
    "\n",
    "plt.legend(loc='upper left', fontsize='x-large')\n",
    "\n",
    "plt.title('Гистограмма суммарной концентрации сырья')\n",
    "plt.show()"
   ]
  },
  {
   "cell_type": "markdown",
   "metadata": {},
   "source": [
    "<div class=\"alert alert-info\">\n",
    "<b>\n",
    "    V2. По данным графикам видим, что плотность веществ в сырье в тестовой выборке практически не отличается от плотности вещество в сырье в тестовой выборке.\n",
    "    </div>"
   ]
  },
  {
   "cell_type": "code",
   "execution_count": 23,
   "metadata": {},
   "outputs": [],
   "source": [
    "train_data = train_data[(train_data['rougher.output.concentrate_au'] > 0) & (train_data['rougher.output.concentrate_ag'] > 0) & (train_data['rougher.output.concentrate_pb'] > 0) & (train_data['rougher.output.concentrate_sol'] > 0)]\n",
    "train_data = train_data[(train_data['final.output.concentrate_au'] > 0) & (train_data['final.output.concentrate_ag'] > 0) & (train_data['final.output.concentrate_pb'] > 0) & (train_data['final.output.concentrate_sol'] > 0)]\n",
    "full_data = full_data[(full_data['rougher.output.concentrate_au'] > 0) & (full_data['rougher.output.concentrate_ag'] > 0) & (full_data['rougher.output.concentrate_pb'] > 0) & (full_data['rougher.output.concentrate_sol'] > 0)]\n",
    "full_data= full_data[(full_data['final.output.concentrate_au'] > 0) & (full_data['final.output.concentrate_ag'] > 0) & (full_data['final.output.concentrate_pb'] > 0) & (full_data['final.output.concentrate_sol'] > 0)]\n"
   ]
  },
  {
   "cell_type": "markdown",
   "metadata": {},
   "source": [
    "<div class=\"alert alert-info\">\n",
    "<b>\n",
    "    Удалим из тренеровочных данных признаки, которые отсутствуют в тестовых данных\n",
    "    </div>"
   ]
  },
  {
   "cell_type": "code",
   "execution_count": 24,
   "metadata": {},
   "outputs": [
    {
     "data": {
      "text/plain": [
       "{'final.output.concentrate_ag',\n",
       " 'final.output.concentrate_au',\n",
       " 'final.output.concentrate_pb',\n",
       " 'final.output.concentrate_sol',\n",
       " 'final.output.tail_ag',\n",
       " 'final.output.tail_au',\n",
       " 'final.output.tail_pb',\n",
       " 'final.output.tail_sol',\n",
       " 'primary_cleaner.output.concentrate_ag',\n",
       " 'primary_cleaner.output.concentrate_au',\n",
       " 'primary_cleaner.output.concentrate_pb',\n",
       " 'primary_cleaner.output.concentrate_sol',\n",
       " 'primary_cleaner.output.tail_ag',\n",
       " 'primary_cleaner.output.tail_au',\n",
       " 'primary_cleaner.output.tail_pb',\n",
       " 'primary_cleaner.output.tail_sol',\n",
       " 'rougher.calculation.au_pb_ratio',\n",
       " 'rougher.calculation.floatbank10_sulfate_to_au_feed',\n",
       " 'rougher.calculation.floatbank11_sulfate_to_au_feed',\n",
       " 'rougher.calculation.sulfate_to_au_concentrate',\n",
       " 'rougher.output.concentrate_ag',\n",
       " 'rougher.output.concentrate_au',\n",
       " 'rougher.output.concentrate_pb',\n",
       " 'rougher.output.concentrate_sol',\n",
       " 'rougher.output.tail_ag',\n",
       " 'rougher.output.tail_au',\n",
       " 'rougher.output.tail_pb',\n",
       " 'rougher.output.tail_sol',\n",
       " 'secondary_cleaner.output.tail_ag',\n",
       " 'secondary_cleaner.output.tail_au',\n",
       " 'secondary_cleaner.output.tail_pb',\n",
       " 'secondary_cleaner.output.tail_sol'}"
      ]
     },
     "execution_count": 24,
     "metadata": {},
     "output_type": "execute_result"
    }
   ],
   "source": [
    "not_signs = set(train_data.columns) - set(test_data.columns)\n",
    "not_signs"
   ]
  },
  {
   "cell_type": "code",
   "execution_count": 25,
   "metadata": {},
   "outputs": [
    {
     "data": {
      "text/html": [
       "<div>\n",
       "<style scoped>\n",
       "    .dataframe tbody tr th:only-of-type {\n",
       "        vertical-align: middle;\n",
       "    }\n",
       "\n",
       "    .dataframe tbody tr th {\n",
       "        vertical-align: top;\n",
       "    }\n",
       "\n",
       "    .dataframe thead th {\n",
       "        text-align: right;\n",
       "    }\n",
       "</style>\n",
       "<table border=\"1\" class=\"dataframe\">\n",
       "  <thead>\n",
       "    <tr style=\"text-align: right;\">\n",
       "      <th></th>\n",
       "      <th>final.output.recovery</th>\n",
       "      <th>primary_cleaner.input.sulfate</th>\n",
       "      <th>primary_cleaner.input.depressant</th>\n",
       "      <th>primary_cleaner.input.feed_size</th>\n",
       "      <th>primary_cleaner.input.xanthate</th>\n",
       "      <th>primary_cleaner.state.floatbank8_a_air</th>\n",
       "      <th>primary_cleaner.state.floatbank8_a_level</th>\n",
       "      <th>primary_cleaner.state.floatbank8_b_air</th>\n",
       "      <th>primary_cleaner.state.floatbank8_b_level</th>\n",
       "      <th>primary_cleaner.state.floatbank8_c_air</th>\n",
       "      <th>...</th>\n",
       "      <th>secondary_cleaner.state.floatbank4_a_air</th>\n",
       "      <th>secondary_cleaner.state.floatbank4_a_level</th>\n",
       "      <th>secondary_cleaner.state.floatbank4_b_air</th>\n",
       "      <th>secondary_cleaner.state.floatbank4_b_level</th>\n",
       "      <th>secondary_cleaner.state.floatbank5_a_air</th>\n",
       "      <th>secondary_cleaner.state.floatbank5_a_level</th>\n",
       "      <th>secondary_cleaner.state.floatbank5_b_air</th>\n",
       "      <th>secondary_cleaner.state.floatbank5_b_level</th>\n",
       "      <th>secondary_cleaner.state.floatbank6_a_air</th>\n",
       "      <th>secondary_cleaner.state.floatbank6_a_level</th>\n",
       "    </tr>\n",
       "    <tr>\n",
       "      <th>date</th>\n",
       "      <th></th>\n",
       "      <th></th>\n",
       "      <th></th>\n",
       "      <th></th>\n",
       "      <th></th>\n",
       "      <th></th>\n",
       "      <th></th>\n",
       "      <th></th>\n",
       "      <th></th>\n",
       "      <th></th>\n",
       "      <th></th>\n",
       "      <th></th>\n",
       "      <th></th>\n",
       "      <th></th>\n",
       "      <th></th>\n",
       "      <th></th>\n",
       "      <th></th>\n",
       "      <th></th>\n",
       "      <th></th>\n",
       "      <th></th>\n",
       "      <th></th>\n",
       "    </tr>\n",
       "  </thead>\n",
       "  <tbody>\n",
       "    <tr>\n",
       "      <th>2016-01-15 00:00:00</th>\n",
       "      <td>70.541216</td>\n",
       "      <td>127.092003</td>\n",
       "      <td>10.128295</td>\n",
       "      <td>7.25</td>\n",
       "      <td>0.988759</td>\n",
       "      <td>1549.775757</td>\n",
       "      <td>-498.912140</td>\n",
       "      <td>1551.434204</td>\n",
       "      <td>-516.403442</td>\n",
       "      <td>1549.873901</td>\n",
       "      <td>...</td>\n",
       "      <td>14.016835</td>\n",
       "      <td>-502.488007</td>\n",
       "      <td>12.099931</td>\n",
       "      <td>-504.715942</td>\n",
       "      <td>9.925633</td>\n",
       "      <td>-498.310211</td>\n",
       "      <td>8.079666</td>\n",
       "      <td>-500.470978</td>\n",
       "      <td>14.151341</td>\n",
       "      <td>-605.841980</td>\n",
       "    </tr>\n",
       "    <tr>\n",
       "      <th>2016-01-15 01:00:00</th>\n",
       "      <td>69.266198</td>\n",
       "      <td>125.629232</td>\n",
       "      <td>10.296251</td>\n",
       "      <td>7.25</td>\n",
       "      <td>1.002663</td>\n",
       "      <td>1576.166671</td>\n",
       "      <td>-500.904965</td>\n",
       "      <td>1575.950626</td>\n",
       "      <td>-499.865889</td>\n",
       "      <td>1575.994189</td>\n",
       "      <td>...</td>\n",
       "      <td>13.992281</td>\n",
       "      <td>-505.503262</td>\n",
       "      <td>11.950531</td>\n",
       "      <td>-501.331529</td>\n",
       "      <td>10.039245</td>\n",
       "      <td>-500.169983</td>\n",
       "      <td>7.984757</td>\n",
       "      <td>-500.582168</td>\n",
       "      <td>13.998353</td>\n",
       "      <td>-599.787184</td>\n",
       "    </tr>\n",
       "    <tr>\n",
       "      <th>2016-01-15 02:00:00</th>\n",
       "      <td>68.116445</td>\n",
       "      <td>123.819808</td>\n",
       "      <td>11.316280</td>\n",
       "      <td>7.25</td>\n",
       "      <td>0.991265</td>\n",
       "      <td>1601.556163</td>\n",
       "      <td>-499.997791</td>\n",
       "      <td>1600.386685</td>\n",
       "      <td>-500.607762</td>\n",
       "      <td>1602.003542</td>\n",
       "      <td>...</td>\n",
       "      <td>14.015015</td>\n",
       "      <td>-502.520901</td>\n",
       "      <td>11.912783</td>\n",
       "      <td>-501.133383</td>\n",
       "      <td>10.070913</td>\n",
       "      <td>-500.129135</td>\n",
       "      <td>8.013877</td>\n",
       "      <td>-500.517572</td>\n",
       "      <td>14.028663</td>\n",
       "      <td>-601.427363</td>\n",
       "    </tr>\n",
       "    <tr>\n",
       "      <th>2016-01-15 03:00:00</th>\n",
       "      <td>68.347543</td>\n",
       "      <td>122.270188</td>\n",
       "      <td>11.322140</td>\n",
       "      <td>7.25</td>\n",
       "      <td>0.996739</td>\n",
       "      <td>1599.968720</td>\n",
       "      <td>-500.951778</td>\n",
       "      <td>1600.659236</td>\n",
       "      <td>-499.677094</td>\n",
       "      <td>1600.304144</td>\n",
       "      <td>...</td>\n",
       "      <td>14.036510</td>\n",
       "      <td>-500.857308</td>\n",
       "      <td>11.999550</td>\n",
       "      <td>-501.193686</td>\n",
       "      <td>9.970366</td>\n",
       "      <td>-499.201640</td>\n",
       "      <td>7.977324</td>\n",
       "      <td>-500.255908</td>\n",
       "      <td>14.005551</td>\n",
       "      <td>-599.996129</td>\n",
       "    </tr>\n",
       "    <tr>\n",
       "      <th>2016-01-15 04:00:00</th>\n",
       "      <td>66.927016</td>\n",
       "      <td>117.988169</td>\n",
       "      <td>11.913613</td>\n",
       "      <td>7.25</td>\n",
       "      <td>1.009869</td>\n",
       "      <td>1601.339707</td>\n",
       "      <td>-498.975456</td>\n",
       "      <td>1601.437854</td>\n",
       "      <td>-500.323246</td>\n",
       "      <td>1599.581894</td>\n",
       "      <td>...</td>\n",
       "      <td>14.027298</td>\n",
       "      <td>-499.838632</td>\n",
       "      <td>11.953070</td>\n",
       "      <td>-501.053894</td>\n",
       "      <td>9.925709</td>\n",
       "      <td>-501.686727</td>\n",
       "      <td>7.894242</td>\n",
       "      <td>-500.356035</td>\n",
       "      <td>13.996647</td>\n",
       "      <td>-601.496691</td>\n",
       "    </tr>\n",
       "    <tr>\n",
       "      <th>...</th>\n",
       "      <td>...</td>\n",
       "      <td>...</td>\n",
       "      <td>...</td>\n",
       "      <td>...</td>\n",
       "      <td>...</td>\n",
       "      <td>...</td>\n",
       "      <td>...</td>\n",
       "      <td>...</td>\n",
       "      <td>...</td>\n",
       "      <td>...</td>\n",
       "      <td>...</td>\n",
       "      <td>...</td>\n",
       "      <td>...</td>\n",
       "      <td>...</td>\n",
       "      <td>...</td>\n",
       "      <td>...</td>\n",
       "      <td>...</td>\n",
       "      <td>...</td>\n",
       "      <td>...</td>\n",
       "      <td>...</td>\n",
       "      <td>...</td>\n",
       "    </tr>\n",
       "    <tr>\n",
       "      <th>2018-08-18 06:59:59</th>\n",
       "      <td>73.755150</td>\n",
       "      <td>123.381787</td>\n",
       "      <td>8.028927</td>\n",
       "      <td>6.50</td>\n",
       "      <td>1.304232</td>\n",
       "      <td>1648.421193</td>\n",
       "      <td>-400.382169</td>\n",
       "      <td>1648.742005</td>\n",
       "      <td>-400.359661</td>\n",
       "      <td>1648.578230</td>\n",
       "      <td>...</td>\n",
       "      <td>23.031497</td>\n",
       "      <td>-501.167942</td>\n",
       "      <td>20.007571</td>\n",
       "      <td>-499.740028</td>\n",
       "      <td>18.006038</td>\n",
       "      <td>-499.834374</td>\n",
       "      <td>13.001114</td>\n",
       "      <td>-500.155694</td>\n",
       "      <td>20.007840</td>\n",
       "      <td>-501.296428</td>\n",
       "    </tr>\n",
       "    <tr>\n",
       "      <th>2018-08-18 07:59:59</th>\n",
       "      <td>69.049291</td>\n",
       "      <td>120.878188</td>\n",
       "      <td>7.962636</td>\n",
       "      <td>6.50</td>\n",
       "      <td>1.302419</td>\n",
       "      <td>1649.820162</td>\n",
       "      <td>-399.930973</td>\n",
       "      <td>1649.357538</td>\n",
       "      <td>-399.721222</td>\n",
       "      <td>1648.656192</td>\n",
       "      <td>...</td>\n",
       "      <td>22.960095</td>\n",
       "      <td>-501.612783</td>\n",
       "      <td>20.035660</td>\n",
       "      <td>-500.251357</td>\n",
       "      <td>17.998535</td>\n",
       "      <td>-500.395178</td>\n",
       "      <td>12.954048</td>\n",
       "      <td>-499.895163</td>\n",
       "      <td>19.968498</td>\n",
       "      <td>-501.041608</td>\n",
       "    </tr>\n",
       "    <tr>\n",
       "      <th>2018-08-18 08:59:59</th>\n",
       "      <td>67.002189</td>\n",
       "      <td>105.666118</td>\n",
       "      <td>7.955111</td>\n",
       "      <td>6.50</td>\n",
       "      <td>1.315926</td>\n",
       "      <td>1649.166761</td>\n",
       "      <td>-399.888631</td>\n",
       "      <td>1649.196904</td>\n",
       "      <td>-399.677571</td>\n",
       "      <td>1647.896999</td>\n",
       "      <td>...</td>\n",
       "      <td>23.015718</td>\n",
       "      <td>-501.711599</td>\n",
       "      <td>19.951231</td>\n",
       "      <td>-499.857027</td>\n",
       "      <td>18.019543</td>\n",
       "      <td>-500.451156</td>\n",
       "      <td>13.023431</td>\n",
       "      <td>-499.914391</td>\n",
       "      <td>19.990885</td>\n",
       "      <td>-501.518452</td>\n",
       "    </tr>\n",
       "    <tr>\n",
       "      <th>2018-08-18 09:59:59</th>\n",
       "      <td>65.523246</td>\n",
       "      <td>98.880538</td>\n",
       "      <td>7.984164</td>\n",
       "      <td>6.50</td>\n",
       "      <td>1.241969</td>\n",
       "      <td>1646.547763</td>\n",
       "      <td>-398.977083</td>\n",
       "      <td>1648.212240</td>\n",
       "      <td>-400.383265</td>\n",
       "      <td>1648.917387</td>\n",
       "      <td>...</td>\n",
       "      <td>23.024963</td>\n",
       "      <td>-501.153409</td>\n",
       "      <td>20.054122</td>\n",
       "      <td>-500.314711</td>\n",
       "      <td>17.979515</td>\n",
       "      <td>-499.272871</td>\n",
       "      <td>12.992404</td>\n",
       "      <td>-499.976268</td>\n",
       "      <td>20.013986</td>\n",
       "      <td>-500.625471</td>\n",
       "    </tr>\n",
       "    <tr>\n",
       "      <th>2018-08-18 10:59:59</th>\n",
       "      <td>70.281454</td>\n",
       "      <td>95.248427</td>\n",
       "      <td>8.078957</td>\n",
       "      <td>6.50</td>\n",
       "      <td>1.283045</td>\n",
       "      <td>1648.759906</td>\n",
       "      <td>-399.862053</td>\n",
       "      <td>1650.135395</td>\n",
       "      <td>-399.957321</td>\n",
       "      <td>1648.831890</td>\n",
       "      <td>...</td>\n",
       "      <td>23.018622</td>\n",
       "      <td>-500.492702</td>\n",
       "      <td>20.020205</td>\n",
       "      <td>-500.220296</td>\n",
       "      <td>17.963512</td>\n",
       "      <td>-499.939490</td>\n",
       "      <td>12.990306</td>\n",
       "      <td>-500.080993</td>\n",
       "      <td>19.990336</td>\n",
       "      <td>-499.191575</td>\n",
       "    </tr>\n",
       "  </tbody>\n",
       "</table>\n",
       "<p>13792 rows × 54 columns</p>\n",
       "</div>"
      ],
      "text/plain": [
       "                     final.output.recovery  primary_cleaner.input.sulfate  \\\n",
       "date                                                                        \n",
       "2016-01-15 00:00:00              70.541216                     127.092003   \n",
       "2016-01-15 01:00:00              69.266198                     125.629232   \n",
       "2016-01-15 02:00:00              68.116445                     123.819808   \n",
       "2016-01-15 03:00:00              68.347543                     122.270188   \n",
       "2016-01-15 04:00:00              66.927016                     117.988169   \n",
       "...                                    ...                            ...   \n",
       "2018-08-18 06:59:59              73.755150                     123.381787   \n",
       "2018-08-18 07:59:59              69.049291                     120.878188   \n",
       "2018-08-18 08:59:59              67.002189                     105.666118   \n",
       "2018-08-18 09:59:59              65.523246                      98.880538   \n",
       "2018-08-18 10:59:59              70.281454                      95.248427   \n",
       "\n",
       "                     primary_cleaner.input.depressant  \\\n",
       "date                                                    \n",
       "2016-01-15 00:00:00                         10.128295   \n",
       "2016-01-15 01:00:00                         10.296251   \n",
       "2016-01-15 02:00:00                         11.316280   \n",
       "2016-01-15 03:00:00                         11.322140   \n",
       "2016-01-15 04:00:00                         11.913613   \n",
       "...                                               ...   \n",
       "2018-08-18 06:59:59                          8.028927   \n",
       "2018-08-18 07:59:59                          7.962636   \n",
       "2018-08-18 08:59:59                          7.955111   \n",
       "2018-08-18 09:59:59                          7.984164   \n",
       "2018-08-18 10:59:59                          8.078957   \n",
       "\n",
       "                     primary_cleaner.input.feed_size  \\\n",
       "date                                                   \n",
       "2016-01-15 00:00:00                             7.25   \n",
       "2016-01-15 01:00:00                             7.25   \n",
       "2016-01-15 02:00:00                             7.25   \n",
       "2016-01-15 03:00:00                             7.25   \n",
       "2016-01-15 04:00:00                             7.25   \n",
       "...                                              ...   \n",
       "2018-08-18 06:59:59                             6.50   \n",
       "2018-08-18 07:59:59                             6.50   \n",
       "2018-08-18 08:59:59                             6.50   \n",
       "2018-08-18 09:59:59                             6.50   \n",
       "2018-08-18 10:59:59                             6.50   \n",
       "\n",
       "                     primary_cleaner.input.xanthate  \\\n",
       "date                                                  \n",
       "2016-01-15 00:00:00                        0.988759   \n",
       "2016-01-15 01:00:00                        1.002663   \n",
       "2016-01-15 02:00:00                        0.991265   \n",
       "2016-01-15 03:00:00                        0.996739   \n",
       "2016-01-15 04:00:00                        1.009869   \n",
       "...                                             ...   \n",
       "2018-08-18 06:59:59                        1.304232   \n",
       "2018-08-18 07:59:59                        1.302419   \n",
       "2018-08-18 08:59:59                        1.315926   \n",
       "2018-08-18 09:59:59                        1.241969   \n",
       "2018-08-18 10:59:59                        1.283045   \n",
       "\n",
       "                     primary_cleaner.state.floatbank8_a_air  \\\n",
       "date                                                          \n",
       "2016-01-15 00:00:00                             1549.775757   \n",
       "2016-01-15 01:00:00                             1576.166671   \n",
       "2016-01-15 02:00:00                             1601.556163   \n",
       "2016-01-15 03:00:00                             1599.968720   \n",
       "2016-01-15 04:00:00                             1601.339707   \n",
       "...                                                     ...   \n",
       "2018-08-18 06:59:59                             1648.421193   \n",
       "2018-08-18 07:59:59                             1649.820162   \n",
       "2018-08-18 08:59:59                             1649.166761   \n",
       "2018-08-18 09:59:59                             1646.547763   \n",
       "2018-08-18 10:59:59                             1648.759906   \n",
       "\n",
       "                     primary_cleaner.state.floatbank8_a_level  \\\n",
       "date                                                            \n",
       "2016-01-15 00:00:00                               -498.912140   \n",
       "2016-01-15 01:00:00                               -500.904965   \n",
       "2016-01-15 02:00:00                               -499.997791   \n",
       "2016-01-15 03:00:00                               -500.951778   \n",
       "2016-01-15 04:00:00                               -498.975456   \n",
       "...                                                       ...   \n",
       "2018-08-18 06:59:59                               -400.382169   \n",
       "2018-08-18 07:59:59                               -399.930973   \n",
       "2018-08-18 08:59:59                               -399.888631   \n",
       "2018-08-18 09:59:59                               -398.977083   \n",
       "2018-08-18 10:59:59                               -399.862053   \n",
       "\n",
       "                     primary_cleaner.state.floatbank8_b_air  \\\n",
       "date                                                          \n",
       "2016-01-15 00:00:00                             1551.434204   \n",
       "2016-01-15 01:00:00                             1575.950626   \n",
       "2016-01-15 02:00:00                             1600.386685   \n",
       "2016-01-15 03:00:00                             1600.659236   \n",
       "2016-01-15 04:00:00                             1601.437854   \n",
       "...                                                     ...   \n",
       "2018-08-18 06:59:59                             1648.742005   \n",
       "2018-08-18 07:59:59                             1649.357538   \n",
       "2018-08-18 08:59:59                             1649.196904   \n",
       "2018-08-18 09:59:59                             1648.212240   \n",
       "2018-08-18 10:59:59                             1650.135395   \n",
       "\n",
       "                     primary_cleaner.state.floatbank8_b_level  \\\n",
       "date                                                            \n",
       "2016-01-15 00:00:00                               -516.403442   \n",
       "2016-01-15 01:00:00                               -499.865889   \n",
       "2016-01-15 02:00:00                               -500.607762   \n",
       "2016-01-15 03:00:00                               -499.677094   \n",
       "2016-01-15 04:00:00                               -500.323246   \n",
       "...                                                       ...   \n",
       "2018-08-18 06:59:59                               -400.359661   \n",
       "2018-08-18 07:59:59                               -399.721222   \n",
       "2018-08-18 08:59:59                               -399.677571   \n",
       "2018-08-18 09:59:59                               -400.383265   \n",
       "2018-08-18 10:59:59                               -399.957321   \n",
       "\n",
       "                     primary_cleaner.state.floatbank8_c_air  ...  \\\n",
       "date                                                         ...   \n",
       "2016-01-15 00:00:00                             1549.873901  ...   \n",
       "2016-01-15 01:00:00                             1575.994189  ...   \n",
       "2016-01-15 02:00:00                             1602.003542  ...   \n",
       "2016-01-15 03:00:00                             1600.304144  ...   \n",
       "2016-01-15 04:00:00                             1599.581894  ...   \n",
       "...                                                     ...  ...   \n",
       "2018-08-18 06:59:59                             1648.578230  ...   \n",
       "2018-08-18 07:59:59                             1648.656192  ...   \n",
       "2018-08-18 08:59:59                             1647.896999  ...   \n",
       "2018-08-18 09:59:59                             1648.917387  ...   \n",
       "2018-08-18 10:59:59                             1648.831890  ...   \n",
       "\n",
       "                     secondary_cleaner.state.floatbank4_a_air  \\\n",
       "date                                                            \n",
       "2016-01-15 00:00:00                                 14.016835   \n",
       "2016-01-15 01:00:00                                 13.992281   \n",
       "2016-01-15 02:00:00                                 14.015015   \n",
       "2016-01-15 03:00:00                                 14.036510   \n",
       "2016-01-15 04:00:00                                 14.027298   \n",
       "...                                                       ...   \n",
       "2018-08-18 06:59:59                                 23.031497   \n",
       "2018-08-18 07:59:59                                 22.960095   \n",
       "2018-08-18 08:59:59                                 23.015718   \n",
       "2018-08-18 09:59:59                                 23.024963   \n",
       "2018-08-18 10:59:59                                 23.018622   \n",
       "\n",
       "                     secondary_cleaner.state.floatbank4_a_level  \\\n",
       "date                                                              \n",
       "2016-01-15 00:00:00                                 -502.488007   \n",
       "2016-01-15 01:00:00                                 -505.503262   \n",
       "2016-01-15 02:00:00                                 -502.520901   \n",
       "2016-01-15 03:00:00                                 -500.857308   \n",
       "2016-01-15 04:00:00                                 -499.838632   \n",
       "...                                                         ...   \n",
       "2018-08-18 06:59:59                                 -501.167942   \n",
       "2018-08-18 07:59:59                                 -501.612783   \n",
       "2018-08-18 08:59:59                                 -501.711599   \n",
       "2018-08-18 09:59:59                                 -501.153409   \n",
       "2018-08-18 10:59:59                                 -500.492702   \n",
       "\n",
       "                     secondary_cleaner.state.floatbank4_b_air  \\\n",
       "date                                                            \n",
       "2016-01-15 00:00:00                                 12.099931   \n",
       "2016-01-15 01:00:00                                 11.950531   \n",
       "2016-01-15 02:00:00                                 11.912783   \n",
       "2016-01-15 03:00:00                                 11.999550   \n",
       "2016-01-15 04:00:00                                 11.953070   \n",
       "...                                                       ...   \n",
       "2018-08-18 06:59:59                                 20.007571   \n",
       "2018-08-18 07:59:59                                 20.035660   \n",
       "2018-08-18 08:59:59                                 19.951231   \n",
       "2018-08-18 09:59:59                                 20.054122   \n",
       "2018-08-18 10:59:59                                 20.020205   \n",
       "\n",
       "                     secondary_cleaner.state.floatbank4_b_level  \\\n",
       "date                                                              \n",
       "2016-01-15 00:00:00                                 -504.715942   \n",
       "2016-01-15 01:00:00                                 -501.331529   \n",
       "2016-01-15 02:00:00                                 -501.133383   \n",
       "2016-01-15 03:00:00                                 -501.193686   \n",
       "2016-01-15 04:00:00                                 -501.053894   \n",
       "...                                                         ...   \n",
       "2018-08-18 06:59:59                                 -499.740028   \n",
       "2018-08-18 07:59:59                                 -500.251357   \n",
       "2018-08-18 08:59:59                                 -499.857027   \n",
       "2018-08-18 09:59:59                                 -500.314711   \n",
       "2018-08-18 10:59:59                                 -500.220296   \n",
       "\n",
       "                     secondary_cleaner.state.floatbank5_a_air  \\\n",
       "date                                                            \n",
       "2016-01-15 00:00:00                                  9.925633   \n",
       "2016-01-15 01:00:00                                 10.039245   \n",
       "2016-01-15 02:00:00                                 10.070913   \n",
       "2016-01-15 03:00:00                                  9.970366   \n",
       "2016-01-15 04:00:00                                  9.925709   \n",
       "...                                                       ...   \n",
       "2018-08-18 06:59:59                                 18.006038   \n",
       "2018-08-18 07:59:59                                 17.998535   \n",
       "2018-08-18 08:59:59                                 18.019543   \n",
       "2018-08-18 09:59:59                                 17.979515   \n",
       "2018-08-18 10:59:59                                 17.963512   \n",
       "\n",
       "                     secondary_cleaner.state.floatbank5_a_level  \\\n",
       "date                                                              \n",
       "2016-01-15 00:00:00                                 -498.310211   \n",
       "2016-01-15 01:00:00                                 -500.169983   \n",
       "2016-01-15 02:00:00                                 -500.129135   \n",
       "2016-01-15 03:00:00                                 -499.201640   \n",
       "2016-01-15 04:00:00                                 -501.686727   \n",
       "...                                                         ...   \n",
       "2018-08-18 06:59:59                                 -499.834374   \n",
       "2018-08-18 07:59:59                                 -500.395178   \n",
       "2018-08-18 08:59:59                                 -500.451156   \n",
       "2018-08-18 09:59:59                                 -499.272871   \n",
       "2018-08-18 10:59:59                                 -499.939490   \n",
       "\n",
       "                     secondary_cleaner.state.floatbank5_b_air  \\\n",
       "date                                                            \n",
       "2016-01-15 00:00:00                                  8.079666   \n",
       "2016-01-15 01:00:00                                  7.984757   \n",
       "2016-01-15 02:00:00                                  8.013877   \n",
       "2016-01-15 03:00:00                                  7.977324   \n",
       "2016-01-15 04:00:00                                  7.894242   \n",
       "...                                                       ...   \n",
       "2018-08-18 06:59:59                                 13.001114   \n",
       "2018-08-18 07:59:59                                 12.954048   \n",
       "2018-08-18 08:59:59                                 13.023431   \n",
       "2018-08-18 09:59:59                                 12.992404   \n",
       "2018-08-18 10:59:59                                 12.990306   \n",
       "\n",
       "                     secondary_cleaner.state.floatbank5_b_level  \\\n",
       "date                                                              \n",
       "2016-01-15 00:00:00                                 -500.470978   \n",
       "2016-01-15 01:00:00                                 -500.582168   \n",
       "2016-01-15 02:00:00                                 -500.517572   \n",
       "2016-01-15 03:00:00                                 -500.255908   \n",
       "2016-01-15 04:00:00                                 -500.356035   \n",
       "...                                                         ...   \n",
       "2018-08-18 06:59:59                                 -500.155694   \n",
       "2018-08-18 07:59:59                                 -499.895163   \n",
       "2018-08-18 08:59:59                                 -499.914391   \n",
       "2018-08-18 09:59:59                                 -499.976268   \n",
       "2018-08-18 10:59:59                                 -500.080993   \n",
       "\n",
       "                     secondary_cleaner.state.floatbank6_a_air  \\\n",
       "date                                                            \n",
       "2016-01-15 00:00:00                                 14.151341   \n",
       "2016-01-15 01:00:00                                 13.998353   \n",
       "2016-01-15 02:00:00                                 14.028663   \n",
       "2016-01-15 03:00:00                                 14.005551   \n",
       "2016-01-15 04:00:00                                 13.996647   \n",
       "...                                                       ...   \n",
       "2018-08-18 06:59:59                                 20.007840   \n",
       "2018-08-18 07:59:59                                 19.968498   \n",
       "2018-08-18 08:59:59                                 19.990885   \n",
       "2018-08-18 09:59:59                                 20.013986   \n",
       "2018-08-18 10:59:59                                 19.990336   \n",
       "\n",
       "                     secondary_cleaner.state.floatbank6_a_level  \n",
       "date                                                             \n",
       "2016-01-15 00:00:00                                 -605.841980  \n",
       "2016-01-15 01:00:00                                 -599.787184  \n",
       "2016-01-15 02:00:00                                 -601.427363  \n",
       "2016-01-15 03:00:00                                 -599.996129  \n",
       "2016-01-15 04:00:00                                 -601.496691  \n",
       "...                                                         ...  \n",
       "2018-08-18 06:59:59                                 -501.296428  \n",
       "2018-08-18 07:59:59                                 -501.041608  \n",
       "2018-08-18 08:59:59                                 -501.518452  \n",
       "2018-08-18 09:59:59                                 -500.625471  \n",
       "2018-08-18 10:59:59                                 -499.191575  \n",
       "\n",
       "[13792 rows x 54 columns]"
      ]
     },
     "execution_count": 25,
     "metadata": {},
     "output_type": "execute_result"
    }
   ],
   "source": [
    "train_data = train_data.drop(not_signs, axis='columns')\n",
    "train_data"
   ]
  },
  {
   "cell_type": "markdown",
   "metadata": {},
   "source": [
    "## Модель"
   ]
  },
  {
   "cell_type": "markdown",
   "metadata": {},
   "source": [
    "<div class=\"alert alert-info\">\n",
    "<b>\n",
    "по условиям задачи, нам нужно спрогнозировать 2 величины:\n",
    "<br>1. эффективность обогащения чернового концентрата rougher.output.recovery\n",
    "<br>2. эффективность обогащения финального концентрата final.output.recovery\n",
    "<br>Значит это будут наши целевые признаки\n",
    "    </div>"
   ]
  },
  {
   "cell_type": "markdown",
   "metadata": {},
   "source": [
    "<div class=\"alert alert-info\">\n",
    "<b>\n",
    "Напишим функцию вычисления sMAPE\n",
    "    </div>"
   ]
  },
  {
   "cell_type": "code",
   "execution_count": 27,
   "metadata": {},
   "outputs": [],
   "source": [
    "def calculate_smape(target_actual, target_predictions):\n",
    "    numerator = np.abs(target_actual - target_predictions)\n",
    "    denominator = (np.abs(target_actual) + np.abs(target_predictions)) / 2 \n",
    "    \n",
    "    return 1 / len(target_actual) * np.sum(numerator / denominator) * 100 \n",
    "    \n",
    "    \n",
    "def calculate_final_smape(target_actual, target_predictions):\n",
    "    target_actual_rougher = target_actual['rougher.output.recovery']\n",
    "    target_actual_final = target_actual['final.output.recovery']\n",
    "    \n",
    "    target_predictions_rougher = target_predictions[:, 0]\n",
    "    target_predictions_final = target_predictions[:, 1]\n",
    "    \n",
    "    return 0.25 * calculate_smape(target_actual_rougher, target_predictions_rougher) \\\n",
    "        + 0.75 * calculate_smape(target_actual_rougher, target_predictions_rougher)"
   ]
  },
  {
   "cell_type": "markdown",
   "metadata": {},
   "source": [
    "<div class=\"alert alert-info\">\n",
    "<b>\n",
    "В качестве оценки в кросс-валидации установим значение функции sMAPE\n",
    "    </div>"
   ]
  },
  {
   "cell_type": "code",
   "execution_count": 28,
   "metadata": {},
   "outputs": [],
   "source": [
    "smape_scorer = make_scorer(calculate_final_smape, greater_is_better=False)"
   ]
  },
  {
   "cell_type": "markdown",
   "metadata": {},
   "source": [
    "<div class=\"alert alert-info\">\n",
    "<b>\n",
    "Выделим признаки\n",
    "    </div>"
   ]
  },
  {
   "cell_type": "code",
   "execution_count": 29,
   "metadata": {},
   "outputs": [],
   "source": [
    "features_train = train_data.drop(['rougher.output.recovery','final.output.recovery'], axis='columns')\n",
    "target_train = train_data[['rougher.output.recovery','final.output.recovery']]\n",
    "features_test = test_data.drop(['rougher.output.recovery','final.output.recovery'], axis=1)\n",
    "target_test = test_data[['rougher.output.recovery','final.output.recovery']]"
   ]
  },
  {
   "cell_type": "markdown",
   "metadata": {},
   "source": [
    "<div class=\"alert alert-info\">\n",
    "<b>\n",
    "Приступим к обучению моделей на тренировочных данных\n",
    "    </div>"
   ]
  },
  {
   "cell_type": "code",
   "execution_count": 30,
   "metadata": {},
   "outputs": [
    {
     "name": "stdout",
     "output_type": "stream",
     "text": [
      "Лучшее значение sMAPE для дерева решений: 7.272530148921706\n"
     ]
    }
   ],
   "source": [
    "#Линейная регрессия\n",
    "model=LinearRegression()\n",
    "model.fit(features_train,target_train)\n",
    "smape = cross_val_score(model,features_train,target_train, cv=5, scoring=smape_scorer).mean()\n",
    "print('Лучшее значение sMAPE для дерева решений:',smape*(-1))\n"
   ]
  },
  {
   "cell_type": "code",
   "execution_count": 36,
   "metadata": {},
   "outputs": [
    {
     "name": "stdout",
     "output_type": "stream",
     "text": [
      "Лучшее значение sMAPE для дерева решений: 7.242562461094463 при значениях гиперпараметров: {'max_depth': 2, 'min_samples_split': 2}\n"
     ]
    }
   ],
   "source": [
    "#Дерево решений\n",
    "param_grid = {'max_depth': range(2, 11), 'min_samples_split': [2,3,4]}\n",
    "\n",
    "model = DecisionTreeRegressor(random_state=RANDOM_STATE)\n",
    "search = GridSearchCV(model, param_grid, cv=5, scoring=smape_scorer)\n",
    "search.fit(features_train, target_train)\n",
    "print('Лучшее значение sMAPE для дерева решений: {} при значениях гиперпараметров: {}'.format(-search.best_score_, search.best_params_,  search.best_params_))"
   ]
  },
  {
   "cell_type": "code",
   "execution_count": 37,
   "metadata": {},
   "outputs": [
    {
     "name": "stdout",
     "output_type": "stream",
     "text": [
      "Лучшее значение sMAPE для случайного леса: 6.706619297522074 при значениях гиперпараметров: {'max_depth': 4, 'n_estimators': 20}\n"
     ]
    }
   ],
   "source": [
    "#Случайный лес\n",
    "param_grid = {'n_estimators': range(10, 31, 10), 'max_depth': range(1,5)}\n",
    "\n",
    "model = RandomForestRegressor(random_state=RANDOM_STATE)\n",
    "search = GridSearchCV(model, param_grid, cv=5, scoring=smape_scorer)\n",
    "search.fit(features_train, target_train)\n",
    "print('Лучшее значение sMAPE для случайного леса: {} при значениях гиперпараметров: {}'.format(-search.best_score_, search.best_params_))"
   ]
  },
  {
   "cell_type": "markdown",
   "metadata": {},
   "source": [
    "<div class=\"alert alert-info\">\n",
    "<b>\n",
    "V2.Видим, что минимальное значение sMAPE у модели случайного леса, с гиперпараетрами - max_depth=4, n_estimators=20.\n",
    "Проверим эту модель на тестовой выборке\n",
    "    </div>"
   ]
  },
  {
   "cell_type": "markdown",
   "metadata": {},
   "source": [
    "<div class=\"alert alert-info\">\n",
    "<b>\n",
    "   V2. Добавила в набор для дерева и леса еще гиперпараметры и перебрала их гридсерчем\n",
    "    </div>"
   ]
  },
  {
   "cell_type": "code",
   "execution_count": 38,
   "metadata": {},
   "outputs": [
    {
     "name": "stdout",
     "output_type": "stream",
     "text": [
      "sMAPE для тестовых данных: 8.533806497482086\n"
     ]
    }
   ],
   "source": [
    "model = RandomForestRegressor(max_depth=4, n_estimators=20, random_state=RANDOM_STATE) \n",
    "model.fit(features_train, target_train)\n",
    "predictions_test = model.predict(features_test)\n",
    "\n",
    "print('sMAPE для тестовых данных:', calculate_final_smape(target_test, predictions_test))"
   ]
  },
  {
   "cell_type": "markdown",
   "metadata": {},
   "source": [
    "<div class=\"alert alert-info\">\n",
    "<b>\n",
    "V.2 Произведем преверку на адекватность нашей модели, сравнив sMAPE для Dummy модели на тренировочных данных и на тестовых. если значение нашей модели будет лучше - значит модель работает адекватно.\n",
    "</div>"
   ]
  },
  {
   "cell_type": "code",
   "execution_count": 44,
   "metadata": {},
   "outputs": [
    {
     "name": "stdout",
     "output_type": "stream",
     "text": [
      "sMAPE Dummy на тренировочных данных: 7.347410661910845\n"
     ]
    }
   ],
   "source": [
    "dummy_rougher = DummyRegressor(strategy='mean')\n",
    "dummy_rougher.fit(features_train, target_train)\n",
    "dummy_rougher_predict = dummy_rougher.predict(features_train)\n",
    "smape_dummy = calculate_final_smape(target_train, dummy_rougher_predict)\n",
    "print('sMAPE Dummy на тренировочных данных:', smape_dummy)"
   ]
  },
  {
   "cell_type": "code",
   "execution_count": 41,
   "metadata": {},
   "outputs": [
    {
     "name": "stdout",
     "output_type": "stream",
     "text": [
      "sMAPE Dummy на тестовых данных: 9.066150363733703\n"
     ]
    }
   ],
   "source": [
    "dummy_rougher = DummyRegressor(strategy='mean')\n",
    "dummy_rougher.fit(features_train, target_train)\n",
    "dummy_rougher_predict = dummy_rougher.predict(features_test)\n",
    "smape_dummy = calculate_final_smape(target_test,dummy_rougher_predict)\n",
    "print('sMAPE Dummy на тестовых данных:', smape_dummy)"
   ]
  },
  {
   "cell_type": "markdown",
   "metadata": {},
   "source": [
    "<div class=\"alert alert-info\">\n",
    "<b>\n",
    "   v2. Видим, что значение sMAPE у Dummy модели на тренировочных данных и на тестовых данных выше, чем значение у модели случайный лес, с гиперпараметрами  max_depth=4, n_estimators=20.\n",
    "    </div>"
   ]
  },
  {
   "cell_type": "markdown",
   "metadata": {},
   "source": [
    "<div class=\"alert alert-info\">\n",
    "<b>\n",
    "Вывод:\n",
    "<br>в нашем распоряжении были данные компании \"Цифры\".\n",
    "<br>Необходимо было подготовить прототип модели машинного обучения. Модель должна предсказать коэффициент восстановления золота из золотосодержащей руды, для этого мы:\n",
    "<br>-загрузили данные\n",
    "<br>-проверили рассчет значения эффективности обогащения\n",
    "<br>-проанализировали признаки, не доступные в тестовой выборке\n",
    "<br>-проследили изменение концентрации металлов на различных этапах процесса\n",
    "<br>-сравнили распределение гранул на тренировочной и тестовой выборках\n",
    "<br>-исследовали суммарную концентрацию всех веществ на разных этапах\n",
    "<br>-построили модели\n",
    "<br>-оценуку моделей провели с помощью кросс-валидации по формуле sMAPE\n",
    "<br>-протестировали лучшую модель на тестовой выборке\n",
    "<br>По итогу нашей работы, лучшая модель оказалась модель случайного леса, с гипермпараметрами - max_depth=4, n_estimators=20. Данную модель рекомендуем к использованию компании \"Цифры\"\n",
    "    </div>"
   ]
  },
  {
   "cell_type": "markdown",
   "metadata": {},
   "source": [
    "## Чек-лист готовности проекта"
   ]
  }
 ],
 "metadata": {
  "ExecuteTimeLog": [
   {
    "duration": 1510,
    "start_time": "2023-03-22T07:19:08.706Z"
   },
   {
    "duration": 2531,
    "start_time": "2023-03-22T07:20:20.614Z"
   },
   {
    "duration": 19,
    "start_time": "2023-03-22T07:21:12.108Z"
   },
   {
    "duration": 24,
    "start_time": "2023-03-22T07:26:01.752Z"
   },
   {
    "duration": 847,
    "start_time": "2023-03-22T07:29:20.244Z"
   },
   {
    "duration": 6,
    "start_time": "2023-03-22T07:29:41.426Z"
   },
   {
    "duration": 26,
    "start_time": "2023-03-22T07:30:02.690Z"
   },
   {
    "duration": 127,
    "start_time": "2023-03-22T07:31:54.180Z"
   },
   {
    "duration": 7,
    "start_time": "2023-03-22T07:33:15.829Z"
   },
   {
    "duration": 26,
    "start_time": "2023-03-22T07:37:18.014Z"
   },
   {
    "duration": 56,
    "start_time": "2023-03-22T07:38:00.130Z"
   },
   {
    "duration": 11,
    "start_time": "2023-03-22T07:38:06.635Z"
   },
   {
    "duration": 13,
    "start_time": "2023-03-22T07:44:42.668Z"
   },
   {
    "duration": 21,
    "start_time": "2023-03-22T07:45:22.164Z"
   },
   {
    "duration": 32,
    "start_time": "2023-03-22T07:47:10.285Z"
   },
   {
    "duration": 4,
    "start_time": "2023-03-22T07:47:43.347Z"
   },
   {
    "duration": 7,
    "start_time": "2023-03-22T07:50:12.408Z"
   },
   {
    "duration": 13,
    "start_time": "2023-03-22T07:50:32.731Z"
   },
   {
    "duration": 17,
    "start_time": "2023-03-22T07:50:57.353Z"
   },
   {
    "duration": 10,
    "start_time": "2023-03-22T07:52:29.031Z"
   },
   {
    "duration": 7,
    "start_time": "2023-03-22T07:52:41.648Z"
   },
   {
    "duration": 101,
    "start_time": "2023-03-22T07:53:07.558Z"
   },
   {
    "duration": 84,
    "start_time": "2023-03-22T07:53:16.933Z"
   },
   {
    "duration": 13,
    "start_time": "2023-03-22T07:57:29.120Z"
   },
   {
    "duration": 3,
    "start_time": "2023-03-22T08:02:25.583Z"
   },
   {
    "duration": 2,
    "start_time": "2023-03-22T08:02:49.618Z"
   },
   {
    "duration": 9,
    "start_time": "2023-03-22T08:02:54.496Z"
   },
   {
    "duration": 4,
    "start_time": "2023-03-22T08:35:24.738Z"
   },
   {
    "duration": 4,
    "start_time": "2023-03-22T08:35:28.161Z"
   },
   {
    "duration": 5,
    "start_time": "2023-03-22T08:36:19.752Z"
   },
   {
    "duration": 13,
    "start_time": "2023-03-22T08:38:38.624Z"
   },
   {
    "duration": 6,
    "start_time": "2023-03-22T08:39:00.248Z"
   },
   {
    "duration": 4,
    "start_time": "2023-03-22T08:41:40.293Z"
   },
   {
    "duration": 5,
    "start_time": "2023-03-22T08:42:16.382Z"
   },
   {
    "duration": 51,
    "start_time": "2023-03-23T04:19:18.234Z"
   },
   {
    "duration": 1460,
    "start_time": "2023-03-23T04:19:49.884Z"
   },
   {
    "duration": 2508,
    "start_time": "2023-03-23T04:19:51.346Z"
   },
   {
    "duration": 16,
    "start_time": "2023-03-23T04:19:53.856Z"
   },
   {
    "duration": 19,
    "start_time": "2023-03-23T04:19:53.873Z"
   },
   {
    "duration": 24,
    "start_time": "2023-03-23T04:19:53.893Z"
   },
   {
    "duration": 123,
    "start_time": "2023-03-23T04:19:53.918Z"
   },
   {
    "duration": 107,
    "start_time": "2023-03-23T04:19:54.042Z"
   },
   {
    "duration": 0,
    "start_time": "2023-03-23T04:19:54.151Z"
   },
   {
    "duration": 0,
    "start_time": "2023-03-23T04:19:54.151Z"
   },
   {
    "duration": 0,
    "start_time": "2023-03-23T04:19:54.152Z"
   },
   {
    "duration": 0,
    "start_time": "2023-03-23T04:19:54.153Z"
   },
   {
    "duration": 0,
    "start_time": "2023-03-23T04:19:54.154Z"
   },
   {
    "duration": 0,
    "start_time": "2023-03-23T04:19:54.154Z"
   },
   {
    "duration": 0,
    "start_time": "2023-03-23T04:19:54.155Z"
   },
   {
    "duration": 0,
    "start_time": "2023-03-23T04:19:54.155Z"
   },
   {
    "duration": 0,
    "start_time": "2023-03-23T04:19:54.156Z"
   },
   {
    "duration": 0,
    "start_time": "2023-03-23T04:19:54.156Z"
   },
   {
    "duration": 0,
    "start_time": "2023-03-23T04:19:54.157Z"
   },
   {
    "duration": 0,
    "start_time": "2023-03-23T04:19:54.158Z"
   },
   {
    "duration": 0,
    "start_time": "2023-03-23T04:19:54.159Z"
   },
   {
    "duration": 11,
    "start_time": "2023-03-23T04:20:11.300Z"
   },
   {
    "duration": 1432,
    "start_time": "2023-03-23T04:20:21.441Z"
   },
   {
    "duration": 601,
    "start_time": "2023-03-23T04:20:22.874Z"
   },
   {
    "duration": 17,
    "start_time": "2023-03-23T04:20:23.476Z"
   },
   {
    "duration": 32,
    "start_time": "2023-03-23T04:20:23.495Z"
   },
   {
    "duration": 19,
    "start_time": "2023-03-23T04:20:23.529Z"
   },
   {
    "duration": 116,
    "start_time": "2023-03-23T04:20:23.549Z"
   },
   {
    "duration": 9,
    "start_time": "2023-03-23T04:20:23.666Z"
   },
   {
    "duration": 15,
    "start_time": "2023-03-23T04:20:23.676Z"
   },
   {
    "duration": 13,
    "start_time": "2023-03-23T04:20:23.693Z"
   },
   {
    "duration": 18,
    "start_time": "2023-03-23T04:20:23.731Z"
   },
   {
    "duration": 19,
    "start_time": "2023-03-23T04:20:23.751Z"
   },
   {
    "duration": 4,
    "start_time": "2023-03-23T04:20:23.771Z"
   },
   {
    "duration": 17,
    "start_time": "2023-03-23T04:20:23.777Z"
   },
   {
    "duration": 6,
    "start_time": "2023-03-23T04:20:23.795Z"
   },
   {
    "duration": 113,
    "start_time": "2023-03-23T04:20:23.802Z"
   },
   {
    "duration": 17,
    "start_time": "2023-03-23T04:20:23.916Z"
   },
   {
    "duration": 3,
    "start_time": "2023-03-23T04:20:23.935Z"
   },
   {
    "duration": 7,
    "start_time": "2023-03-23T04:20:23.940Z"
   },
   {
    "duration": 6,
    "start_time": "2023-03-23T04:20:23.948Z"
   },
   {
    "duration": 4,
    "start_time": "2023-03-23T04:20:23.956Z"
   },
   {
    "duration": 134,
    "start_time": "2023-03-23T06:05:34.986Z"
   },
   {
    "duration": 1532,
    "start_time": "2023-03-23T06:06:08.447Z"
   },
   {
    "duration": 1892,
    "start_time": "2023-03-23T06:07:04.759Z"
   },
   {
    "duration": 747,
    "start_time": "2023-03-23T06:08:45.751Z"
   },
   {
    "duration": 3394,
    "start_time": "2023-03-23T06:09:49.583Z"
   },
   {
    "duration": 3717,
    "start_time": "2023-03-23T06:11:23.685Z"
   },
   {
    "duration": 3569,
    "start_time": "2023-03-23T06:12:46.979Z"
   },
   {
    "duration": 190,
    "start_time": "2023-03-23T06:13:46.111Z"
   },
   {
    "duration": 151,
    "start_time": "2023-03-23T06:14:01.348Z"
   },
   {
    "duration": 344,
    "start_time": "2023-03-23T06:14:22.848Z"
   },
   {
    "duration": 3299,
    "start_time": "2023-03-23T06:15:09.953Z"
   },
   {
    "duration": 4524,
    "start_time": "2023-03-23T06:39:36.948Z"
   },
   {
    "duration": 63,
    "start_time": "2023-03-24T07:55:54.633Z"
   },
   {
    "duration": 1930,
    "start_time": "2023-03-24T07:56:23.257Z"
   },
   {
    "duration": 2735,
    "start_time": "2023-03-24T07:56:28.056Z"
   },
   {
    "duration": 22,
    "start_time": "2023-03-24T07:56:30.793Z"
   },
   {
    "duration": 58,
    "start_time": "2023-03-24T07:56:31.651Z"
   },
   {
    "duration": 33,
    "start_time": "2023-03-24T07:56:33.578Z"
   },
   {
    "duration": 180,
    "start_time": "2023-03-24T07:56:35.242Z"
   },
   {
    "duration": 19,
    "start_time": "2023-03-24T07:56:37.282Z"
   },
   {
    "duration": 25,
    "start_time": "2023-03-24T07:56:38.655Z"
   },
   {
    "duration": 16,
    "start_time": "2023-03-24T07:56:39.918Z"
   },
   {
    "duration": 31,
    "start_time": "2023-03-24T07:56:41.547Z"
   },
   {
    "duration": 24,
    "start_time": "2023-03-24T07:56:42.591Z"
   },
   {
    "duration": 6,
    "start_time": "2023-03-24T07:56:43.720Z"
   },
   {
    "duration": 28,
    "start_time": "2023-03-24T07:56:44.551Z"
   },
   {
    "duration": 15,
    "start_time": "2023-03-24T07:56:45.277Z"
   },
   {
    "duration": 145,
    "start_time": "2023-03-24T07:56:45.852Z"
   },
   {
    "duration": 17,
    "start_time": "2023-03-24T07:56:46.496Z"
   },
   {
    "duration": 3,
    "start_time": "2023-03-24T07:56:47.824Z"
   },
   {
    "duration": 8,
    "start_time": "2023-03-24T07:56:48.483Z"
   },
   {
    "duration": 7,
    "start_time": "2023-03-24T07:56:49.699Z"
   },
   {
    "duration": 6,
    "start_time": "2023-03-24T07:56:51.872Z"
   },
   {
    "duration": 4583,
    "start_time": "2023-03-24T07:56:55.513Z"
   },
   {
    "duration": 1259,
    "start_time": "2023-03-24T07:57:03.585Z"
   },
   {
    "duration": 856,
    "start_time": "2023-03-24T07:57:37.789Z"
   },
   {
    "duration": 803,
    "start_time": "2023-03-24T07:59:46.578Z"
   },
   {
    "duration": 11,
    "start_time": "2023-03-24T08:28:19.770Z"
   },
   {
    "duration": 795,
    "start_time": "2023-03-24T08:30:52.835Z"
   },
   {
    "duration": 618,
    "start_time": "2023-03-24T08:31:25.653Z"
   },
   {
    "duration": 214,
    "start_time": "2023-03-24T08:41:19.479Z"
   },
   {
    "duration": 96,
    "start_time": "2023-03-24T08:45:23.296Z"
   },
   {
    "duration": 1388,
    "start_time": "2023-03-24T08:47:37.673Z"
   },
   {
    "duration": 39,
    "start_time": "2023-03-24T08:47:47.414Z"
   },
   {
    "duration": 17,
    "start_time": "2023-03-24T08:51:41.267Z"
   },
   {
    "duration": 16,
    "start_time": "2023-03-24T08:53:32.473Z"
   },
   {
    "duration": 17,
    "start_time": "2023-03-24T08:54:13.706Z"
   },
   {
    "duration": 18,
    "start_time": "2023-03-24T08:54:21.176Z"
   },
   {
    "duration": 15,
    "start_time": "2023-03-24T08:54:32.265Z"
   },
   {
    "duration": 3,
    "start_time": "2023-03-24T09:06:07.302Z"
   },
   {
    "duration": 4,
    "start_time": "2023-03-24T09:13:48.760Z"
   },
   {
    "duration": 1139,
    "start_time": "2023-03-24T09:14:47.156Z"
   },
   {
    "duration": 7,
    "start_time": "2023-03-24T09:14:57.395Z"
   },
   {
    "duration": 737,
    "start_time": "2023-03-24T09:14:59.765Z"
   },
   {
    "duration": 18,
    "start_time": "2023-03-24T09:15:00.504Z"
   },
   {
    "duration": 35,
    "start_time": "2023-03-24T09:15:01.091Z"
   },
   {
    "duration": 21,
    "start_time": "2023-03-24T09:15:01.695Z"
   },
   {
    "duration": 140,
    "start_time": "2023-03-24T09:15:02.243Z"
   },
   {
    "duration": 14,
    "start_time": "2023-03-24T09:15:03.043Z"
   },
   {
    "duration": 1509,
    "start_time": "2023-03-24T09:15:09.521Z"
   },
   {
    "duration": 809,
    "start_time": "2023-03-24T09:15:11.032Z"
   },
   {
    "duration": 28,
    "start_time": "2023-03-24T09:15:11.843Z"
   },
   {
    "duration": 36,
    "start_time": "2023-03-24T09:15:11.873Z"
   },
   {
    "duration": 21,
    "start_time": "2023-03-24T09:15:11.912Z"
   },
   {
    "duration": 168,
    "start_time": "2023-03-24T09:15:11.935Z"
   },
   {
    "duration": 15,
    "start_time": "2023-03-24T09:15:12.105Z"
   },
   {
    "duration": 20,
    "start_time": "2023-03-24T09:15:12.122Z"
   },
   {
    "duration": 35,
    "start_time": "2023-03-24T09:15:12.144Z"
   },
   {
    "duration": 26,
    "start_time": "2023-03-24T09:15:12.182Z"
   },
   {
    "duration": 53,
    "start_time": "2023-03-24T09:15:12.210Z"
   },
   {
    "duration": 7,
    "start_time": "2023-03-24T09:15:12.264Z"
   },
   {
    "duration": 18,
    "start_time": "2023-03-24T09:15:12.273Z"
   },
   {
    "duration": 9,
    "start_time": "2023-03-24T09:15:12.294Z"
   },
   {
    "duration": 140,
    "start_time": "2023-03-24T09:15:12.305Z"
   },
   {
    "duration": 24,
    "start_time": "2023-03-24T09:15:12.446Z"
   },
   {
    "duration": 4,
    "start_time": "2023-03-24T09:15:12.473Z"
   },
   {
    "duration": 8,
    "start_time": "2023-03-24T09:15:12.479Z"
   },
   {
    "duration": 5,
    "start_time": "2023-03-24T09:15:12.490Z"
   },
   {
    "duration": 5,
    "start_time": "2023-03-24T09:15:12.497Z"
   },
   {
    "duration": 4429,
    "start_time": "2023-03-24T09:15:12.504Z"
   },
   {
    "duration": 1062,
    "start_time": "2023-03-24T09:15:16.971Z"
   },
   {
    "duration": 10,
    "start_time": "2023-03-24T09:15:18.035Z"
   },
   {
    "duration": 699,
    "start_time": "2023-03-24T09:15:18.047Z"
   },
   {
    "duration": 22,
    "start_time": "2023-03-24T09:15:18.748Z"
   },
   {
    "duration": 5,
    "start_time": "2023-03-24T09:15:18.772Z"
   },
   {
    "duration": 4,
    "start_time": "2023-03-24T09:15:18.779Z"
   },
   {
    "duration": 4,
    "start_time": "2023-03-24T09:17:20.456Z"
   },
   {
    "duration": 129,
    "start_time": "2023-03-24T09:19:14.508Z"
   },
   {
    "duration": 1619,
    "start_time": "2023-03-24T09:19:23.186Z"
   },
   {
    "duration": 784,
    "start_time": "2023-03-24T09:19:24.808Z"
   },
   {
    "duration": 22,
    "start_time": "2023-03-24T09:19:25.594Z"
   },
   {
    "duration": 60,
    "start_time": "2023-03-24T09:19:25.619Z"
   },
   {
    "duration": 21,
    "start_time": "2023-03-24T09:19:25.681Z"
   },
   {
    "duration": 142,
    "start_time": "2023-03-24T09:19:25.704Z"
   },
   {
    "duration": 28,
    "start_time": "2023-03-24T09:19:25.848Z"
   },
   {
    "duration": 16,
    "start_time": "2023-03-24T09:19:25.877Z"
   },
   {
    "duration": 16,
    "start_time": "2023-03-24T09:19:25.895Z"
   },
   {
    "duration": 49,
    "start_time": "2023-03-24T09:19:25.914Z"
   },
   {
    "duration": 31,
    "start_time": "2023-03-24T09:19:25.964Z"
   },
   {
    "duration": 7,
    "start_time": "2023-03-24T09:19:25.996Z"
   },
   {
    "duration": 22,
    "start_time": "2023-03-24T09:19:26.004Z"
   },
   {
    "duration": 39,
    "start_time": "2023-03-24T09:19:26.028Z"
   },
   {
    "duration": 115,
    "start_time": "2023-03-24T09:19:26.073Z"
   },
   {
    "duration": 17,
    "start_time": "2023-03-24T09:19:26.189Z"
   },
   {
    "duration": 4,
    "start_time": "2023-03-24T09:19:26.208Z"
   },
   {
    "duration": 8,
    "start_time": "2023-03-24T09:19:26.213Z"
   },
   {
    "duration": 7,
    "start_time": "2023-03-24T09:19:26.222Z"
   },
   {
    "duration": 45,
    "start_time": "2023-03-24T09:19:26.230Z"
   },
   {
    "duration": 4471,
    "start_time": "2023-03-24T09:19:26.279Z"
   },
   {
    "duration": 1150,
    "start_time": "2023-03-24T09:19:30.751Z"
   },
   {
    "duration": 10,
    "start_time": "2023-03-24T09:19:31.905Z"
   },
   {
    "duration": 790,
    "start_time": "2023-03-24T09:19:31.918Z"
   },
   {
    "duration": 17,
    "start_time": "2023-03-24T09:19:32.710Z"
   },
   {
    "duration": 5,
    "start_time": "2023-03-24T09:19:32.730Z"
   },
   {
    "duration": 38,
    "start_time": "2023-03-24T09:19:32.737Z"
   },
   {
    "duration": 7,
    "start_time": "2023-03-24T09:19:32.782Z"
   },
   {
    "duration": 4,
    "start_time": "2023-03-24T09:19:32.791Z"
   },
   {
    "duration": 4,
    "start_time": "2023-03-24T09:19:32.797Z"
   },
   {
    "duration": 5,
    "start_time": "2023-03-24T09:20:51.678Z"
   },
   {
    "duration": 3,
    "start_time": "2023-03-24T09:21:10.691Z"
   },
   {
    "duration": 1625,
    "start_time": "2023-03-27T06:36:41.721Z"
   },
   {
    "duration": 2619,
    "start_time": "2023-03-27T06:36:43.348Z"
   },
   {
    "duration": 19,
    "start_time": "2023-03-27T06:36:45.969Z"
   },
   {
    "duration": 24,
    "start_time": "2023-03-27T06:36:45.990Z"
   },
   {
    "duration": 24,
    "start_time": "2023-03-27T06:36:46.016Z"
   },
   {
    "duration": 135,
    "start_time": "2023-03-27T06:36:46.042Z"
   },
   {
    "duration": 15,
    "start_time": "2023-03-27T06:36:46.179Z"
   },
   {
    "duration": 12,
    "start_time": "2023-03-27T06:36:46.196Z"
   },
   {
    "duration": 32,
    "start_time": "2023-03-27T06:36:46.210Z"
   },
   {
    "duration": 17,
    "start_time": "2023-03-27T06:36:46.245Z"
   },
   {
    "duration": 21,
    "start_time": "2023-03-27T06:36:46.264Z"
   },
   {
    "duration": 5,
    "start_time": "2023-03-27T06:36:46.287Z"
   },
   {
    "duration": 46,
    "start_time": "2023-03-27T06:36:46.294Z"
   },
   {
    "duration": 7,
    "start_time": "2023-03-27T06:36:46.342Z"
   },
   {
    "duration": 118,
    "start_time": "2023-03-27T06:36:46.351Z"
   },
   {
    "duration": 20,
    "start_time": "2023-03-27T06:36:46.471Z"
   },
   {
    "duration": 3,
    "start_time": "2023-03-27T06:36:46.493Z"
   },
   {
    "duration": 12,
    "start_time": "2023-03-27T06:36:46.497Z"
   },
   {
    "duration": 26,
    "start_time": "2023-03-27T06:36:46.511Z"
   },
   {
    "duration": 8,
    "start_time": "2023-03-27T06:36:46.539Z"
   },
   {
    "duration": 4061,
    "start_time": "2023-03-27T06:36:46.549Z"
   },
   {
    "duration": 959,
    "start_time": "2023-03-27T06:36:50.611Z"
   },
   {
    "duration": 9,
    "start_time": "2023-03-27T06:36:51.572Z"
   },
   {
    "duration": 657,
    "start_time": "2023-03-27T06:36:51.583Z"
   },
   {
    "duration": 14,
    "start_time": "2023-03-27T06:36:52.242Z"
   },
   {
    "duration": 17,
    "start_time": "2023-03-27T06:36:52.258Z"
   },
   {
    "duration": 5,
    "start_time": "2023-03-27T06:36:52.278Z"
   },
   {
    "duration": 6,
    "start_time": "2023-03-27T06:36:52.286Z"
   },
   {
    "duration": 9,
    "start_time": "2023-03-27T06:36:52.293Z"
   },
   {
    "duration": 14,
    "start_time": "2023-03-27T06:36:52.303Z"
   },
   {
    "duration": 10,
    "start_time": "2023-03-27T06:36:52.319Z"
   },
   {
    "duration": 142,
    "start_time": "2023-03-27T06:40:23.103Z"
   },
   {
    "duration": 67,
    "start_time": "2023-03-28T07:04:42.370Z"
   },
   {
    "duration": 1980,
    "start_time": "2023-03-28T07:04:56.622Z"
   },
   {
    "duration": 3302,
    "start_time": "2023-03-28T07:04:58.605Z"
   },
   {
    "duration": 20,
    "start_time": "2023-03-28T07:05:01.909Z"
   },
   {
    "duration": 43,
    "start_time": "2023-03-28T07:05:01.931Z"
   },
   {
    "duration": 40,
    "start_time": "2023-03-28T07:05:01.976Z"
   },
   {
    "duration": 130,
    "start_time": "2023-03-28T07:05:02.017Z"
   },
   {
    "duration": 12,
    "start_time": "2023-03-28T07:05:02.148Z"
   },
   {
    "duration": 42,
    "start_time": "2023-03-28T07:05:02.162Z"
   },
   {
    "duration": 17,
    "start_time": "2023-03-28T07:05:02.206Z"
   },
   {
    "duration": 17,
    "start_time": "2023-03-28T07:05:02.225Z"
   },
   {
    "duration": 43,
    "start_time": "2023-03-28T07:05:02.244Z"
   },
   {
    "duration": 8,
    "start_time": "2023-03-28T07:05:02.289Z"
   },
   {
    "duration": 30,
    "start_time": "2023-03-28T07:05:02.299Z"
   },
   {
    "duration": 10,
    "start_time": "2023-03-28T07:05:02.331Z"
   },
   {
    "duration": 143,
    "start_time": "2023-03-28T07:05:02.343Z"
   },
   {
    "duration": 23,
    "start_time": "2023-03-28T07:05:02.488Z"
   },
   {
    "duration": 3,
    "start_time": "2023-03-28T07:05:02.513Z"
   },
   {
    "duration": 29,
    "start_time": "2023-03-28T07:05:02.518Z"
   },
   {
    "duration": 14,
    "start_time": "2023-03-28T07:05:02.548Z"
   },
   {
    "duration": 8,
    "start_time": "2023-03-28T07:05:02.564Z"
   },
   {
    "duration": 4470,
    "start_time": "2023-03-28T07:05:02.573Z"
   },
   {
    "duration": 1038,
    "start_time": "2023-03-28T07:05:07.045Z"
   },
   {
    "duration": 9,
    "start_time": "2023-03-28T07:05:08.084Z"
   },
   {
    "duration": 680,
    "start_time": "2023-03-28T07:05:08.095Z"
   },
   {
    "duration": 31,
    "start_time": "2023-03-28T07:05:08.778Z"
   },
   {
    "duration": 9,
    "start_time": "2023-03-28T07:05:08.811Z"
   },
   {
    "duration": 7,
    "start_time": "2023-03-28T07:05:08.822Z"
   },
   {
    "duration": 4,
    "start_time": "2023-03-28T07:05:08.832Z"
   },
   {
    "duration": 21,
    "start_time": "2023-03-28T07:05:08.837Z"
   },
   {
    "duration": 11,
    "start_time": "2023-03-28T07:05:08.860Z"
   },
   {
    "duration": 22,
    "start_time": "2023-03-28T07:05:08.873Z"
   },
   {
    "duration": 158,
    "start_time": "2023-03-28T07:05:08.897Z"
   },
   {
    "duration": 5,
    "start_time": "2023-03-28T07:08:18.037Z"
   },
   {
    "duration": 17,
    "start_time": "2023-03-28T07:08:21.441Z"
   },
   {
    "duration": 1948,
    "start_time": "2023-03-28T07:08:30.970Z"
   },
   {
    "duration": 763,
    "start_time": "2023-03-28T07:08:32.920Z"
   },
   {
    "duration": 30,
    "start_time": "2023-03-28T07:08:33.685Z"
   },
   {
    "duration": 24,
    "start_time": "2023-03-28T07:08:33.717Z"
   },
   {
    "duration": 21,
    "start_time": "2023-03-28T07:08:33.743Z"
   },
   {
    "duration": 153,
    "start_time": "2023-03-28T07:08:33.789Z"
   },
   {
    "duration": 14,
    "start_time": "2023-03-28T07:08:33.944Z"
   },
   {
    "duration": 33,
    "start_time": "2023-03-28T07:08:33.959Z"
   },
   {
    "duration": 17,
    "start_time": "2023-03-28T07:08:33.994Z"
   },
   {
    "duration": 33,
    "start_time": "2023-03-28T07:08:34.013Z"
   },
   {
    "duration": 22,
    "start_time": "2023-03-28T07:08:34.048Z"
   },
   {
    "duration": 23,
    "start_time": "2023-03-28T07:08:34.072Z"
   },
   {
    "duration": 27,
    "start_time": "2023-03-28T07:08:34.097Z"
   },
   {
    "duration": 8,
    "start_time": "2023-03-28T07:08:34.127Z"
   },
   {
    "duration": 144,
    "start_time": "2023-03-28T07:08:34.137Z"
   },
   {
    "duration": 24,
    "start_time": "2023-03-28T07:08:34.283Z"
   },
   {
    "duration": 3,
    "start_time": "2023-03-28T07:08:34.310Z"
   },
   {
    "duration": 11,
    "start_time": "2023-03-28T07:08:34.314Z"
   },
   {
    "duration": 24,
    "start_time": "2023-03-28T07:08:34.327Z"
   },
   {
    "duration": 8,
    "start_time": "2023-03-28T07:08:34.353Z"
   },
   {
    "duration": 4308,
    "start_time": "2023-03-28T07:08:34.363Z"
   },
   {
    "duration": 1115,
    "start_time": "2023-03-28T07:08:38.673Z"
   },
   {
    "duration": 10,
    "start_time": "2023-03-28T07:08:39.791Z"
   },
   {
    "duration": 743,
    "start_time": "2023-03-28T07:08:39.804Z"
   },
   {
    "duration": 16,
    "start_time": "2023-03-28T07:08:40.549Z"
   },
   {
    "duration": 29,
    "start_time": "2023-03-28T07:08:40.568Z"
   },
   {
    "duration": 16,
    "start_time": "2023-03-28T07:08:40.599Z"
   },
   {
    "duration": 9,
    "start_time": "2023-03-28T07:08:40.617Z"
   },
   {
    "duration": 9,
    "start_time": "2023-03-28T07:08:40.629Z"
   },
   {
    "duration": 8,
    "start_time": "2023-03-28T07:08:40.641Z"
   },
   {
    "duration": 9,
    "start_time": "2023-03-28T07:08:40.651Z"
   },
   {
    "duration": 8,
    "start_time": "2023-03-28T07:08:40.661Z"
   },
   {
    "duration": 169,
    "start_time": "2023-03-28T07:08:40.671Z"
   },
   {
    "duration": 5,
    "start_time": "2023-03-28T07:17:13.999Z"
   },
   {
    "duration": 767,
    "start_time": "2023-03-28T07:17:16.639Z"
   },
   {
    "duration": 3,
    "start_time": "2023-03-28T07:17:18.265Z"
   },
   {
    "duration": 53,
    "start_time": "2023-03-28T07:19:09.872Z"
   },
   {
    "duration": 65,
    "start_time": "2023-03-28T07:20:44.340Z"
   },
   {
    "duration": 69,
    "start_time": "2023-03-28T07:24:00.246Z"
   },
   {
    "duration": 267,
    "start_time": "2023-03-28T07:25:39.032Z"
   },
   {
    "duration": 257,
    "start_time": "2023-03-28T07:27:19.250Z"
   },
   {
    "duration": 25,
    "start_time": "2023-03-28T07:28:51.002Z"
   },
   {
    "duration": 4,
    "start_time": "2023-03-28T07:30:30.677Z"
   },
   {
    "duration": 6,
    "start_time": "2023-03-28T07:30:31.380Z"
   },
   {
    "duration": 5,
    "start_time": "2023-03-28T07:30:32.752Z"
   },
   {
    "duration": 6,
    "start_time": "2023-03-28T07:30:38.770Z"
   },
   {
    "duration": 4091,
    "start_time": "2023-03-28T07:30:45.898Z"
   },
   {
    "duration": 10,
    "start_time": "2023-03-28T07:45:02.632Z"
   },
   {
    "duration": 13,
    "start_time": "2023-03-28T07:45:41.591Z"
   },
   {
    "duration": 247,
    "start_time": "2023-03-28T07:48:36.072Z"
   },
   {
    "duration": 21,
    "start_time": "2023-03-28T07:48:41.901Z"
   },
   {
    "duration": 4,
    "start_time": "2023-03-28T07:48:43.576Z"
   },
   {
    "duration": 6,
    "start_time": "2023-03-28T07:48:44.166Z"
   },
   {
    "duration": 1789,
    "start_time": "2023-03-28T07:49:09.106Z"
   },
   {
    "duration": 787,
    "start_time": "2023-03-28T07:49:10.897Z"
   },
   {
    "duration": 6,
    "start_time": "2023-03-28T07:49:11.686Z"
   },
   {
    "duration": 63,
    "start_time": "2023-03-28T07:49:11.695Z"
   },
   {
    "duration": 84,
    "start_time": "2023-03-28T07:49:11.760Z"
   },
   {
    "duration": 83,
    "start_time": "2023-03-28T07:49:11.846Z"
   },
   {
    "duration": 279,
    "start_time": "2023-03-28T07:49:11.931Z"
   },
   {
    "duration": 37,
    "start_time": "2023-03-28T07:49:12.216Z"
   },
   {
    "duration": 4,
    "start_time": "2023-03-28T07:49:12.255Z"
   },
   {
    "duration": 28,
    "start_time": "2023-03-28T07:49:12.262Z"
   },
   {
    "duration": 9,
    "start_time": "2023-03-28T07:49:12.292Z"
   },
   {
    "duration": 6,
    "start_time": "2023-03-28T07:49:12.303Z"
   },
   {
    "duration": 4343,
    "start_time": "2023-03-28T07:49:12.312Z"
   },
   {
    "duration": 1073,
    "start_time": "2023-03-28T07:49:16.657Z"
   },
   {
    "duration": 8,
    "start_time": "2023-03-28T07:49:17.732Z"
   },
   {
    "duration": 694,
    "start_time": "2023-03-28T07:49:17.742Z"
   },
   {
    "duration": 12,
    "start_time": "2023-03-28T07:49:18.439Z"
   },
   {
    "duration": 9,
    "start_time": "2023-03-28T07:49:18.453Z"
   },
   {
    "duration": 8,
    "start_time": "2023-03-28T07:49:18.464Z"
   },
   {
    "duration": 8,
    "start_time": "2023-03-28T07:49:18.488Z"
   },
   {
    "duration": 6,
    "start_time": "2023-03-28T07:49:18.498Z"
   },
   {
    "duration": 6,
    "start_time": "2023-03-28T07:49:18.506Z"
   },
   {
    "duration": 6,
    "start_time": "2023-03-28T07:49:18.514Z"
   },
   {
    "duration": 10,
    "start_time": "2023-03-28T07:49:18.522Z"
   },
   {
    "duration": 170,
    "start_time": "2023-03-28T07:49:18.533Z"
   },
   {
    "duration": 4,
    "start_time": "2023-03-28T07:52:14.280Z"
   },
   {
    "duration": 4,
    "start_time": "2023-03-28T07:52:16.936Z"
   },
   {
    "duration": 3,
    "start_time": "2023-03-28T07:53:21.695Z"
   },
   {
    "duration": 12,
    "start_time": "2023-03-28T07:55:43.342Z"
   },
   {
    "duration": 24,
    "start_time": "2023-03-28T07:58:17.612Z"
   },
   {
    "duration": 1452,
    "start_time": "2023-03-28T08:15:10.652Z"
   },
   {
    "duration": 676,
    "start_time": "2023-03-28T08:15:12.106Z"
   },
   {
    "duration": 4,
    "start_time": "2023-03-28T08:15:12.784Z"
   },
   {
    "duration": 62,
    "start_time": "2023-03-28T08:15:12.791Z"
   },
   {
    "duration": 73,
    "start_time": "2023-03-28T08:15:12.854Z"
   },
   {
    "duration": 78,
    "start_time": "2023-03-28T08:15:12.929Z"
   },
   {
    "duration": 253,
    "start_time": "2023-03-28T08:15:13.010Z"
   },
   {
    "duration": 35,
    "start_time": "2023-03-28T08:15:13.265Z"
   },
   {
    "duration": 3,
    "start_time": "2023-03-28T08:15:13.302Z"
   },
   {
    "duration": 7,
    "start_time": "2023-03-28T08:15:13.308Z"
   },
   {
    "duration": 8,
    "start_time": "2023-03-28T08:15:13.316Z"
   },
   {
    "duration": 8,
    "start_time": "2023-03-28T08:15:13.325Z"
   },
   {
    "duration": 3976,
    "start_time": "2023-03-28T08:15:13.335Z"
   },
   {
    "duration": 977,
    "start_time": "2023-03-28T08:15:17.313Z"
   },
   {
    "duration": 8,
    "start_time": "2023-03-28T08:15:18.293Z"
   },
   {
    "duration": 618,
    "start_time": "2023-03-28T08:15:18.303Z"
   },
   {
    "duration": 13,
    "start_time": "2023-03-28T08:15:18.923Z"
   },
   {
    "duration": 11,
    "start_time": "2023-03-28T08:15:18.938Z"
   },
   {
    "duration": 11,
    "start_time": "2023-03-28T08:15:18.950Z"
   },
   {
    "duration": 33,
    "start_time": "2023-03-28T08:15:18.962Z"
   },
   {
    "duration": 142,
    "start_time": "2023-03-28T08:15:18.997Z"
   },
   {
    "duration": 0,
    "start_time": "2023-03-28T08:15:19.141Z"
   },
   {
    "duration": 0,
    "start_time": "2023-03-28T08:15:19.142Z"
   },
   {
    "duration": 18,
    "start_time": "2023-03-28T08:17:12.104Z"
   },
   {
    "duration": 19,
    "start_time": "2023-03-28T08:17:21.561Z"
   },
   {
    "duration": 19,
    "start_time": "2023-03-28T08:17:34.969Z"
   },
   {
    "duration": 15,
    "start_time": "2023-03-28T08:20:06.987Z"
   },
   {
    "duration": 4,
    "start_time": "2023-03-28T08:20:20.800Z"
   },
   {
    "duration": 698,
    "start_time": "2023-03-28T08:20:22.607Z"
   },
   {
    "duration": 4,
    "start_time": "2023-03-28T08:20:23.307Z"
   },
   {
    "duration": 56,
    "start_time": "2023-03-28T08:20:23.738Z"
   },
   {
    "duration": 59,
    "start_time": "2023-03-28T08:20:24.690Z"
   },
   {
    "duration": 54,
    "start_time": "2023-03-28T08:20:26.152Z"
   },
   {
    "duration": 234,
    "start_time": "2023-03-28T08:20:27.656Z"
   },
   {
    "duration": 22,
    "start_time": "2023-03-28T08:20:29.640Z"
   },
   {
    "duration": 3,
    "start_time": "2023-03-28T08:20:31.848Z"
   },
   {
    "duration": 4,
    "start_time": "2023-03-28T08:20:32.544Z"
   },
   {
    "duration": 5,
    "start_time": "2023-03-28T08:20:33.600Z"
   },
   {
    "duration": 6,
    "start_time": "2023-03-28T08:20:35.448Z"
   },
   {
    "duration": 4134,
    "start_time": "2023-03-28T08:20:41.673Z"
   },
   {
    "duration": 823,
    "start_time": "2023-03-28T08:20:45.809Z"
   },
   {
    "duration": 7,
    "start_time": "2023-03-28T08:20:47.721Z"
   },
   {
    "duration": 875,
    "start_time": "2023-03-28T08:20:48.400Z"
   },
   {
    "duration": 13,
    "start_time": "2023-03-28T08:20:49.761Z"
   },
   {
    "duration": 5,
    "start_time": "2023-03-28T08:20:52.240Z"
   },
   {
    "duration": 4,
    "start_time": "2023-03-28T08:20:55.313Z"
   },
   {
    "duration": 6,
    "start_time": "2023-03-28T08:21:00.560Z"
   },
   {
    "duration": 18,
    "start_time": "2023-03-28T08:21:02.863Z"
   },
   {
    "duration": 13,
    "start_time": "2023-03-28T08:22:45.746Z"
   },
   {
    "duration": 17,
    "start_time": "2023-03-28T08:23:02.422Z"
   },
   {
    "duration": 19,
    "start_time": "2023-03-28T08:23:32.345Z"
   },
   {
    "duration": 10,
    "start_time": "2023-03-28T08:24:13.114Z"
   },
   {
    "duration": 9,
    "start_time": "2023-03-28T08:27:41.561Z"
   },
   {
    "duration": 4,
    "start_time": "2023-03-28T08:28:44.146Z"
   },
   {
    "duration": 2,
    "start_time": "2023-03-28T08:28:54.718Z"
   },
   {
    "duration": 20,
    "start_time": "2023-03-28T08:30:58.146Z"
   },
   {
    "duration": 21,
    "start_time": "2023-03-28T08:32:01.548Z"
   },
   {
    "duration": 4,
    "start_time": "2023-03-28T08:32:28.411Z"
   },
   {
    "duration": 5,
    "start_time": "2023-03-28T08:32:29.157Z"
   },
   {
    "duration": 3,
    "start_time": "2023-03-28T08:32:30.475Z"
   },
   {
    "duration": 19,
    "start_time": "2023-03-28T08:32:32.139Z"
   },
   {
    "duration": 3,
    "start_time": "2023-03-28T08:36:10.280Z"
   },
   {
    "duration": 5,
    "start_time": "2023-03-28T08:36:16.906Z"
   },
   {
    "duration": 1564,
    "start_time": "2023-03-28T08:36:16.913Z"
   },
   {
    "duration": 703,
    "start_time": "2023-03-28T08:36:18.479Z"
   },
   {
    "duration": 3,
    "start_time": "2023-03-28T08:36:19.184Z"
   },
   {
    "duration": 49,
    "start_time": "2023-03-28T08:36:19.189Z"
   },
   {
    "duration": 78,
    "start_time": "2023-03-28T08:36:19.240Z"
   },
   {
    "duration": 70,
    "start_time": "2023-03-28T08:36:19.319Z"
   },
   {
    "duration": 254,
    "start_time": "2023-03-28T08:36:19.391Z"
   },
   {
    "duration": 26,
    "start_time": "2023-03-28T08:36:19.647Z"
   },
   {
    "duration": 12,
    "start_time": "2023-03-28T08:36:19.675Z"
   },
   {
    "duration": 5,
    "start_time": "2023-03-28T08:36:19.690Z"
   },
   {
    "duration": 15,
    "start_time": "2023-03-28T08:36:19.697Z"
   },
   {
    "duration": 10,
    "start_time": "2023-03-28T08:36:19.713Z"
   },
   {
    "duration": 4029,
    "start_time": "2023-03-28T08:36:19.725Z"
   },
   {
    "duration": 916,
    "start_time": "2023-03-28T08:36:23.756Z"
   },
   {
    "duration": 6,
    "start_time": "2023-03-28T08:36:24.674Z"
   },
   {
    "duration": 583,
    "start_time": "2023-03-28T08:36:24.687Z"
   },
   {
    "duration": 21,
    "start_time": "2023-03-28T08:36:25.271Z"
   },
   {
    "duration": 9,
    "start_time": "2023-03-28T08:36:25.294Z"
   },
   {
    "duration": 9,
    "start_time": "2023-03-28T08:36:25.304Z"
   },
   {
    "duration": 8,
    "start_time": "2023-03-28T08:36:25.314Z"
   },
   {
    "duration": 6,
    "start_time": "2023-03-28T08:36:25.324Z"
   },
   {
    "duration": 5,
    "start_time": "2023-03-28T08:36:25.331Z"
   },
   {
    "duration": 127,
    "start_time": "2023-03-28T08:36:25.337Z"
   },
   {
    "duration": 21,
    "start_time": "2023-03-28T08:38:23.014Z"
   },
   {
    "duration": 19,
    "start_time": "2023-03-28T08:43:42.598Z"
   },
   {
    "duration": 2,
    "start_time": "2023-03-28T08:44:41.923Z"
   },
   {
    "duration": 4,
    "start_time": "2023-03-28T08:48:56.166Z"
   },
   {
    "duration": 3,
    "start_time": "2023-03-28T08:48:56.726Z"
   },
   {
    "duration": 5,
    "start_time": "2023-03-28T08:48:57.674Z"
   },
   {
    "duration": 3,
    "start_time": "2023-03-28T08:48:58.954Z"
   },
   {
    "duration": 2,
    "start_time": "2023-03-28T08:48:59.406Z"
   },
   {
    "duration": 720,
    "start_time": "2023-03-28T08:49:00.010Z"
   },
   {
    "duration": 104,
    "start_time": "2023-03-28T08:49:56.021Z"
   },
   {
    "duration": 69,
    "start_time": "2023-03-28T08:50:23.254Z"
   },
   {
    "duration": 125,
    "start_time": "2023-03-28T08:52:28.594Z"
   },
   {
    "duration": 82,
    "start_time": "2023-03-28T08:53:01.427Z"
   },
   {
    "duration": 11,
    "start_time": "2023-03-28T09:00:22.811Z"
   },
   {
    "duration": 3,
    "start_time": "2023-03-28T09:00:37.714Z"
   },
   {
    "duration": 1581,
    "start_time": "2023-03-28T09:00:37.722Z"
   },
   {
    "duration": 739,
    "start_time": "2023-03-28T09:00:39.305Z"
   },
   {
    "duration": 3,
    "start_time": "2023-03-28T09:00:40.045Z"
   },
   {
    "duration": 62,
    "start_time": "2023-03-28T09:00:40.051Z"
   },
   {
    "duration": 80,
    "start_time": "2023-03-28T09:00:40.114Z"
   },
   {
    "duration": 57,
    "start_time": "2023-03-28T09:00:40.196Z"
   },
   {
    "duration": 354,
    "start_time": "2023-03-28T09:00:40.254Z"
   },
   {
    "duration": 35,
    "start_time": "2023-03-28T09:00:40.610Z"
   },
   {
    "duration": 4,
    "start_time": "2023-03-28T09:00:40.647Z"
   },
   {
    "duration": 34,
    "start_time": "2023-03-28T09:00:40.654Z"
   },
   {
    "duration": 8,
    "start_time": "2023-03-28T09:00:40.689Z"
   },
   {
    "duration": 16,
    "start_time": "2023-03-28T09:00:40.699Z"
   },
   {
    "duration": 4182,
    "start_time": "2023-03-28T09:00:40.717Z"
   },
   {
    "duration": 997,
    "start_time": "2023-03-28T09:00:44.901Z"
   },
   {
    "duration": 7,
    "start_time": "2023-03-28T09:00:45.899Z"
   },
   {
    "duration": 644,
    "start_time": "2023-03-28T09:00:45.908Z"
   },
   {
    "duration": 13,
    "start_time": "2023-03-28T09:00:46.554Z"
   },
   {
    "duration": 19,
    "start_time": "2023-03-28T09:00:46.569Z"
   },
   {
    "duration": 8,
    "start_time": "2023-03-28T09:00:46.590Z"
   },
   {
    "duration": 11,
    "start_time": "2023-03-28T09:00:46.599Z"
   },
   {
    "duration": 12,
    "start_time": "2023-03-28T09:00:46.612Z"
   },
   {
    "duration": 7,
    "start_time": "2023-03-28T09:00:46.626Z"
   },
   {
    "duration": 13,
    "start_time": "2023-03-28T09:00:46.635Z"
   },
   {
    "duration": 10,
    "start_time": "2023-03-28T09:00:46.650Z"
   },
   {
    "duration": 5,
    "start_time": "2023-03-28T09:00:46.662Z"
   },
   {
    "duration": 410,
    "start_time": "2023-03-28T09:00:46.669Z"
   },
   {
    "duration": 31,
    "start_time": "2023-03-28T09:00:47.081Z"
   },
   {
    "duration": 3,
    "start_time": "2023-03-28T09:03:53.522Z"
   },
   {
    "duration": 1463,
    "start_time": "2023-03-28T09:03:53.527Z"
   },
   {
    "duration": 848,
    "start_time": "2023-03-28T09:03:54.994Z"
   },
   {
    "duration": 3,
    "start_time": "2023-03-28T09:03:55.844Z"
   },
   {
    "duration": 84,
    "start_time": "2023-03-28T09:03:55.850Z"
   },
   {
    "duration": 76,
    "start_time": "2023-03-28T09:03:55.935Z"
   },
   {
    "duration": 87,
    "start_time": "2023-03-28T09:03:56.013Z"
   },
   {
    "duration": 254,
    "start_time": "2023-03-28T09:03:56.102Z"
   },
   {
    "duration": 38,
    "start_time": "2023-03-28T09:03:56.358Z"
   },
   {
    "duration": 3,
    "start_time": "2023-03-28T09:03:56.397Z"
   },
   {
    "duration": 7,
    "start_time": "2023-03-28T09:03:56.403Z"
   },
   {
    "duration": 6,
    "start_time": "2023-03-28T09:03:56.412Z"
   },
   {
    "duration": 16,
    "start_time": "2023-03-28T09:03:56.420Z"
   },
   {
    "duration": 4733,
    "start_time": "2023-03-28T09:03:56.438Z"
   },
   {
    "duration": 1054,
    "start_time": "2023-03-28T09:04:01.173Z"
   },
   {
    "duration": 9,
    "start_time": "2023-03-28T09:04:02.229Z"
   },
   {
    "duration": 652,
    "start_time": "2023-03-28T09:04:02.240Z"
   },
   {
    "duration": 15,
    "start_time": "2023-03-28T09:04:02.894Z"
   },
   {
    "duration": 18,
    "start_time": "2023-03-28T09:04:02.910Z"
   },
   {
    "duration": 17,
    "start_time": "2023-03-28T09:04:02.930Z"
   },
   {
    "duration": 12,
    "start_time": "2023-03-28T09:04:02.949Z"
   },
   {
    "duration": 13,
    "start_time": "2023-03-28T09:04:02.963Z"
   },
   {
    "duration": 11,
    "start_time": "2023-03-28T09:04:02.978Z"
   },
   {
    "duration": 20,
    "start_time": "2023-03-28T09:04:02.991Z"
   },
   {
    "duration": 11,
    "start_time": "2023-03-28T09:04:03.013Z"
   },
   {
    "duration": 14,
    "start_time": "2023-03-28T09:04:03.026Z"
   },
   {
    "duration": 299,
    "start_time": "2023-03-28T09:04:03.042Z"
   },
   {
    "duration": 21,
    "start_time": "2023-03-28T09:04:03.342Z"
   },
   {
    "duration": 1402,
    "start_time": "2023-03-28T09:05:58.601Z"
   },
   {
    "duration": 4,
    "start_time": "2023-03-28T09:06:07.784Z"
   },
   {
    "duration": 1577,
    "start_time": "2023-03-28T09:06:07.791Z"
   },
   {
    "duration": 793,
    "start_time": "2023-03-28T09:06:09.370Z"
   },
   {
    "duration": 3,
    "start_time": "2023-03-28T09:06:10.164Z"
   },
   {
    "duration": 146,
    "start_time": "2023-03-28T09:06:10.169Z"
   },
   {
    "duration": 80,
    "start_time": "2023-03-28T09:06:10.317Z"
   },
   {
    "duration": 88,
    "start_time": "2023-03-28T09:06:10.399Z"
   },
   {
    "duration": 328,
    "start_time": "2023-03-28T09:06:10.490Z"
   },
   {
    "duration": 31,
    "start_time": "2023-03-28T09:06:10.821Z"
   },
   {
    "duration": 3,
    "start_time": "2023-03-28T09:06:10.855Z"
   },
   {
    "duration": 40,
    "start_time": "2023-03-28T09:06:10.861Z"
   },
   {
    "duration": 21,
    "start_time": "2023-03-28T09:06:10.903Z"
   },
   {
    "duration": 25,
    "start_time": "2023-03-28T09:06:10.926Z"
   },
   {
    "duration": 4426,
    "start_time": "2023-03-28T09:06:10.953Z"
   },
   {
    "duration": 1074,
    "start_time": "2023-03-28T09:06:15.380Z"
   },
   {
    "duration": 12,
    "start_time": "2023-03-28T09:06:16.457Z"
   },
   {
    "duration": 756,
    "start_time": "2023-03-28T09:06:16.471Z"
   },
   {
    "duration": 35,
    "start_time": "2023-03-28T09:06:17.228Z"
   },
   {
    "duration": 24,
    "start_time": "2023-03-28T09:06:17.264Z"
   },
   {
    "duration": 12,
    "start_time": "2023-03-28T09:06:17.290Z"
   },
   {
    "duration": 14,
    "start_time": "2023-03-28T09:06:17.304Z"
   },
   {
    "duration": 7,
    "start_time": "2023-03-28T09:06:17.320Z"
   },
   {
    "duration": 11,
    "start_time": "2023-03-28T09:06:17.329Z"
   },
   {
    "duration": 11,
    "start_time": "2023-03-28T09:06:17.341Z"
   },
   {
    "duration": 17,
    "start_time": "2023-03-28T09:06:17.354Z"
   },
   {
    "duration": 11,
    "start_time": "2023-03-28T09:06:17.373Z"
   },
   {
    "duration": 225,
    "start_time": "2023-03-28T09:06:17.385Z"
   },
   {
    "duration": 65,
    "start_time": "2023-03-28T09:06:17.612Z"
   },
   {
    "duration": 26,
    "start_time": "2023-03-28T09:07:50.894Z"
   },
   {
    "duration": 4,
    "start_time": "2023-03-28T09:08:26.808Z"
   },
   {
    "duration": 1479,
    "start_time": "2023-03-28T09:08:26.813Z"
   },
   {
    "duration": 729,
    "start_time": "2023-03-28T09:08:28.294Z"
   },
   {
    "duration": 3,
    "start_time": "2023-03-28T09:08:29.025Z"
   },
   {
    "duration": 63,
    "start_time": "2023-03-28T09:08:29.030Z"
   },
   {
    "duration": 69,
    "start_time": "2023-03-28T09:08:29.095Z"
   },
   {
    "duration": 81,
    "start_time": "2023-03-28T09:08:29.169Z"
   },
   {
    "duration": 283,
    "start_time": "2023-03-28T09:08:29.252Z"
   },
   {
    "duration": 28,
    "start_time": "2023-03-28T09:08:29.537Z"
   },
   {
    "duration": 3,
    "start_time": "2023-03-28T09:08:29.566Z"
   },
   {
    "duration": 7,
    "start_time": "2023-03-28T09:08:29.588Z"
   },
   {
    "duration": 9,
    "start_time": "2023-03-28T09:08:29.596Z"
   },
   {
    "duration": 9,
    "start_time": "2023-03-28T09:08:29.607Z"
   },
   {
    "duration": 4220,
    "start_time": "2023-03-28T09:08:29.618Z"
   },
   {
    "duration": 980,
    "start_time": "2023-03-28T09:08:33.841Z"
   },
   {
    "duration": 7,
    "start_time": "2023-03-28T09:08:34.824Z"
   },
   {
    "duration": 649,
    "start_time": "2023-03-28T09:08:34.832Z"
   },
   {
    "duration": 47,
    "start_time": "2023-03-28T09:08:35.487Z"
   },
   {
    "duration": 23,
    "start_time": "2023-03-28T09:08:35.537Z"
   },
   {
    "duration": 29,
    "start_time": "2023-03-28T09:08:35.561Z"
   },
   {
    "duration": 22,
    "start_time": "2023-03-28T09:08:57.181Z"
   },
   {
    "duration": 1502,
    "start_time": "2023-03-29T04:14:17.660Z"
   },
   {
    "duration": 3180,
    "start_time": "2023-03-29T04:14:21.160Z"
   },
   {
    "duration": 5,
    "start_time": "2023-03-29T04:14:25.209Z"
   },
   {
    "duration": 47,
    "start_time": "2023-03-29T04:14:26.104Z"
   },
   {
    "duration": 59,
    "start_time": "2023-03-29T04:14:28.176Z"
   },
   {
    "duration": 69,
    "start_time": "2023-03-29T04:14:32.025Z"
   },
   {
    "duration": 240,
    "start_time": "2023-03-29T04:14:34.876Z"
   },
   {
    "duration": 283,
    "start_time": "2023-03-29T04:15:07.675Z"
   },
   {
    "duration": 215,
    "start_time": "2023-03-29T04:15:38.275Z"
   },
   {
    "duration": 226,
    "start_time": "2023-03-29T04:15:41.939Z"
   },
   {
    "duration": 30,
    "start_time": "2023-03-29T04:15:44.414Z"
   },
   {
    "duration": 3,
    "start_time": "2023-03-29T04:15:50.638Z"
   },
   {
    "duration": 6,
    "start_time": "2023-03-29T04:15:51.726Z"
   },
   {
    "duration": 5,
    "start_time": "2023-03-29T04:15:53.886Z"
   },
   {
    "duration": 4,
    "start_time": "2023-03-29T04:15:56.966Z"
   },
   {
    "duration": 3852,
    "start_time": "2023-03-29T04:16:03.023Z"
   },
   {
    "duration": 866,
    "start_time": "2023-03-29T04:16:11.583Z"
   },
   {
    "duration": 7,
    "start_time": "2023-03-29T04:16:18.879Z"
   },
   {
    "duration": 568,
    "start_time": "2023-03-29T04:16:20.719Z"
   },
   {
    "duration": 42,
    "start_time": "2023-03-29T04:16:26.767Z"
   },
   {
    "duration": 11,
    "start_time": "2023-03-29T04:16:27.911Z"
   },
   {
    "duration": 20,
    "start_time": "2023-03-29T04:16:29.095Z"
   },
   {
    "duration": 18,
    "start_time": "2023-03-29T04:22:03.748Z"
   },
   {
    "duration": 8,
    "start_time": "2023-03-29T04:23:11.667Z"
   },
   {
    "duration": 4,
    "start_time": "2023-03-29T04:25:20.986Z"
   },
   {
    "duration": 131,
    "start_time": "2023-03-29T05:13:30.395Z"
   },
   {
    "duration": 14,
    "start_time": "2023-03-29T05:14:14.374Z"
   },
   {
    "duration": 4,
    "start_time": "2023-03-29T05:53:14.859Z"
   },
   {
    "duration": 14,
    "start_time": "2023-03-29T05:54:11.060Z"
   },
   {
    "duration": 26,
    "start_time": "2023-03-29T05:56:04.086Z"
   },
   {
    "duration": 4,
    "start_time": "2023-03-29T05:58:07.629Z"
   },
   {
    "duration": 686,
    "start_time": "2023-03-29T05:59:23.383Z"
   },
   {
    "duration": 785,
    "start_time": "2023-03-29T05:59:29.728Z"
   },
   {
    "duration": 3,
    "start_time": "2023-03-29T05:59:31.025Z"
   },
   {
    "duration": 8,
    "start_time": "2023-03-29T06:00:23.753Z"
   },
   {
    "duration": 59,
    "start_time": "2023-03-29T06:01:51.905Z"
   },
   {
    "duration": 43,
    "start_time": "2023-03-29T06:01:59.348Z"
   },
   {
    "duration": 57,
    "start_time": "2023-03-29T06:02:00.334Z"
   },
   {
    "duration": 55,
    "start_time": "2023-03-29T06:02:01.982Z"
   },
   {
    "duration": 237,
    "start_time": "2023-03-29T06:02:06.805Z"
   },
   {
    "duration": 20,
    "start_time": "2023-03-29T06:02:09.181Z"
   },
   {
    "duration": 4,
    "start_time": "2023-03-29T06:02:13.614Z"
   },
   {
    "duration": 12,
    "start_time": "2023-03-29T06:02:14.434Z"
   },
   {
    "duration": 6,
    "start_time": "2023-03-29T06:02:15.580Z"
   },
   {
    "duration": 4,
    "start_time": "2023-03-29T06:02:17.880Z"
   },
   {
    "duration": 3888,
    "start_time": "2023-03-29T06:02:21.635Z"
   },
   {
    "duration": 750,
    "start_time": "2023-03-29T06:02:25.525Z"
   },
   {
    "duration": 7,
    "start_time": "2023-03-29T06:02:29.153Z"
   },
   {
    "duration": 978,
    "start_time": "2023-03-29T06:02:29.994Z"
   },
   {
    "duration": 22,
    "start_time": "2023-03-29T06:02:32.481Z"
   },
   {
    "duration": 10,
    "start_time": "2023-03-29T06:02:33.362Z"
   },
   {
    "duration": 21,
    "start_time": "2023-03-29T06:02:34.167Z"
   },
   {
    "duration": 13,
    "start_time": "2023-03-29T06:02:39.085Z"
   },
   {
    "duration": 3,
    "start_time": "2023-03-29T06:02:39.898Z"
   },
   {
    "duration": 5,
    "start_time": "2023-03-29T06:02:41.151Z"
   },
   {
    "duration": 3,
    "start_time": "2023-03-29T06:02:42.683Z"
   },
   {
    "duration": 6,
    "start_time": "2023-03-29T06:02:44.015Z"
   },
   {
    "duration": 12,
    "start_time": "2023-03-29T06:03:46.318Z"
   },
   {
    "duration": 2,
    "start_time": "2023-03-29T06:04:46.200Z"
   },
   {
    "duration": 3,
    "start_time": "2023-03-29T06:12:12.776Z"
   },
   {
    "duration": 3,
    "start_time": "2023-03-29T06:12:13.970Z"
   },
   {
    "duration": 101,
    "start_time": "2023-03-29T06:12:15.625Z"
   },
   {
    "duration": 49,
    "start_time": "2023-03-29T06:56:19.136Z"
   },
   {
    "duration": 4,
    "start_time": "2023-03-29T06:57:27.580Z"
   },
   {
    "duration": 42,
    "start_time": "2023-03-29T06:57:57.574Z"
   },
   {
    "duration": 44,
    "start_time": "2023-03-29T06:58:09.297Z"
   },
   {
    "duration": 1461,
    "start_time": "2023-03-29T06:58:09.343Z"
   },
   {
    "duration": 716,
    "start_time": "2023-03-29T06:58:10.809Z"
   },
   {
    "duration": 7,
    "start_time": "2023-03-29T06:58:11.528Z"
   },
   {
    "duration": 77,
    "start_time": "2023-03-29T06:58:11.537Z"
   },
   {
    "duration": 70,
    "start_time": "2023-03-29T06:58:11.616Z"
   },
   {
    "duration": 63,
    "start_time": "2023-03-29T06:58:11.688Z"
   },
   {
    "duration": 237,
    "start_time": "2023-03-29T06:58:11.753Z"
   },
   {
    "duration": 27,
    "start_time": "2023-03-29T06:58:11.992Z"
   },
   {
    "duration": 31,
    "start_time": "2023-03-29T06:58:12.021Z"
   },
   {
    "duration": 14,
    "start_time": "2023-03-29T06:58:12.053Z"
   },
   {
    "duration": 18,
    "start_time": "2023-03-29T06:58:12.068Z"
   },
   {
    "duration": 7,
    "start_time": "2023-03-29T06:58:12.088Z"
   },
   {
    "duration": 3803,
    "start_time": "2023-03-29T06:58:12.096Z"
   },
   {
    "duration": 900,
    "start_time": "2023-03-29T06:58:15.901Z"
   },
   {
    "duration": 6,
    "start_time": "2023-03-29T06:58:16.802Z"
   },
   {
    "duration": 598,
    "start_time": "2023-03-29T06:58:16.810Z"
   },
   {
    "duration": 45,
    "start_time": "2023-03-29T06:58:17.409Z"
   },
   {
    "duration": 9,
    "start_time": "2023-03-29T06:58:17.455Z"
   },
   {
    "duration": 27,
    "start_time": "2023-03-29T06:58:17.466Z"
   },
   {
    "duration": 25,
    "start_time": "2023-03-29T06:58:17.495Z"
   },
   {
    "duration": 28,
    "start_time": "2023-03-29T06:58:17.521Z"
   },
   {
    "duration": 14,
    "start_time": "2023-03-29T06:58:17.551Z"
   },
   {
    "duration": 9,
    "start_time": "2023-03-29T06:58:17.566Z"
   },
   {
    "duration": 13,
    "start_time": "2023-03-29T06:58:17.576Z"
   },
   {
    "duration": 7,
    "start_time": "2023-03-29T06:58:17.591Z"
   },
   {
    "duration": 161,
    "start_time": "2023-03-29T06:58:17.599Z"
   },
   {
    "duration": 55,
    "start_time": "2023-03-29T06:58:58.090Z"
   },
   {
    "duration": 46,
    "start_time": "2023-03-29T07:27:56.402Z"
   },
   {
    "duration": 4,
    "start_time": "2023-03-29T07:28:44.216Z"
   },
   {
    "duration": 165,
    "start_time": "2023-03-29T07:28:51.298Z"
   },
   {
    "duration": 1419,
    "start_time": "2023-03-29T07:28:51.465Z"
   },
   {
    "duration": 759,
    "start_time": "2023-03-29T07:28:52.886Z"
   },
   {
    "duration": 3,
    "start_time": "2023-03-29T07:28:53.650Z"
   },
   {
    "duration": 63,
    "start_time": "2023-03-29T07:28:53.655Z"
   },
   {
    "duration": 78,
    "start_time": "2023-03-29T07:28:53.719Z"
   },
   {
    "duration": 73,
    "start_time": "2023-03-29T07:28:53.798Z"
   },
   {
    "duration": 251,
    "start_time": "2023-03-29T07:28:53.873Z"
   },
   {
    "duration": 36,
    "start_time": "2023-03-29T07:28:54.126Z"
   },
   {
    "duration": 2,
    "start_time": "2023-03-29T07:28:54.166Z"
   },
   {
    "duration": 10,
    "start_time": "2023-03-29T07:28:54.171Z"
   },
   {
    "duration": 15,
    "start_time": "2023-03-29T07:28:54.182Z"
   },
   {
    "duration": 26,
    "start_time": "2023-03-29T07:28:54.199Z"
   },
   {
    "duration": 3976,
    "start_time": "2023-03-29T07:28:54.227Z"
   },
   {
    "duration": 931,
    "start_time": "2023-03-29T07:28:58.205Z"
   },
   {
    "duration": 8,
    "start_time": "2023-03-29T07:28:59.138Z"
   },
   {
    "duration": 597,
    "start_time": "2023-03-29T07:28:59.148Z"
   },
   {
    "duration": 32,
    "start_time": "2023-03-29T07:28:59.748Z"
   },
   {
    "duration": 10,
    "start_time": "2023-03-29T07:28:59.781Z"
   },
   {
    "duration": 47,
    "start_time": "2023-03-29T07:28:59.792Z"
   },
   {
    "duration": 18,
    "start_time": "2023-03-29T07:28:59.844Z"
   },
   {
    "duration": 16,
    "start_time": "2023-03-29T07:28:59.864Z"
   },
   {
    "duration": 19,
    "start_time": "2023-03-29T07:28:59.882Z"
   },
   {
    "duration": 23,
    "start_time": "2023-03-29T07:28:59.903Z"
   },
   {
    "duration": 35,
    "start_time": "2023-03-29T07:28:59.928Z"
   },
   {
    "duration": 10,
    "start_time": "2023-03-29T07:28:59.964Z"
   },
   {
    "duration": 49,
    "start_time": "2023-03-29T07:28:59.975Z"
   },
   {
    "duration": 150,
    "start_time": "2023-03-29T07:29:20.149Z"
   },
   {
    "duration": 46,
    "start_time": "2023-03-29T07:32:59.542Z"
   },
   {
    "duration": 148,
    "start_time": "2023-03-29T07:34:21.435Z"
   },
   {
    "duration": 1478,
    "start_time": "2023-03-29T07:34:21.585Z"
   },
   {
    "duration": 754,
    "start_time": "2023-03-29T07:34:23.065Z"
   },
   {
    "duration": 3,
    "start_time": "2023-03-29T07:34:23.821Z"
   },
   {
    "duration": 56,
    "start_time": "2023-03-29T07:34:23.835Z"
   },
   {
    "duration": 96,
    "start_time": "2023-03-29T07:34:23.892Z"
   },
   {
    "duration": 83,
    "start_time": "2023-03-29T07:34:23.990Z"
   },
   {
    "duration": 287,
    "start_time": "2023-03-29T07:34:24.075Z"
   },
   {
    "duration": 32,
    "start_time": "2023-03-29T07:34:24.365Z"
   },
   {
    "duration": 2,
    "start_time": "2023-03-29T07:34:24.400Z"
   },
   {
    "duration": 34,
    "start_time": "2023-03-29T07:34:24.404Z"
   },
   {
    "duration": 13,
    "start_time": "2023-03-29T07:34:24.440Z"
   },
   {
    "duration": 6,
    "start_time": "2023-03-29T07:34:24.459Z"
   },
   {
    "duration": 4326,
    "start_time": "2023-03-29T07:34:24.466Z"
   },
   {
    "duration": 916,
    "start_time": "2023-03-29T07:34:28.793Z"
   },
   {
    "duration": 7,
    "start_time": "2023-03-29T07:34:29.710Z"
   },
   {
    "duration": 618,
    "start_time": "2023-03-29T07:34:29.718Z"
   },
   {
    "duration": 39,
    "start_time": "2023-03-29T07:34:30.344Z"
   },
   {
    "duration": 19,
    "start_time": "2023-03-29T07:34:30.384Z"
   },
   {
    "duration": 81,
    "start_time": "2023-03-29T07:34:30.405Z"
   },
   {
    "duration": 59,
    "start_time": "2023-03-29T07:34:30.488Z"
   },
   {
    "duration": 32,
    "start_time": "2023-03-29T07:34:30.553Z"
   },
   {
    "duration": 47,
    "start_time": "2023-03-29T07:34:30.586Z"
   },
   {
    "duration": 50,
    "start_time": "2023-03-29T07:34:30.635Z"
   },
   {
    "duration": 65,
    "start_time": "2023-03-29T07:34:30.688Z"
   },
   {
    "duration": 73,
    "start_time": "2023-03-29T07:34:30.755Z"
   },
   {
    "duration": 62,
    "start_time": "2023-03-29T07:34:30.830Z"
   },
   {
    "duration": 69,
    "start_time": "2023-03-29T07:34:30.895Z"
   },
   {
    "duration": 105,
    "start_time": "2023-03-29T07:34:30.966Z"
   },
   {
    "duration": 50,
    "start_time": "2023-03-29T07:36:05.934Z"
   },
   {
    "duration": 164,
    "start_time": "2023-03-29T07:36:18.229Z"
   },
   {
    "duration": 3,
    "start_time": "2023-03-29T07:36:25.416Z"
   },
   {
    "duration": 49,
    "start_time": "2023-03-29T07:36:26.080Z"
   },
   {
    "duration": 15,
    "start_time": "2023-03-29T07:41:19.713Z"
   },
   {
    "duration": 35,
    "start_time": "2023-03-29T07:42:20.382Z"
   },
   {
    "duration": 1583,
    "start_time": "2023-03-29T07:42:20.419Z"
   },
   {
    "duration": 815,
    "start_time": "2023-03-29T07:42:22.004Z"
   },
   {
    "duration": 4,
    "start_time": "2023-03-29T07:42:22.821Z"
   },
   {
    "duration": 85,
    "start_time": "2023-03-29T07:42:22.835Z"
   },
   {
    "duration": 94,
    "start_time": "2023-03-29T07:42:22.922Z"
   },
   {
    "duration": 88,
    "start_time": "2023-03-29T07:42:23.018Z"
   },
   {
    "duration": 275,
    "start_time": "2023-03-29T07:42:23.108Z"
   },
   {
    "duration": 28,
    "start_time": "2023-03-29T07:42:23.385Z"
   },
   {
    "duration": 3,
    "start_time": "2023-03-29T07:42:23.415Z"
   },
   {
    "duration": 16,
    "start_time": "2023-03-29T07:42:23.441Z"
   },
   {
    "duration": 10,
    "start_time": "2023-03-29T07:42:23.459Z"
   },
   {
    "duration": 6,
    "start_time": "2023-03-29T07:42:23.471Z"
   },
   {
    "duration": 4176,
    "start_time": "2023-03-29T07:42:23.479Z"
   },
   {
    "duration": 1012,
    "start_time": "2023-03-29T07:42:27.657Z"
   },
   {
    "duration": 8,
    "start_time": "2023-03-29T07:42:28.671Z"
   },
   {
    "duration": 745,
    "start_time": "2023-03-29T07:42:28.681Z"
   },
   {
    "duration": 39,
    "start_time": "2023-03-29T07:42:29.428Z"
   },
   {
    "duration": 33,
    "start_time": "2023-03-29T07:42:29.468Z"
   },
   {
    "duration": 36,
    "start_time": "2023-03-29T07:42:29.502Z"
   },
   {
    "duration": 15,
    "start_time": "2023-03-29T07:42:29.541Z"
   },
   {
    "duration": 14,
    "start_time": "2023-03-29T07:42:29.558Z"
   },
   {
    "duration": 14,
    "start_time": "2023-03-29T07:42:29.574Z"
   },
   {
    "duration": 7,
    "start_time": "2023-03-29T07:42:29.590Z"
   },
   {
    "duration": 8,
    "start_time": "2023-03-29T07:42:29.599Z"
   },
   {
    "duration": 8,
    "start_time": "2023-03-29T07:42:29.609Z"
   },
   {
    "duration": 14,
    "start_time": "2023-03-29T07:42:29.619Z"
   },
   {
    "duration": 15,
    "start_time": "2023-03-29T07:42:29.640Z"
   },
   {
    "duration": 50,
    "start_time": "2023-03-29T07:42:29.656Z"
   },
   {
    "duration": 14,
    "start_time": "2023-03-29T07:42:29.707Z"
   },
   {
    "duration": 22,
    "start_time": "2023-03-29T07:43:13.824Z"
   },
   {
    "duration": 17,
    "start_time": "2023-03-29T07:44:48.078Z"
   },
   {
    "duration": 119,
    "start_time": "2023-03-29T07:44:54.854Z"
   },
   {
    "duration": 48,
    "start_time": "2023-03-29T07:45:06.827Z"
   },
   {
    "duration": 1503,
    "start_time": "2023-03-29T07:45:06.877Z"
   },
   {
    "duration": 761,
    "start_time": "2023-03-29T07:45:08.381Z"
   },
   {
    "duration": 6,
    "start_time": "2023-03-29T07:45:09.145Z"
   },
   {
    "duration": 56,
    "start_time": "2023-03-29T07:45:09.153Z"
   },
   {
    "duration": 87,
    "start_time": "2023-03-29T07:45:09.211Z"
   },
   {
    "duration": 73,
    "start_time": "2023-03-29T07:45:09.300Z"
   },
   {
    "duration": 296,
    "start_time": "2023-03-29T07:45:09.375Z"
   },
   {
    "duration": 26,
    "start_time": "2023-03-29T07:45:09.673Z"
   },
   {
    "duration": 4,
    "start_time": "2023-03-29T07:45:09.701Z"
   },
   {
    "duration": 8,
    "start_time": "2023-03-29T07:45:09.707Z"
   },
   {
    "duration": 36,
    "start_time": "2023-03-29T07:45:09.716Z"
   },
   {
    "duration": 6,
    "start_time": "2023-03-29T07:45:09.754Z"
   },
   {
    "duration": 4025,
    "start_time": "2023-03-29T07:45:09.762Z"
   },
   {
    "duration": 936,
    "start_time": "2023-03-29T07:45:13.789Z"
   },
   {
    "duration": 9,
    "start_time": "2023-03-29T07:45:14.734Z"
   },
   {
    "duration": 646,
    "start_time": "2023-03-29T07:45:14.744Z"
   },
   {
    "duration": 51,
    "start_time": "2023-03-29T07:45:15.392Z"
   },
   {
    "duration": 14,
    "start_time": "2023-03-29T07:45:15.446Z"
   },
   {
    "duration": 24,
    "start_time": "2023-03-29T07:45:15.462Z"
   },
   {
    "duration": 15,
    "start_time": "2023-03-29T07:45:15.488Z"
   },
   {
    "duration": 33,
    "start_time": "2023-03-29T07:45:15.505Z"
   },
   {
    "duration": 3,
    "start_time": "2023-03-29T07:45:15.540Z"
   },
   {
    "duration": 28,
    "start_time": "2023-03-29T07:45:15.549Z"
   },
   {
    "duration": 15,
    "start_time": "2023-03-29T07:45:15.579Z"
   },
   {
    "duration": 9,
    "start_time": "2023-03-29T07:45:15.595Z"
   },
   {
    "duration": 7,
    "start_time": "2023-03-29T07:45:15.606Z"
   },
   {
    "duration": 10,
    "start_time": "2023-03-29T07:45:15.616Z"
   },
   {
    "duration": 8,
    "start_time": "2023-03-29T07:45:15.627Z"
   },
   {
    "duration": 74,
    "start_time": "2023-03-29T07:45:15.638Z"
   },
   {
    "duration": 12,
    "start_time": "2023-03-29T07:45:15.714Z"
   },
   {
    "duration": 63,
    "start_time": "2023-03-29T07:46:59.143Z"
   },
   {
    "duration": 56,
    "start_time": "2023-03-29T07:48:19.604Z"
   },
   {
    "duration": 22,
    "start_time": "2023-03-29T07:49:02.892Z"
   },
   {
    "duration": 165,
    "start_time": "2023-03-29T08:01:43.621Z"
   },
   {
    "duration": 1683,
    "start_time": "2023-03-29T08:01:43.788Z"
   },
   {
    "duration": 741,
    "start_time": "2023-03-29T08:01:45.473Z"
   },
   {
    "duration": 3,
    "start_time": "2023-03-29T08:01:46.217Z"
   },
   {
    "duration": 82,
    "start_time": "2023-03-29T08:01:46.222Z"
   },
   {
    "duration": 90,
    "start_time": "2023-03-29T08:01:46.306Z"
   },
   {
    "duration": 76,
    "start_time": "2023-03-29T08:01:46.397Z"
   },
   {
    "duration": 280,
    "start_time": "2023-03-29T08:01:46.475Z"
   },
   {
    "duration": 26,
    "start_time": "2023-03-29T08:01:46.756Z"
   },
   {
    "duration": 2,
    "start_time": "2023-03-29T08:01:46.785Z"
   },
   {
    "duration": 27,
    "start_time": "2023-03-29T08:01:46.789Z"
   },
   {
    "duration": 7,
    "start_time": "2023-03-29T08:01:46.817Z"
   },
   {
    "duration": 32,
    "start_time": "2023-03-29T08:01:46.825Z"
   },
   {
    "duration": 4033,
    "start_time": "2023-03-29T08:01:46.858Z"
   },
   {
    "duration": 982,
    "start_time": "2023-03-29T08:01:50.893Z"
   },
   {
    "duration": 6,
    "start_time": "2023-03-29T08:01:51.876Z"
   },
   {
    "duration": 641,
    "start_time": "2023-03-29T08:01:51.884Z"
   },
   {
    "duration": 49,
    "start_time": "2023-03-29T08:01:52.527Z"
   },
   {
    "duration": 13,
    "start_time": "2023-03-29T08:01:52.578Z"
   },
   {
    "duration": 39,
    "start_time": "2023-03-29T08:01:52.593Z"
   },
   {
    "duration": 17,
    "start_time": "2023-03-29T08:01:52.642Z"
   },
   {
    "duration": 16,
    "start_time": "2023-03-29T08:01:52.661Z"
   },
   {
    "duration": 34,
    "start_time": "2023-03-29T08:01:52.680Z"
   },
   {
    "duration": 20,
    "start_time": "2023-03-29T08:01:52.716Z"
   },
   {
    "duration": 30,
    "start_time": "2023-03-29T08:01:52.741Z"
   },
   {
    "duration": 26,
    "start_time": "2023-03-29T08:01:52.773Z"
   },
   {
    "duration": 24,
    "start_time": "2023-03-29T08:01:52.800Z"
   },
   {
    "duration": 30,
    "start_time": "2023-03-29T08:01:52.827Z"
   },
   {
    "duration": 16,
    "start_time": "2023-03-29T08:01:52.858Z"
   },
   {
    "duration": 12,
    "start_time": "2023-03-29T08:01:52.876Z"
   },
   {
    "duration": 170,
    "start_time": "2023-03-29T08:04:50.066Z"
   },
   {
    "duration": 215,
    "start_time": "2023-03-29T08:05:05.170Z"
   },
   {
    "duration": 1450,
    "start_time": "2023-03-29T08:05:05.387Z"
   },
   {
    "duration": 813,
    "start_time": "2023-03-29T08:05:06.839Z"
   },
   {
    "duration": 4,
    "start_time": "2023-03-29T08:05:07.655Z"
   },
   {
    "duration": 82,
    "start_time": "2023-03-29T08:05:07.660Z"
   },
   {
    "duration": 95,
    "start_time": "2023-03-29T08:05:07.747Z"
   },
   {
    "duration": 66,
    "start_time": "2023-03-29T08:05:07.848Z"
   },
   {
    "duration": 288,
    "start_time": "2023-03-29T08:05:07.916Z"
   },
   {
    "duration": 46,
    "start_time": "2023-03-29T08:05:08.206Z"
   },
   {
    "duration": 3,
    "start_time": "2023-03-29T08:05:08.257Z"
   },
   {
    "duration": 39,
    "start_time": "2023-03-29T08:05:08.261Z"
   },
   {
    "duration": 15,
    "start_time": "2023-03-29T08:05:08.302Z"
   },
   {
    "duration": 43,
    "start_time": "2023-03-29T08:05:08.319Z"
   },
   {
    "duration": 4186,
    "start_time": "2023-03-29T08:05:08.364Z"
   },
   {
    "duration": 972,
    "start_time": "2023-03-29T08:05:12.554Z"
   },
   {
    "duration": 11,
    "start_time": "2023-03-29T08:05:13.534Z"
   },
   {
    "duration": 629,
    "start_time": "2023-03-29T08:05:13.548Z"
   },
   {
    "duration": 33,
    "start_time": "2023-03-29T08:05:14.188Z"
   },
   {
    "duration": 17,
    "start_time": "2023-03-29T08:05:14.223Z"
   },
   {
    "duration": 37,
    "start_time": "2023-03-29T08:05:14.241Z"
   },
   {
    "duration": 14,
    "start_time": "2023-03-29T08:05:14.279Z"
   },
   {
    "duration": 3,
    "start_time": "2023-03-29T08:05:14.295Z"
   },
   {
    "duration": 11,
    "start_time": "2023-03-29T08:05:14.299Z"
   },
   {
    "duration": 6,
    "start_time": "2023-03-29T08:05:14.311Z"
   },
   {
    "duration": 5,
    "start_time": "2023-03-29T08:05:14.318Z"
   },
   {
    "duration": 22,
    "start_time": "2023-03-29T08:05:14.337Z"
   },
   {
    "duration": 17,
    "start_time": "2023-03-29T08:05:14.361Z"
   },
   {
    "duration": 6,
    "start_time": "2023-03-29T08:05:14.381Z"
   },
   {
    "duration": 6,
    "start_time": "2023-03-29T08:05:14.388Z"
   },
   {
    "duration": 6,
    "start_time": "2023-03-29T08:05:14.395Z"
   },
   {
    "duration": 59,
    "start_time": "2023-03-29T08:05:14.402Z"
   },
   {
    "duration": 15,
    "start_time": "2023-03-29T08:08:19.360Z"
   },
   {
    "duration": 128,
    "start_time": "2023-03-29T08:10:31.885Z"
   },
   {
    "duration": 7,
    "start_time": "2023-03-29T08:11:18.029Z"
   },
   {
    "duration": 13,
    "start_time": "2023-03-29T08:11:33.868Z"
   },
   {
    "duration": 6,
    "start_time": "2023-03-29T08:13:58.024Z"
   },
   {
    "duration": 48,
    "start_time": "2023-03-29T08:27:54.929Z"
   },
   {
    "duration": 1433,
    "start_time": "2023-03-29T08:27:54.978Z"
   },
   {
    "duration": 737,
    "start_time": "2023-03-29T08:27:56.413Z"
   },
   {
    "duration": 2,
    "start_time": "2023-03-29T08:27:57.152Z"
   },
   {
    "duration": 47,
    "start_time": "2023-03-29T08:27:57.156Z"
   },
   {
    "duration": 90,
    "start_time": "2023-03-29T08:27:57.204Z"
   },
   {
    "duration": 73,
    "start_time": "2023-03-29T08:27:57.296Z"
   },
   {
    "duration": 248,
    "start_time": "2023-03-29T08:27:57.371Z"
   },
   {
    "duration": 36,
    "start_time": "2023-03-29T08:27:57.620Z"
   },
   {
    "duration": 6,
    "start_time": "2023-03-29T08:27:57.659Z"
   },
   {
    "duration": 19,
    "start_time": "2023-03-29T08:27:57.667Z"
   },
   {
    "duration": 10,
    "start_time": "2023-03-29T08:27:57.688Z"
   },
   {
    "duration": 14,
    "start_time": "2023-03-29T08:27:57.700Z"
   },
   {
    "duration": 4076,
    "start_time": "2023-03-29T08:27:57.715Z"
   },
   {
    "duration": 971,
    "start_time": "2023-03-29T08:28:01.793Z"
   },
   {
    "duration": 8,
    "start_time": "2023-03-29T08:28:02.766Z"
   },
   {
    "duration": 639,
    "start_time": "2023-03-29T08:28:02.776Z"
   },
   {
    "duration": 44,
    "start_time": "2023-03-29T08:28:03.417Z"
   },
   {
    "duration": 11,
    "start_time": "2023-03-29T08:28:03.463Z"
   },
   {
    "duration": 24,
    "start_time": "2023-03-29T08:28:03.475Z"
   },
   {
    "duration": 43,
    "start_time": "2023-03-29T08:28:03.500Z"
   },
   {
    "duration": 4,
    "start_time": "2023-03-29T08:28:03.550Z"
   },
   {
    "duration": 13,
    "start_time": "2023-03-29T08:28:03.555Z"
   },
   {
    "duration": 7,
    "start_time": "2023-03-29T08:28:03.569Z"
   },
   {
    "duration": 10,
    "start_time": "2023-03-29T08:28:03.577Z"
   },
   {
    "duration": 10,
    "start_time": "2023-03-29T08:28:03.589Z"
   },
   {
    "duration": 16,
    "start_time": "2023-03-29T08:28:03.601Z"
   },
   {
    "duration": 11,
    "start_time": "2023-03-29T08:28:03.620Z"
   },
   {
    "duration": 32,
    "start_time": "2023-03-29T08:28:03.632Z"
   },
   {
    "duration": 21,
    "start_time": "2023-03-29T08:28:03.666Z"
   },
   {
    "duration": 123,
    "start_time": "2023-03-29T08:28:03.688Z"
   },
   {
    "duration": 0,
    "start_time": "2023-03-29T08:28:03.813Z"
   },
   {
    "duration": 0,
    "start_time": "2023-03-29T08:28:03.814Z"
   },
   {
    "duration": 47,
    "start_time": "2023-03-29T08:28:18.397Z"
   },
   {
    "duration": 9,
    "start_time": "2023-03-29T08:36:24.238Z"
   },
   {
    "duration": 4,
    "start_time": "2023-03-29T08:36:24.797Z"
   },
   {
    "duration": 3,
    "start_time": "2023-03-29T08:36:25.386Z"
   },
   {
    "duration": 12,
    "start_time": "2023-03-29T08:36:26.221Z"
   },
   {
    "duration": 3,
    "start_time": "2023-03-29T08:36:27.251Z"
   },
   {
    "duration": 2,
    "start_time": "2023-03-29T08:36:27.894Z"
   },
   {
    "duration": 4,
    "start_time": "2023-03-29T08:36:28.333Z"
   },
   {
    "duration": 52,
    "start_time": "2023-03-29T08:36:29.060Z"
   },
   {
    "duration": 14,
    "start_time": "2023-03-29T08:36:30.605Z"
   },
   {
    "duration": 48,
    "start_time": "2023-03-29T15:06:42.645Z"
   },
   {
    "duration": 43,
    "start_time": "2023-03-29T15:06:52.169Z"
   },
   {
    "duration": 1587,
    "start_time": "2023-03-29T15:06:53.852Z"
   },
   {
    "duration": 2,
    "start_time": "2023-03-29T15:06:56.320Z"
   },
   {
    "duration": 2269,
    "start_time": "2023-03-29T15:07:18.154Z"
   },
   {
    "duration": 2,
    "start_time": "2023-03-29T15:07:20.425Z"
   },
   {
    "duration": 51,
    "start_time": "2023-03-29T15:07:20.428Z"
   },
   {
    "duration": 64,
    "start_time": "2023-03-29T15:07:22.292Z"
   },
   {
    "duration": 63,
    "start_time": "2023-03-29T15:07:33.828Z"
   },
   {
    "duration": 80,
    "start_time": "2023-03-29T15:07:46.517Z"
   },
   {
    "duration": 231,
    "start_time": "2023-03-29T15:07:50.405Z"
   },
   {
    "duration": 1345,
    "start_time": "2023-03-29T15:14:46.067Z"
   },
   {
    "duration": 37,
    "start_time": "2023-03-29T15:15:27.809Z"
   },
   {
    "duration": 4,
    "start_time": "2023-03-29T15:15:38.273Z"
   },
   {
    "duration": 3,
    "start_time": "2023-03-29T15:15:39.118Z"
   },
   {
    "duration": 730,
    "start_time": "2023-03-29T15:15:41.065Z"
   },
   {
    "duration": 4,
    "start_time": "2023-03-29T15:15:41.797Z"
   },
   {
    "duration": 118,
    "start_time": "2023-03-29T15:15:42.699Z"
   },
   {
    "duration": 85,
    "start_time": "2023-03-29T15:15:43.521Z"
   },
   {
    "duration": 51,
    "start_time": "2023-03-29T15:15:44.353Z"
   },
   {
    "duration": 229,
    "start_time": "2023-03-29T15:15:45.977Z"
   },
   {
    "duration": 26,
    "start_time": "2023-03-29T15:15:48.338Z"
   },
   {
    "duration": 4,
    "start_time": "2023-03-29T15:15:50.006Z"
   },
   {
    "duration": 5,
    "start_time": "2023-03-29T15:15:50.994Z"
   },
   {
    "duration": 5,
    "start_time": "2023-03-29T15:15:52.666Z"
   },
   {
    "duration": 4,
    "start_time": "2023-03-29T15:15:57.185Z"
   },
   {
    "duration": 3718,
    "start_time": "2023-03-29T15:16:00.763Z"
   },
   {
    "duration": 960,
    "start_time": "2023-03-29T15:16:04.502Z"
   },
   {
    "duration": 6,
    "start_time": "2023-03-29T15:16:05.464Z"
   },
   {
    "duration": 576,
    "start_time": "2023-03-29T15:16:05.471Z"
   },
   {
    "duration": 48,
    "start_time": "2023-03-29T15:16:06.049Z"
   },
   {
    "duration": 1175,
    "start_time": "2023-03-29T15:16:06.310Z"
   },
   {
    "duration": 14,
    "start_time": "2023-03-29T15:17:39.484Z"
   },
   {
    "duration": 1180,
    "start_time": "2023-03-29T15:18:31.622Z"
   },
   {
    "duration": 14,
    "start_time": "2023-03-29T15:20:03.720Z"
   },
   {
    "duration": 11,
    "start_time": "2023-03-29T15:23:18.176Z"
   },
   {
    "duration": 46,
    "start_time": "2023-03-29T15:23:33.302Z"
   },
   {
    "duration": 1382,
    "start_time": "2023-03-29T15:23:33.350Z"
   },
   {
    "duration": 3,
    "start_time": "2023-03-29T15:23:34.733Z"
   },
   {
    "duration": 733,
    "start_time": "2023-03-29T15:23:34.738Z"
   },
   {
    "duration": 3,
    "start_time": "2023-03-29T15:23:35.472Z"
   },
   {
    "duration": 65,
    "start_time": "2023-03-29T15:23:35.477Z"
   },
   {
    "duration": 56,
    "start_time": "2023-03-29T15:23:35.543Z"
   },
   {
    "duration": 67,
    "start_time": "2023-03-29T15:23:35.601Z"
   },
   {
    "duration": 255,
    "start_time": "2023-03-29T15:23:35.669Z"
   },
   {
    "duration": 34,
    "start_time": "2023-03-29T15:23:35.928Z"
   },
   {
    "duration": 3,
    "start_time": "2023-03-29T15:23:35.965Z"
   },
   {
    "duration": 21,
    "start_time": "2023-03-29T15:23:35.969Z"
   },
   {
    "duration": 26,
    "start_time": "2023-03-29T15:23:35.992Z"
   },
   {
    "duration": 28,
    "start_time": "2023-03-29T15:23:36.019Z"
   },
   {
    "duration": 3880,
    "start_time": "2023-03-29T15:23:36.049Z"
   },
   {
    "duration": 929,
    "start_time": "2023-03-29T15:23:39.931Z"
   },
   {
    "duration": 6,
    "start_time": "2023-03-29T15:23:40.862Z"
   },
   {
    "duration": 609,
    "start_time": "2023-03-29T15:23:40.869Z"
   },
   {
    "duration": 37,
    "start_time": "2023-03-29T15:23:41.480Z"
   },
   {
    "duration": 138,
    "start_time": "2023-03-29T15:23:41.519Z"
   },
   {
    "duration": 0,
    "start_time": "2023-03-29T15:23:41.659Z"
   },
   {
    "duration": 0,
    "start_time": "2023-03-29T15:23:41.660Z"
   },
   {
    "duration": 0,
    "start_time": "2023-03-29T15:23:41.661Z"
   },
   {
    "duration": 0,
    "start_time": "2023-03-29T15:23:41.662Z"
   },
   {
    "duration": 0,
    "start_time": "2023-03-29T15:23:41.663Z"
   },
   {
    "duration": 0,
    "start_time": "2023-03-29T15:23:41.664Z"
   },
   {
    "duration": 1702,
    "start_time": "2023-03-29T15:24:42.233Z"
   },
   {
    "duration": 17,
    "start_time": "2023-03-29T15:25:08.294Z"
   },
   {
    "duration": 1223,
    "start_time": "2023-03-29T15:26:34.048Z"
   },
   {
    "duration": 13,
    "start_time": "2023-03-29T15:26:51.664Z"
   },
   {
    "duration": 13,
    "start_time": "2023-03-29T15:27:08.974Z"
   },
   {
    "duration": 4,
    "start_time": "2023-03-29T15:27:19.439Z"
   },
   {
    "duration": 10,
    "start_time": "2023-03-29T15:27:58.602Z"
   },
   {
    "duration": 11,
    "start_time": "2023-03-29T15:28:19.014Z"
   },
   {
    "duration": 16,
    "start_time": "2023-03-29T15:30:26.365Z"
   },
   {
    "duration": 10,
    "start_time": "2023-03-29T15:38:15.806Z"
   },
   {
    "duration": 357,
    "start_time": "2023-03-29T15:38:35.101Z"
   },
   {
    "duration": 27,
    "start_time": "2023-03-29T15:41:34.052Z"
   },
   {
    "duration": 3,
    "start_time": "2023-03-29T15:42:33.055Z"
   },
   {
    "duration": 3,
    "start_time": "2023-03-29T15:42:50.832Z"
   },
   {
    "duration": 6,
    "start_time": "2023-03-29T15:42:53.246Z"
   },
   {
    "duration": 3,
    "start_time": "2023-03-29T15:42:56.156Z"
   },
   {
    "duration": 78,
    "start_time": "2023-03-29T15:42:57.656Z"
   },
   {
    "duration": 4,
    "start_time": "2023-03-29T15:43:12.688Z"
   },
   {
    "duration": 3,
    "start_time": "2023-03-29T15:45:31.418Z"
   },
   {
    "duration": 15,
    "start_time": "2023-03-29T15:50:33.702Z"
   },
   {
    "duration": 14,
    "start_time": "2023-03-29T15:52:17.838Z"
   },
   {
    "duration": 15,
    "start_time": "2023-03-29T15:52:48.790Z"
   },
   {
    "duration": 12,
    "start_time": "2023-03-29T15:53:00.796Z"
   },
   {
    "duration": 58,
    "start_time": "2023-03-29T15:53:28.621Z"
   },
   {
    "duration": 1473,
    "start_time": "2023-03-29T15:53:28.681Z"
   },
   {
    "duration": 3,
    "start_time": "2023-03-29T15:53:30.155Z"
   },
   {
    "duration": 703,
    "start_time": "2023-03-29T15:53:30.160Z"
   },
   {
    "duration": 3,
    "start_time": "2023-03-29T15:53:30.865Z"
   },
   {
    "duration": 72,
    "start_time": "2023-03-29T15:53:30.870Z"
   },
   {
    "duration": 59,
    "start_time": "2023-03-29T15:53:30.943Z"
   },
   {
    "duration": 74,
    "start_time": "2023-03-29T15:53:31.004Z"
   },
   {
    "duration": 246,
    "start_time": "2023-03-29T15:53:31.080Z"
   },
   {
    "duration": 36,
    "start_time": "2023-03-29T15:53:31.328Z"
   },
   {
    "duration": 2,
    "start_time": "2023-03-29T15:53:31.366Z"
   },
   {
    "duration": 29,
    "start_time": "2023-03-29T15:53:31.370Z"
   },
   {
    "duration": 28,
    "start_time": "2023-03-29T15:53:31.401Z"
   },
   {
    "duration": 20,
    "start_time": "2023-03-29T15:53:31.431Z"
   },
   {
    "duration": 4002,
    "start_time": "2023-03-29T15:53:31.452Z"
   },
   {
    "duration": 956,
    "start_time": "2023-03-29T15:53:35.455Z"
   },
   {
    "duration": 7,
    "start_time": "2023-03-29T15:53:36.412Z"
   },
   {
    "duration": 572,
    "start_time": "2023-03-29T15:53:36.421Z"
   },
   {
    "duration": 34,
    "start_time": "2023-03-29T15:53:36.995Z"
   },
   {
    "duration": 10,
    "start_time": "2023-03-29T15:53:37.041Z"
   },
   {
    "duration": 10,
    "start_time": "2023-03-29T15:53:37.053Z"
   },
   {
    "duration": 13,
    "start_time": "2023-03-29T15:53:37.064Z"
   },
   {
    "duration": 3,
    "start_time": "2023-03-29T15:53:37.079Z"
   },
   {
    "duration": 17,
    "start_time": "2023-03-29T15:53:37.083Z"
   },
   {
    "duration": 10,
    "start_time": "2023-03-29T15:53:37.102Z"
   },
   {
    "duration": 27,
    "start_time": "2023-03-29T15:53:37.114Z"
   },
   {
    "duration": 3,
    "start_time": "2023-03-29T15:53:37.142Z"
   },
   {
    "duration": 132,
    "start_time": "2023-03-29T15:53:37.148Z"
   },
   {
    "duration": 0,
    "start_time": "2023-03-29T15:53:37.282Z"
   },
   {
    "duration": 16,
    "start_time": "2023-03-29T15:57:51.992Z"
   },
   {
    "duration": 12,
    "start_time": "2023-03-29T15:58:29.145Z"
   },
   {
    "duration": 12,
    "start_time": "2023-03-29T15:58:46.711Z"
   },
   {
    "duration": 49,
    "start_time": "2023-03-29T15:59:41.570Z"
   },
   {
    "duration": 1526,
    "start_time": "2023-03-29T15:59:41.621Z"
   },
   {
    "duration": 3,
    "start_time": "2023-03-29T15:59:43.149Z"
   },
   {
    "duration": 731,
    "start_time": "2023-03-29T15:59:43.154Z"
   },
   {
    "duration": 3,
    "start_time": "2023-03-29T15:59:43.886Z"
   },
   {
    "duration": 63,
    "start_time": "2023-03-29T15:59:43.891Z"
   },
   {
    "duration": 65,
    "start_time": "2023-03-29T15:59:43.956Z"
   },
   {
    "duration": 59,
    "start_time": "2023-03-29T15:59:44.041Z"
   },
   {
    "duration": 290,
    "start_time": "2023-03-29T15:59:44.102Z"
   },
   {
    "duration": 28,
    "start_time": "2023-03-29T15:59:44.395Z"
   },
   {
    "duration": 3,
    "start_time": "2023-03-29T15:59:44.442Z"
   },
   {
    "duration": 7,
    "start_time": "2023-03-29T15:59:44.448Z"
   },
   {
    "duration": 5,
    "start_time": "2023-03-29T15:59:44.457Z"
   },
   {
    "duration": 7,
    "start_time": "2023-03-29T15:59:44.464Z"
   },
   {
    "duration": 4249,
    "start_time": "2023-03-29T15:59:44.472Z"
   },
   {
    "duration": 1069,
    "start_time": "2023-03-29T15:59:48.723Z"
   },
   {
    "duration": 8,
    "start_time": "2023-03-29T15:59:49.793Z"
   },
   {
    "duration": 643,
    "start_time": "2023-03-29T15:59:49.802Z"
   },
   {
    "duration": 35,
    "start_time": "2023-03-29T15:59:50.447Z"
   },
   {
    "duration": 91,
    "start_time": "2023-03-29T15:59:50.484Z"
   },
   {
    "duration": 69,
    "start_time": "2023-03-29T15:59:50.576Z"
   },
   {
    "duration": 36,
    "start_time": "2023-03-29T15:59:50.646Z"
   },
   {
    "duration": 10,
    "start_time": "2023-03-29T15:59:50.684Z"
   },
   {
    "duration": 23,
    "start_time": "2023-03-29T15:59:50.696Z"
   },
   {
    "duration": 16,
    "start_time": "2023-03-29T15:59:50.721Z"
   },
   {
    "duration": 9,
    "start_time": "2023-03-29T15:59:50.739Z"
   },
   {
    "duration": 37,
    "start_time": "2023-03-29T15:59:50.749Z"
   },
   {
    "duration": 164,
    "start_time": "2023-03-29T15:59:50.789Z"
   },
   {
    "duration": 0,
    "start_time": "2023-03-29T15:59:50.955Z"
   },
   {
    "duration": 15,
    "start_time": "2023-03-29T16:01:09.758Z"
   },
   {
    "duration": 52,
    "start_time": "2023-03-29T16:01:17.094Z"
   },
   {
    "duration": 1492,
    "start_time": "2023-03-29T16:01:17.149Z"
   },
   {
    "duration": 3,
    "start_time": "2023-03-29T16:01:18.643Z"
   },
   {
    "duration": 820,
    "start_time": "2023-03-29T16:01:18.649Z"
   },
   {
    "duration": 4,
    "start_time": "2023-03-29T16:01:19.471Z"
   },
   {
    "duration": 64,
    "start_time": "2023-03-29T16:01:19.476Z"
   },
   {
    "duration": 60,
    "start_time": "2023-03-29T16:01:19.542Z"
   },
   {
    "duration": 72,
    "start_time": "2023-03-29T16:01:19.604Z"
   },
   {
    "duration": 265,
    "start_time": "2023-03-29T16:01:19.678Z"
   },
   {
    "duration": 27,
    "start_time": "2023-03-29T16:01:19.945Z"
   },
   {
    "duration": 3,
    "start_time": "2023-03-29T16:01:19.974Z"
   },
   {
    "duration": 12,
    "start_time": "2023-03-29T16:01:19.979Z"
   },
   {
    "duration": 5,
    "start_time": "2023-03-29T16:01:19.994Z"
   },
   {
    "duration": 6,
    "start_time": "2023-03-29T16:01:20.000Z"
   },
   {
    "duration": 4253,
    "start_time": "2023-03-29T16:01:20.008Z"
   },
   {
    "duration": 972,
    "start_time": "2023-03-29T16:01:24.263Z"
   },
   {
    "duration": 8,
    "start_time": "2023-03-29T16:01:25.240Z"
   },
   {
    "duration": 644,
    "start_time": "2023-03-29T16:01:25.249Z"
   },
   {
    "duration": 49,
    "start_time": "2023-03-29T16:01:25.895Z"
   },
   {
    "duration": 13,
    "start_time": "2023-03-29T16:01:25.946Z"
   },
   {
    "duration": 16,
    "start_time": "2023-03-29T16:01:25.961Z"
   },
   {
    "duration": 14,
    "start_time": "2023-03-29T16:01:25.978Z"
   },
   {
    "duration": 4,
    "start_time": "2023-03-29T16:01:25.994Z"
   },
   {
    "duration": 8,
    "start_time": "2023-03-29T16:01:25.999Z"
   },
   {
    "duration": 4,
    "start_time": "2023-03-29T16:01:26.041Z"
   },
   {
    "duration": 6,
    "start_time": "2023-03-29T16:01:26.046Z"
   },
   {
    "duration": 4,
    "start_time": "2023-03-29T16:01:26.054Z"
   },
   {
    "duration": 146,
    "start_time": "2023-03-29T16:01:26.062Z"
   },
   {
    "duration": 0,
    "start_time": "2023-03-29T16:01:26.209Z"
   },
   {
    "duration": 3,
    "start_time": "2023-03-29T16:06:23.313Z"
   },
   {
    "duration": 2,
    "start_time": "2023-03-29T16:06:55.298Z"
   },
   {
    "duration": 2,
    "start_time": "2023-03-29T16:06:55.892Z"
   },
   {
    "duration": 16,
    "start_time": "2023-03-29T16:06:56.655Z"
   },
   {
    "duration": 56,
    "start_time": "2023-03-30T03:06:32.549Z"
   },
   {
    "duration": 1593,
    "start_time": "2023-03-30T03:06:32.607Z"
   },
   {
    "duration": 3,
    "start_time": "2023-03-30T03:06:34.205Z"
   },
   {
    "duration": 3255,
    "start_time": "2023-03-30T03:06:34.210Z"
   },
   {
    "duration": 3,
    "start_time": "2023-03-30T03:06:37.467Z"
   },
   {
    "duration": 79,
    "start_time": "2023-03-30T03:06:37.471Z"
   },
   {
    "duration": 64,
    "start_time": "2023-03-30T03:06:37.552Z"
   },
   {
    "duration": 83,
    "start_time": "2023-03-30T03:06:37.617Z"
   },
   {
    "duration": 247,
    "start_time": "2023-03-30T03:06:37.702Z"
   },
   {
    "duration": 27,
    "start_time": "2023-03-30T03:06:37.951Z"
   },
   {
    "duration": 7,
    "start_time": "2023-03-30T03:06:37.992Z"
   },
   {
    "duration": 18,
    "start_time": "2023-03-30T03:06:38.001Z"
   },
   {
    "duration": 18,
    "start_time": "2023-03-30T03:06:38.021Z"
   },
   {
    "duration": 19,
    "start_time": "2023-03-30T03:06:38.041Z"
   },
   {
    "duration": 4312,
    "start_time": "2023-03-30T03:06:38.063Z"
   },
   {
    "duration": 988,
    "start_time": "2023-03-30T03:06:42.377Z"
   },
   {
    "duration": 7,
    "start_time": "2023-03-30T03:06:43.367Z"
   },
   {
    "duration": 639,
    "start_time": "2023-03-30T03:06:43.376Z"
   },
   {
    "duration": 34,
    "start_time": "2023-03-30T03:06:44.017Z"
   },
   {
    "duration": 3,
    "start_time": "2023-03-30T03:06:44.053Z"
   },
   {
    "duration": 10,
    "start_time": "2023-03-30T03:06:44.057Z"
   },
   {
    "duration": 144,
    "start_time": "2023-03-30T03:06:44.068Z"
   },
   {
    "duration": 0,
    "start_time": "2023-03-30T03:06:44.214Z"
   },
   {
    "duration": 0,
    "start_time": "2023-03-30T03:06:44.215Z"
   },
   {
    "duration": 0,
    "start_time": "2023-03-30T03:06:44.216Z"
   },
   {
    "duration": 0,
    "start_time": "2023-03-30T03:06:44.217Z"
   },
   {
    "duration": 0,
    "start_time": "2023-03-30T03:06:44.219Z"
   },
   {
    "duration": 0,
    "start_time": "2023-03-30T03:06:44.220Z"
   },
   {
    "duration": 0,
    "start_time": "2023-03-30T03:06:44.221Z"
   },
   {
    "duration": 0,
    "start_time": "2023-03-30T03:06:44.222Z"
   },
   {
    "duration": 14,
    "start_time": "2023-03-30T03:08:04.077Z"
   },
   {
    "duration": 17,
    "start_time": "2023-03-30T03:08:31.333Z"
   },
   {
    "duration": 955,
    "start_time": "2023-03-30T03:08:51.836Z"
   },
   {
    "duration": 11,
    "start_time": "2023-03-30T03:09:35.334Z"
   },
   {
    "duration": 1312,
    "start_time": "2023-03-30T03:09:52.507Z"
   },
   {
    "duration": 1585,
    "start_time": "2023-03-30T03:10:18.699Z"
   },
   {
    "duration": 52,
    "start_time": "2023-03-30T03:10:26.953Z"
   },
   {
    "duration": 1599,
    "start_time": "2023-03-30T03:10:27.007Z"
   },
   {
    "duration": 3,
    "start_time": "2023-03-30T03:10:28.608Z"
   },
   {
    "duration": 797,
    "start_time": "2023-03-30T03:10:28.613Z"
   },
   {
    "duration": 3,
    "start_time": "2023-03-30T03:10:29.412Z"
   },
   {
    "duration": 50,
    "start_time": "2023-03-30T03:10:29.416Z"
   },
   {
    "duration": 84,
    "start_time": "2023-03-30T03:10:29.468Z"
   },
   {
    "duration": 74,
    "start_time": "2023-03-30T03:10:29.554Z"
   },
   {
    "duration": 276,
    "start_time": "2023-03-30T03:10:29.630Z"
   },
   {
    "duration": 26,
    "start_time": "2023-03-30T03:10:29.908Z"
   },
   {
    "duration": 3,
    "start_time": "2023-03-30T03:10:29.936Z"
   },
   {
    "duration": 15,
    "start_time": "2023-03-30T03:10:29.940Z"
   },
   {
    "duration": 6,
    "start_time": "2023-03-30T03:10:29.957Z"
   },
   {
    "duration": 16,
    "start_time": "2023-03-30T03:10:29.964Z"
   },
   {
    "duration": 4360,
    "start_time": "2023-03-30T03:10:29.987Z"
   },
   {
    "duration": 1052,
    "start_time": "2023-03-30T03:10:34.349Z"
   },
   {
    "duration": 7,
    "start_time": "2023-03-30T03:10:35.403Z"
   },
   {
    "duration": 627,
    "start_time": "2023-03-30T03:10:35.412Z"
   },
   {
    "duration": 56,
    "start_time": "2023-03-30T03:10:36.042Z"
   },
   {
    "duration": 2554,
    "start_time": "2023-03-30T03:10:36.102Z"
   },
   {
    "duration": 0,
    "start_time": "2023-03-30T03:10:38.658Z"
   },
   {
    "duration": 0,
    "start_time": "2023-03-30T03:10:38.659Z"
   },
   {
    "duration": 0,
    "start_time": "2023-03-30T03:10:38.660Z"
   },
   {
    "duration": 0,
    "start_time": "2023-03-30T03:10:38.661Z"
   },
   {
    "duration": 0,
    "start_time": "2023-03-30T03:10:38.662Z"
   },
   {
    "duration": 0,
    "start_time": "2023-03-30T03:10:38.663Z"
   },
   {
    "duration": 0,
    "start_time": "2023-03-30T03:10:38.665Z"
   },
   {
    "duration": 0,
    "start_time": "2023-03-30T03:10:38.666Z"
   },
   {
    "duration": 0,
    "start_time": "2023-03-30T03:10:38.667Z"
   },
   {
    "duration": 34,
    "start_time": "2023-03-30T03:14:01.819Z"
   },
   {
    "duration": 6,
    "start_time": "2023-03-30T03:14:02.977Z"
   },
   {
    "duration": 2,
    "start_time": "2023-03-30T03:14:04.041Z"
   },
   {
    "duration": 738,
    "start_time": "2023-03-30T03:14:06.002Z"
   },
   {
    "duration": 3,
    "start_time": "2023-03-30T03:14:07.900Z"
   },
   {
    "duration": 45,
    "start_time": "2023-03-30T03:14:12.961Z"
   },
   {
    "duration": 68,
    "start_time": "2023-03-30T03:14:14.761Z"
   },
   {
    "duration": 1049,
    "start_time": "2023-03-30T03:14:15.917Z"
   },
   {
    "duration": 257,
    "start_time": "2023-03-30T03:14:30.682Z"
   },
   {
    "duration": 25,
    "start_time": "2023-03-30T03:14:37.020Z"
   },
   {
    "duration": 3,
    "start_time": "2023-03-30T03:14:46.968Z"
   },
   {
    "duration": 5,
    "start_time": "2023-03-30T03:14:47.953Z"
   },
   {
    "duration": 9,
    "start_time": "2023-03-30T03:14:49.298Z"
   },
   {
    "duration": 5,
    "start_time": "2023-03-30T03:14:51.856Z"
   },
   {
    "duration": 4217,
    "start_time": "2023-03-30T03:14:57.329Z"
   },
   {
    "duration": 853,
    "start_time": "2023-03-30T03:15:04.249Z"
   },
   {
    "duration": 7,
    "start_time": "2023-03-30T03:15:07.440Z"
   },
   {
    "duration": 914,
    "start_time": "2023-03-30T03:15:08.849Z"
   },
   {
    "duration": 35,
    "start_time": "2023-03-30T03:15:11.878Z"
   },
   {
    "duration": 11,
    "start_time": "2023-03-30T03:15:17.206Z"
   },
   {
    "duration": 898,
    "start_time": "2023-03-30T03:15:42.411Z"
   },
   {
    "duration": 856,
    "start_time": "2023-03-30T03:16:28.658Z"
   },
   {
    "duration": 9,
    "start_time": "2023-03-30T03:16:42.199Z"
   },
   {
    "duration": 7,
    "start_time": "2023-03-30T03:17:20.499Z"
   },
   {
    "duration": 6,
    "start_time": "2023-03-30T03:17:40.138Z"
   },
   {
    "duration": 21,
    "start_time": "2023-03-30T03:25:32.900Z"
   },
   {
    "duration": 19,
    "start_time": "2023-03-30T03:25:45.873Z"
   },
   {
    "duration": 14,
    "start_time": "2023-03-30T03:26:04.361Z"
   },
   {
    "duration": 15,
    "start_time": "2023-03-30T03:26:15.368Z"
   },
   {
    "duration": 19,
    "start_time": "2023-03-30T03:26:25.657Z"
   },
   {
    "duration": 11,
    "start_time": "2023-03-30T03:29:21.717Z"
   },
   {
    "duration": 6,
    "start_time": "2023-03-30T03:31:43.899Z"
   },
   {
    "duration": 816,
    "start_time": "2023-03-30T03:34:01.170Z"
   },
   {
    "duration": 11,
    "start_time": "2023-03-30T03:34:26.954Z"
   },
   {
    "duration": 10,
    "start_time": "2023-03-30T03:35:09.807Z"
   },
   {
    "duration": 10,
    "start_time": "2023-03-30T03:36:34.727Z"
   },
   {
    "duration": 11,
    "start_time": "2023-03-30T03:37:35.414Z"
   },
   {
    "duration": 11,
    "start_time": "2023-03-30T03:37:44.646Z"
   },
   {
    "duration": 10,
    "start_time": "2023-03-30T03:38:40.909Z"
   },
   {
    "duration": 11,
    "start_time": "2023-03-30T03:39:33.499Z"
   },
   {
    "duration": 12,
    "start_time": "2023-03-30T03:39:56.554Z"
   },
   {
    "duration": 1138,
    "start_time": "2023-03-30T03:40:36.818Z"
   },
   {
    "duration": 1246,
    "start_time": "2023-03-30T03:41:01.043Z"
   },
   {
    "duration": 52,
    "start_time": "2023-03-30T03:41:28.053Z"
   },
   {
    "duration": 1409,
    "start_time": "2023-03-30T03:41:28.107Z"
   },
   {
    "duration": 3,
    "start_time": "2023-03-30T03:41:29.518Z"
   },
   {
    "duration": 796,
    "start_time": "2023-03-30T03:41:29.523Z"
   },
   {
    "duration": 2,
    "start_time": "2023-03-30T03:41:30.321Z"
   },
   {
    "duration": 93,
    "start_time": "2023-03-30T03:41:30.325Z"
   },
   {
    "duration": 85,
    "start_time": "2023-03-30T03:41:30.419Z"
   },
   {
    "duration": 295,
    "start_time": "2023-03-30T03:41:30.506Z"
   },
   {
    "duration": 30,
    "start_time": "2023-03-30T03:41:30.804Z"
   },
   {
    "duration": 22,
    "start_time": "2023-03-30T03:41:30.837Z"
   },
   {
    "duration": 51,
    "start_time": "2023-03-30T03:41:30.862Z"
   },
   {
    "duration": 43,
    "start_time": "2023-03-30T03:41:30.916Z"
   },
   {
    "duration": 54,
    "start_time": "2023-03-30T03:41:30.961Z"
   },
   {
    "duration": 4285,
    "start_time": "2023-03-30T03:41:31.017Z"
   },
   {
    "duration": 964,
    "start_time": "2023-03-30T03:41:35.304Z"
   },
   {
    "duration": 6,
    "start_time": "2023-03-30T03:41:36.270Z"
   },
   {
    "duration": 660,
    "start_time": "2023-03-30T03:41:36.278Z"
   },
   {
    "duration": 35,
    "start_time": "2023-03-30T03:41:36.940Z"
   },
   {
    "duration": 28,
    "start_time": "2023-03-30T03:41:36.977Z"
   },
   {
    "duration": 15,
    "start_time": "2023-03-30T03:41:37.007Z"
   },
   {
    "duration": 5,
    "start_time": "2023-03-30T03:41:37.024Z"
   },
   {
    "duration": 10,
    "start_time": "2023-03-30T03:41:37.030Z"
   },
   {
    "duration": 126,
    "start_time": "2023-03-30T03:41:37.042Z"
   },
   {
    "duration": 0,
    "start_time": "2023-03-30T03:41:37.170Z"
   },
   {
    "duration": 0,
    "start_time": "2023-03-30T03:41:37.171Z"
   },
   {
    "duration": 0,
    "start_time": "2023-03-30T03:41:37.172Z"
   },
   {
    "duration": 0,
    "start_time": "2023-03-30T03:41:37.173Z"
   },
   {
    "duration": 0,
    "start_time": "2023-03-30T03:41:37.187Z"
   },
   {
    "duration": 0,
    "start_time": "2023-03-30T03:41:37.188Z"
   },
   {
    "duration": 7,
    "start_time": "2023-03-30T03:42:26.399Z"
   },
   {
    "duration": 11,
    "start_time": "2023-03-30T03:43:04.201Z"
   },
   {
    "duration": 16,
    "start_time": "2023-03-30T03:43:49.295Z"
   },
   {
    "duration": 6,
    "start_time": "2023-03-30T03:44:02.272Z"
   },
   {
    "duration": 832,
    "start_time": "2023-03-30T03:44:35.599Z"
   },
   {
    "duration": 24,
    "start_time": "2023-03-30T03:46:02.600Z"
   },
   {
    "duration": 8,
    "start_time": "2023-03-30T03:46:36.869Z"
   },
   {
    "duration": 39,
    "start_time": "2023-03-30T03:47:44.238Z"
   },
   {
    "duration": 1458,
    "start_time": "2023-03-30T03:47:44.279Z"
   },
   {
    "duration": 2,
    "start_time": "2023-03-30T03:47:45.739Z"
   },
   {
    "duration": 799,
    "start_time": "2023-03-30T03:47:45.743Z"
   },
   {
    "duration": 3,
    "start_time": "2023-03-30T03:47:46.544Z"
   },
   {
    "duration": 70,
    "start_time": "2023-03-30T03:47:46.548Z"
   },
   {
    "duration": 58,
    "start_time": "2023-03-30T03:47:46.619Z"
   },
   {
    "duration": 259,
    "start_time": "2023-03-30T03:47:46.678Z"
   },
   {
    "duration": 24,
    "start_time": "2023-03-30T03:47:46.938Z"
   },
   {
    "duration": 4,
    "start_time": "2023-03-30T03:47:46.965Z"
   },
   {
    "duration": 31,
    "start_time": "2023-03-30T03:47:46.970Z"
   },
   {
    "duration": 18,
    "start_time": "2023-03-30T03:47:47.003Z"
   },
   {
    "duration": 6,
    "start_time": "2023-03-30T03:47:47.023Z"
   },
   {
    "duration": 4111,
    "start_time": "2023-03-30T03:47:47.030Z"
   },
   {
    "duration": 960,
    "start_time": "2023-03-30T03:47:51.164Z"
   },
   {
    "duration": 7,
    "start_time": "2023-03-30T03:47:52.125Z"
   },
   {
    "duration": 629,
    "start_time": "2023-03-30T03:47:52.134Z"
   },
   {
    "duration": 44,
    "start_time": "2023-03-30T03:47:52.765Z"
   },
   {
    "duration": 6,
    "start_time": "2023-03-30T03:47:52.811Z"
   },
   {
    "duration": 17,
    "start_time": "2023-03-30T03:47:52.819Z"
   },
   {
    "duration": 5,
    "start_time": "2023-03-30T03:47:52.838Z"
   },
   {
    "duration": 12,
    "start_time": "2023-03-30T03:47:52.845Z"
   },
   {
    "duration": 49,
    "start_time": "2023-03-30T03:47:52.858Z"
   },
   {
    "duration": 122,
    "start_time": "2023-03-30T03:47:52.909Z"
   },
   {
    "duration": 0,
    "start_time": "2023-03-30T03:47:53.033Z"
   },
   {
    "duration": 0,
    "start_time": "2023-03-30T03:47:53.034Z"
   },
   {
    "duration": 0,
    "start_time": "2023-03-30T03:47:53.035Z"
   },
   {
    "duration": 0,
    "start_time": "2023-03-30T03:47:53.036Z"
   },
   {
    "duration": 0,
    "start_time": "2023-03-30T03:47:53.037Z"
   },
   {
    "duration": 0,
    "start_time": "2023-03-30T03:47:53.038Z"
   },
   {
    "duration": 4,
    "start_time": "2023-03-30T03:49:32.172Z"
   },
   {
    "duration": 3,
    "start_time": "2023-03-30T03:49:51.255Z"
   },
   {
    "duration": 11,
    "start_time": "2023-03-30T03:49:52.886Z"
   },
   {
    "duration": 2,
    "start_time": "2023-03-30T03:50:06.335Z"
   },
   {
    "duration": 4,
    "start_time": "2023-03-30T03:50:07.103Z"
   },
   {
    "duration": 3,
    "start_time": "2023-03-30T03:50:08.423Z"
   },
   {
    "duration": 13,
    "start_time": "2023-03-30T03:50:51.474Z"
   },
   {
    "duration": 31,
    "start_time": "2023-03-30T03:51:51.974Z"
   },
   {
    "duration": 839,
    "start_time": "2023-03-30T03:52:42.100Z"
   },
   {
    "duration": 839,
    "start_time": "2023-03-30T03:53:04.401Z"
   },
   {
    "duration": 8,
    "start_time": "2023-03-30T03:53:17.377Z"
   },
   {
    "duration": 24,
    "start_time": "2023-03-30T03:58:14.869Z"
   },
   {
    "duration": 20,
    "start_time": "2023-03-30T04:00:16.130Z"
   },
   {
    "duration": 5,
    "start_time": "2023-03-30T04:11:27.000Z"
   },
   {
    "duration": 4,
    "start_time": "2023-03-30T04:11:41.535Z"
   },
   {
    "duration": 3,
    "start_time": "2023-03-30T04:11:48.279Z"
   },
   {
    "duration": 9,
    "start_time": "2023-03-30T04:11:48.968Z"
   },
   {
    "duration": 57,
    "start_time": "2023-03-30T04:38:37.500Z"
   },
   {
    "duration": 1440,
    "start_time": "2023-03-30T04:38:37.560Z"
   },
   {
    "duration": 5,
    "start_time": "2023-03-30T04:38:39.002Z"
   },
   {
    "duration": 806,
    "start_time": "2023-03-30T04:38:39.010Z"
   },
   {
    "duration": 2,
    "start_time": "2023-03-30T04:38:39.818Z"
   },
   {
    "duration": 51,
    "start_time": "2023-03-30T04:38:39.822Z"
   },
   {
    "duration": 58,
    "start_time": "2023-03-30T04:38:39.899Z"
   },
   {
    "duration": 256,
    "start_time": "2023-03-30T04:38:39.959Z"
   },
   {
    "duration": 3,
    "start_time": "2023-03-30T04:38:40.216Z"
   },
   {
    "duration": 14,
    "start_time": "2023-03-30T04:38:40.221Z"
   },
   {
    "duration": 6,
    "start_time": "2023-03-30T04:38:40.236Z"
   },
   {
    "duration": 4,
    "start_time": "2023-03-30T04:38:40.244Z"
   },
   {
    "duration": 4176,
    "start_time": "2023-03-30T04:38:40.250Z"
   },
   {
    "duration": 1018,
    "start_time": "2023-03-30T04:38:44.428Z"
   },
   {
    "duration": 7,
    "start_time": "2023-03-30T04:38:45.448Z"
   },
   {
    "duration": 621,
    "start_time": "2023-03-30T04:38:45.456Z"
   },
   {
    "duration": 44,
    "start_time": "2023-03-30T04:38:46.078Z"
   },
   {
    "duration": 6,
    "start_time": "2023-03-30T04:38:46.124Z"
   },
   {
    "duration": 23,
    "start_time": "2023-03-30T04:38:46.132Z"
   },
   {
    "duration": 9,
    "start_time": "2023-03-30T04:38:46.157Z"
   },
   {
    "duration": 33,
    "start_time": "2023-03-30T04:38:46.168Z"
   },
   {
    "duration": 30,
    "start_time": "2023-03-30T04:38:46.202Z"
   },
   {
    "duration": 2,
    "start_time": "2023-03-30T04:38:46.234Z"
   },
   {
    "duration": 7,
    "start_time": "2023-03-30T04:38:46.238Z"
   },
   {
    "duration": 4,
    "start_time": "2023-03-30T04:38:46.247Z"
   },
   {
    "duration": 6,
    "start_time": "2023-03-30T04:38:46.253Z"
   },
   {
    "duration": 11,
    "start_time": "2023-03-30T04:38:46.260Z"
   },
   {
    "duration": 18,
    "start_time": "2023-03-30T04:38:46.287Z"
   },
   {
    "duration": 133,
    "start_time": "2023-03-30T04:38:46.307Z"
   },
   {
    "duration": 18,
    "start_time": "2023-03-30T05:04:46.771Z"
   },
   {
    "duration": 19,
    "start_time": "2023-03-30T05:23:30.143Z"
   },
   {
    "duration": 19,
    "start_time": "2023-03-30T05:26:23.775Z"
   },
   {
    "duration": 17,
    "start_time": "2023-03-30T05:31:22.793Z"
   },
   {
    "duration": 17,
    "start_time": "2023-03-30T05:33:59.271Z"
   },
   {
    "duration": 19,
    "start_time": "2023-03-30T05:34:04.160Z"
   },
   {
    "duration": 20,
    "start_time": "2023-03-30T05:34:05.887Z"
   },
   {
    "duration": 12,
    "start_time": "2023-03-30T05:34:11.632Z"
   },
   {
    "duration": 53,
    "start_time": "2023-03-30T05:34:51.351Z"
   },
   {
    "duration": 6,
    "start_time": "2023-03-30T05:34:52.231Z"
   },
   {
    "duration": 3,
    "start_time": "2023-03-30T05:34:52.982Z"
   },
   {
    "duration": 722,
    "start_time": "2023-03-30T05:34:54.670Z"
   },
   {
    "duration": 3,
    "start_time": "2023-03-30T05:34:55.879Z"
   },
   {
    "duration": 44,
    "start_time": "2023-03-30T05:34:56.887Z"
   },
   {
    "duration": 69,
    "start_time": "2023-03-30T05:34:57.631Z"
   },
   {
    "duration": 223,
    "start_time": "2023-03-30T05:34:59.335Z"
   },
   {
    "duration": 4,
    "start_time": "2023-03-30T05:35:01.288Z"
   },
   {
    "duration": 5,
    "start_time": "2023-03-30T05:35:01.920Z"
   },
   {
    "duration": 6,
    "start_time": "2023-03-30T05:35:02.975Z"
   },
   {
    "duration": 5,
    "start_time": "2023-03-30T05:35:04.894Z"
   },
   {
    "duration": 16,
    "start_time": "2023-03-30T05:35:08.423Z"
   },
   {
    "duration": 15,
    "start_time": "2023-03-30T05:35:13.839Z"
   },
   {
    "duration": 15,
    "start_time": "2023-03-30T05:35:15.527Z"
   },
   {
    "duration": 4144,
    "start_time": "2023-03-30T05:35:18.848Z"
   },
   {
    "duration": 845,
    "start_time": "2023-03-30T05:35:22.995Z"
   },
   {
    "duration": 8,
    "start_time": "2023-03-30T05:35:23.842Z"
   },
   {
    "duration": 934,
    "start_time": "2023-03-30T05:35:23.853Z"
   },
   {
    "duration": 36,
    "start_time": "2023-03-30T05:35:24.790Z"
   },
   {
    "duration": 9,
    "start_time": "2023-03-30T05:35:24.828Z"
   },
   {
    "duration": 48,
    "start_time": "2023-03-30T05:35:24.839Z"
   },
   {
    "duration": 1127,
    "start_time": "2023-03-30T05:35:26.168Z"
   },
   {
    "duration": 11,
    "start_time": "2023-03-30T05:35:27.421Z"
   },
   {
    "duration": 22,
    "start_time": "2023-03-30T05:39:15.404Z"
   },
   {
    "duration": 10,
    "start_time": "2023-03-30T05:39:49.034Z"
   },
   {
    "duration": 13,
    "start_time": "2023-03-30T05:45:45.674Z"
   },
   {
    "duration": 15,
    "start_time": "2023-03-30T05:46:01.772Z"
   },
   {
    "duration": 14,
    "start_time": "2023-03-30T05:48:09.353Z"
   },
   {
    "duration": 4079,
    "start_time": "2023-03-30T05:48:14.970Z"
   },
   {
    "duration": 752,
    "start_time": "2023-03-30T05:48:21.641Z"
   },
   {
    "duration": 8,
    "start_time": "2023-03-30T05:48:29.969Z"
   },
   {
    "duration": 1017,
    "start_time": "2023-03-30T05:48:30.992Z"
   },
   {
    "duration": 49,
    "start_time": "2023-03-30T05:48:33.896Z"
   },
   {
    "duration": 7,
    "start_time": "2023-03-30T05:48:35.849Z"
   },
   {
    "duration": 3,
    "start_time": "2023-03-30T05:52:21.504Z"
   },
   {
    "duration": 5,
    "start_time": "2023-03-30T05:52:24.444Z"
   },
   {
    "duration": 3,
    "start_time": "2023-03-30T05:52:26.364Z"
   },
   {
    "duration": 5,
    "start_time": "2023-03-30T05:52:28.851Z"
   },
   {
    "duration": 3,
    "start_time": "2023-03-30T05:52:30.356Z"
   },
   {
    "duration": 20,
    "start_time": "2023-03-30T05:52:42.792Z"
   },
   {
    "duration": 21,
    "start_time": "2023-03-30T06:00:49.489Z"
   },
   {
    "duration": 68,
    "start_time": "2023-03-30T06:02:03.387Z"
   },
   {
    "duration": 1670,
    "start_time": "2023-03-30T06:02:03.458Z"
   },
   {
    "duration": 4,
    "start_time": "2023-03-30T06:02:05.130Z"
   },
   {
    "duration": 914,
    "start_time": "2023-03-30T06:02:05.136Z"
   },
   {
    "duration": 3,
    "start_time": "2023-03-30T06:02:06.053Z"
   },
   {
    "duration": 94,
    "start_time": "2023-03-30T06:02:06.058Z"
   },
   {
    "duration": 112,
    "start_time": "2023-03-30T06:02:06.155Z"
   },
   {
    "duration": 293,
    "start_time": "2023-03-30T06:02:06.269Z"
   },
   {
    "duration": 3,
    "start_time": "2023-03-30T06:02:06.564Z"
   },
   {
    "duration": 24,
    "start_time": "2023-03-30T06:02:06.571Z"
   },
   {
    "duration": 31,
    "start_time": "2023-03-30T06:02:06.598Z"
   },
   {
    "duration": 23,
    "start_time": "2023-03-30T06:02:06.632Z"
   },
   {
    "duration": 44,
    "start_time": "2023-03-30T06:02:06.658Z"
   },
   {
    "duration": 41,
    "start_time": "2023-03-30T06:02:06.704Z"
   },
   {
    "duration": 52,
    "start_time": "2023-03-30T06:02:06.747Z"
   },
   {
    "duration": 41,
    "start_time": "2023-03-30T06:02:06.801Z"
   },
   {
    "duration": 4326,
    "start_time": "2023-03-30T06:02:06.845Z"
   },
   {
    "duration": 1028,
    "start_time": "2023-03-30T06:02:11.173Z"
   },
   {
    "duration": 7,
    "start_time": "2023-03-30T06:02:12.203Z"
   },
   {
    "duration": 674,
    "start_time": "2023-03-30T06:02:12.212Z"
   },
   {
    "duration": 36,
    "start_time": "2023-03-30T06:02:12.888Z"
   },
   {
    "duration": 3,
    "start_time": "2023-03-30T06:02:12.926Z"
   },
   {
    "duration": 13,
    "start_time": "2023-03-30T06:02:12.931Z"
   },
   {
    "duration": 9,
    "start_time": "2023-03-30T06:02:12.946Z"
   },
   {
    "duration": 31,
    "start_time": "2023-03-30T06:02:12.957Z"
   },
   {
    "duration": 2411,
    "start_time": "2023-03-30T06:02:12.990Z"
   },
   {
    "duration": 205,
    "start_time": "2023-03-30T06:04:03.094Z"
   },
   {
    "duration": 8,
    "start_time": "2023-03-30T06:05:03.533Z"
   },
   {
    "duration": 7,
    "start_time": "2023-03-30T06:07:14.579Z"
   },
   {
    "duration": 23,
    "start_time": "2023-03-30T06:07:26.146Z"
   },
   {
    "duration": 21,
    "start_time": "2023-03-30T06:07:31.546Z"
   },
   {
    "duration": 16,
    "start_time": "2023-03-30T06:07:47.218Z"
   },
   {
    "duration": 52,
    "start_time": "2023-03-30T06:07:55.132Z"
   },
   {
    "duration": 1688,
    "start_time": "2023-03-30T06:07:55.186Z"
   },
   {
    "duration": 3,
    "start_time": "2023-03-30T06:07:56.876Z"
   },
   {
    "duration": 752,
    "start_time": "2023-03-30T06:07:56.881Z"
   },
   {
    "duration": 3,
    "start_time": "2023-03-30T06:07:57.635Z"
   },
   {
    "duration": 71,
    "start_time": "2023-03-30T06:07:57.640Z"
   },
   {
    "duration": 110,
    "start_time": "2023-03-30T06:07:57.713Z"
   },
   {
    "duration": 293,
    "start_time": "2023-03-30T06:07:57.825Z"
   },
   {
    "duration": 3,
    "start_time": "2023-03-30T06:07:58.119Z"
   },
   {
    "duration": 9,
    "start_time": "2023-03-30T06:07:58.125Z"
   },
   {
    "duration": 8,
    "start_time": "2023-03-30T06:07:58.135Z"
   },
   {
    "duration": 11,
    "start_time": "2023-03-30T06:07:58.145Z"
   },
   {
    "duration": 42,
    "start_time": "2023-03-30T06:07:58.158Z"
   },
   {
    "duration": 17,
    "start_time": "2023-03-30T06:07:58.202Z"
   },
   {
    "duration": 13,
    "start_time": "2023-03-30T06:07:58.221Z"
   },
   {
    "duration": 18,
    "start_time": "2023-03-30T06:07:58.236Z"
   },
   {
    "duration": 4539,
    "start_time": "2023-03-30T06:07:58.256Z"
   },
   {
    "duration": 1018,
    "start_time": "2023-03-30T06:08:02.797Z"
   },
   {
    "duration": 9,
    "start_time": "2023-03-30T06:08:03.817Z"
   },
   {
    "duration": 664,
    "start_time": "2023-03-30T06:08:03.827Z"
   },
   {
    "duration": 35,
    "start_time": "2023-03-30T06:08:04.492Z"
   },
   {
    "duration": 5,
    "start_time": "2023-03-30T06:08:04.529Z"
   },
   {
    "duration": 16,
    "start_time": "2023-03-30T06:08:04.536Z"
   },
   {
    "duration": 9,
    "start_time": "2023-03-30T06:08:04.554Z"
   },
   {
    "duration": 22,
    "start_time": "2023-03-30T06:08:04.566Z"
   },
   {
    "duration": 10,
    "start_time": "2023-03-30T06:08:04.591Z"
   },
   {
    "duration": 22,
    "start_time": "2023-03-30T06:08:04.603Z"
   },
   {
    "duration": 2559,
    "start_time": "2023-03-30T06:08:04.630Z"
   },
   {
    "duration": 127,
    "start_time": "2023-03-30T06:08:22.074Z"
   },
   {
    "duration": 65,
    "start_time": "2023-03-30T06:08:36.910Z"
   },
   {
    "duration": 1504,
    "start_time": "2023-03-30T06:08:36.977Z"
   },
   {
    "duration": 6,
    "start_time": "2023-03-30T06:08:38.483Z"
   },
   {
    "duration": 762,
    "start_time": "2023-03-30T06:08:38.492Z"
   },
   {
    "duration": 3,
    "start_time": "2023-03-30T06:08:39.256Z"
   },
   {
    "duration": 73,
    "start_time": "2023-03-30T06:08:39.261Z"
   },
   {
    "duration": 107,
    "start_time": "2023-03-30T06:08:39.336Z"
   },
   {
    "duration": 262,
    "start_time": "2023-03-30T06:08:39.445Z"
   },
   {
    "duration": 3,
    "start_time": "2023-03-30T06:08:39.709Z"
   },
   {
    "duration": 18,
    "start_time": "2023-03-30T06:08:39.714Z"
   },
   {
    "duration": 27,
    "start_time": "2023-03-30T06:08:39.734Z"
   },
   {
    "duration": 9,
    "start_time": "2023-03-30T06:08:39.763Z"
   },
   {
    "duration": 20,
    "start_time": "2023-03-30T06:08:39.774Z"
   },
   {
    "duration": 20,
    "start_time": "2023-03-30T06:08:39.797Z"
   },
   {
    "duration": 14,
    "start_time": "2023-03-30T06:08:39.820Z"
   },
   {
    "duration": 18,
    "start_time": "2023-03-30T06:08:39.835Z"
   },
   {
    "duration": 4324,
    "start_time": "2023-03-30T06:08:39.855Z"
   },
   {
    "duration": 1028,
    "start_time": "2023-03-30T06:08:44.181Z"
   },
   {
    "duration": 7,
    "start_time": "2023-03-30T06:08:45.211Z"
   },
   {
    "duration": 631,
    "start_time": "2023-03-30T06:08:45.220Z"
   },
   {
    "duration": 52,
    "start_time": "2023-03-30T06:08:45.853Z"
   },
   {
    "duration": 5,
    "start_time": "2023-03-30T06:08:45.907Z"
   },
   {
    "duration": 39,
    "start_time": "2023-03-30T06:08:45.914Z"
   },
   {
    "duration": 3,
    "start_time": "2023-03-30T06:08:45.955Z"
   },
   {
    "duration": 27,
    "start_time": "2023-03-30T06:08:45.960Z"
   },
   {
    "duration": 3,
    "start_time": "2023-03-30T06:08:45.990Z"
   },
   {
    "duration": 18,
    "start_time": "2023-03-30T06:08:45.996Z"
   },
   {
    "duration": 1880,
    "start_time": "2023-03-30T06:08:46.019Z"
   },
   {
    "duration": 197,
    "start_time": "2023-03-30T06:15:42.840Z"
   },
   {
    "duration": 6,
    "start_time": "2023-03-30T06:15:46.848Z"
   },
   {
    "duration": 4,
    "start_time": "2023-03-30T06:15:47.400Z"
   },
   {
    "duration": 9,
    "start_time": "2023-03-30T06:15:48.916Z"
   },
   {
    "duration": 2134,
    "start_time": "2023-03-30T06:15:50.258Z"
   },
   {
    "duration": 2085,
    "start_time": "2023-03-30T06:16:16.104Z"
   },
   {
    "duration": 16463,
    "start_time": "2023-03-30T06:16:43.127Z"
   },
   {
    "duration": 26296,
    "start_time": "2023-03-30T06:17:27.424Z"
   },
   {
    "duration": 1103,
    "start_time": "2023-03-30T06:19:10.326Z"
   },
   {
    "duration": 3,
    "start_time": "2023-03-30T06:22:21.281Z"
   },
   {
    "duration": 7,
    "start_time": "2023-03-30T06:22:21.963Z"
   },
   {
    "duration": 199,
    "start_time": "2023-03-30T06:41:56.713Z"
   },
   {
    "duration": 4,
    "start_time": "2023-03-30T06:42:02.118Z"
   },
   {
    "duration": 4,
    "start_time": "2023-03-30T06:42:02.957Z"
   },
   {
    "duration": 2722,
    "start_time": "2023-03-30T07:01:32.702Z"
   },
   {
    "duration": 17795,
    "start_time": "2023-03-30T07:01:38.773Z"
   },
   {
    "duration": 27883,
    "start_time": "2023-03-30T07:01:56.571Z"
   },
   {
    "duration": 54,
    "start_time": "2023-03-30T07:06:17.743Z"
   },
   {
    "duration": 1648,
    "start_time": "2023-03-30T07:06:17.804Z"
   },
   {
    "duration": 3,
    "start_time": "2023-03-30T07:06:19.454Z"
   },
   {
    "duration": 837,
    "start_time": "2023-03-30T07:06:19.460Z"
   },
   {
    "duration": 3,
    "start_time": "2023-03-30T07:06:20.298Z"
   },
   {
    "duration": 63,
    "start_time": "2023-03-30T07:06:20.303Z"
   },
   {
    "duration": 92,
    "start_time": "2023-03-30T07:06:20.369Z"
   },
   {
    "duration": 327,
    "start_time": "2023-03-30T07:06:20.464Z"
   },
   {
    "duration": 3,
    "start_time": "2023-03-30T07:06:20.794Z"
   },
   {
    "duration": 39,
    "start_time": "2023-03-30T07:06:20.804Z"
   },
   {
    "duration": 10,
    "start_time": "2023-03-30T07:06:20.846Z"
   },
   {
    "duration": 13,
    "start_time": "2023-03-30T07:06:20.859Z"
   },
   {
    "duration": 49,
    "start_time": "2023-03-30T07:06:20.874Z"
   },
   {
    "duration": 27,
    "start_time": "2023-03-30T07:06:20.925Z"
   },
   {
    "duration": 60,
    "start_time": "2023-03-30T07:06:20.954Z"
   },
   {
    "duration": 18,
    "start_time": "2023-03-30T07:06:21.016Z"
   },
   {
    "duration": 4443,
    "start_time": "2023-03-30T07:06:21.036Z"
   },
   {
    "duration": 1152,
    "start_time": "2023-03-30T07:06:25.481Z"
   },
   {
    "duration": 8,
    "start_time": "2023-03-30T07:06:26.635Z"
   },
   {
    "duration": 694,
    "start_time": "2023-03-30T07:06:26.644Z"
   },
   {
    "duration": 63,
    "start_time": "2023-03-30T07:06:27.340Z"
   },
   {
    "duration": 5,
    "start_time": "2023-03-30T07:06:27.410Z"
   },
   {
    "duration": 70,
    "start_time": "2023-03-30T07:06:27.417Z"
   },
   {
    "duration": 13,
    "start_time": "2023-03-30T07:06:27.494Z"
   },
   {
    "duration": 14,
    "start_time": "2023-03-30T07:06:27.510Z"
   },
   {
    "duration": 26,
    "start_time": "2023-03-30T07:06:27.527Z"
   },
   {
    "duration": 31,
    "start_time": "2023-03-30T07:06:27.555Z"
   },
   {
    "duration": 2896,
    "start_time": "2023-03-30T07:06:27.604Z"
   },
   {
    "duration": 17487,
    "start_time": "2023-03-30T07:06:30.503Z"
   },
   {
    "duration": 26908,
    "start_time": "2023-03-30T07:06:47.997Z"
   },
   {
    "duration": 1072,
    "start_time": "2023-03-30T07:07:14.907Z"
   },
   {
    "duration": 47,
    "start_time": "2023-03-31T03:10:21.955Z"
   },
   {
    "duration": 51,
    "start_time": "2023-03-31T03:10:44.351Z"
   },
   {
    "duration": 1496,
    "start_time": "2023-03-31T03:10:44.404Z"
   },
   {
    "duration": 2,
    "start_time": "2023-03-31T03:10:45.902Z"
   },
   {
    "duration": 3032,
    "start_time": "2023-03-31T03:10:45.906Z"
   },
   {
    "duration": 2,
    "start_time": "2023-03-31T03:10:48.940Z"
   },
   {
    "duration": 43,
    "start_time": "2023-03-31T03:10:48.943Z"
   },
   {
    "duration": 62,
    "start_time": "2023-03-31T03:10:48.987Z"
   },
   {
    "duration": 208,
    "start_time": "2023-03-31T03:10:49.051Z"
   },
   {
    "duration": 3,
    "start_time": "2023-03-31T03:10:49.261Z"
   },
   {
    "duration": 11,
    "start_time": "2023-03-31T03:10:49.267Z"
   },
   {
    "duration": 8,
    "start_time": "2023-03-31T03:10:49.280Z"
   },
   {
    "duration": 6,
    "start_time": "2023-03-31T03:10:49.289Z"
   },
   {
    "duration": 18,
    "start_time": "2023-03-31T03:10:49.297Z"
   },
   {
    "duration": 30,
    "start_time": "2023-03-31T03:10:49.317Z"
   },
   {
    "duration": 11,
    "start_time": "2023-03-31T03:10:49.349Z"
   },
   {
    "duration": 16,
    "start_time": "2023-03-31T03:10:49.362Z"
   },
   {
    "duration": 7064,
    "start_time": "2023-03-31T03:10:49.379Z"
   },
   {
    "duration": 825,
    "start_time": "2023-03-31T03:10:56.445Z"
   },
   {
    "duration": 7,
    "start_time": "2023-03-31T03:10:57.272Z"
   },
   {
    "duration": 518,
    "start_time": "2023-03-31T03:10:57.281Z"
   },
   {
    "duration": 44,
    "start_time": "2023-03-31T03:10:57.801Z"
   },
   {
    "duration": 4,
    "start_time": "2023-03-31T03:10:57.847Z"
   },
   {
    "duration": 31,
    "start_time": "2023-03-31T03:10:57.853Z"
   },
   {
    "duration": 2,
    "start_time": "2023-03-31T03:10:57.886Z"
   },
   {
    "duration": 9,
    "start_time": "2023-03-31T03:10:57.890Z"
   },
   {
    "duration": 9,
    "start_time": "2023-03-31T03:10:57.900Z"
   },
   {
    "duration": 11,
    "start_time": "2023-03-31T03:10:57.911Z"
   },
   {
    "duration": 1601,
    "start_time": "2023-03-31T03:10:57.937Z"
   },
   {
    "duration": 14948,
    "start_time": "2023-03-31T03:10:59.541Z"
   },
   {
    "duration": 22789,
    "start_time": "2023-03-31T03:11:14.491Z"
   },
   {
    "duration": 1008,
    "start_time": "2023-03-31T03:11:37.282Z"
   },
   {
    "duration": 1317,
    "start_time": "2023-03-31T03:14:40.737Z"
   },
   {
    "duration": 1253,
    "start_time": "2023-03-31T03:26:51.501Z"
   },
   {
    "duration": 32,
    "start_time": "2023-03-31T03:27:10.099Z"
   },
   {
    "duration": 1384,
    "start_time": "2023-03-31T03:27:10.134Z"
   },
   {
    "duration": 2,
    "start_time": "2023-03-31T03:27:11.520Z"
   },
   {
    "duration": 700,
    "start_time": "2023-03-31T03:27:11.526Z"
   },
   {
    "duration": 2,
    "start_time": "2023-03-31T03:27:12.228Z"
   },
   {
    "duration": 51,
    "start_time": "2023-03-31T03:27:12.234Z"
   },
   {
    "duration": 58,
    "start_time": "2023-03-31T03:27:12.287Z"
   },
   {
    "duration": 215,
    "start_time": "2023-03-31T03:27:12.346Z"
   },
   {
    "duration": 3,
    "start_time": "2023-03-31T03:27:12.562Z"
   },
   {
    "duration": 25,
    "start_time": "2023-03-31T03:27:12.567Z"
   },
   {
    "duration": 18,
    "start_time": "2023-03-31T03:27:12.593Z"
   },
   {
    "duration": 9,
    "start_time": "2023-03-31T03:27:12.612Z"
   },
   {
    "duration": 27,
    "start_time": "2023-03-31T03:27:12.622Z"
   },
   {
    "duration": 14,
    "start_time": "2023-03-31T03:27:12.650Z"
   },
   {
    "duration": 10,
    "start_time": "2023-03-31T03:27:12.666Z"
   },
   {
    "duration": 16,
    "start_time": "2023-03-31T03:27:12.678Z"
   },
   {
    "duration": 7096,
    "start_time": "2023-03-31T03:27:12.695Z"
   },
   {
    "duration": 871,
    "start_time": "2023-03-31T03:27:19.793Z"
   },
   {
    "duration": 7,
    "start_time": "2023-03-31T03:27:20.665Z"
   },
   {
    "duration": 539,
    "start_time": "2023-03-31T03:27:20.673Z"
   },
   {
    "duration": 38,
    "start_time": "2023-03-31T03:27:21.214Z"
   },
   {
    "duration": 4,
    "start_time": "2023-03-31T03:27:21.255Z"
   },
   {
    "duration": 46,
    "start_time": "2023-03-31T03:27:21.260Z"
   },
   {
    "duration": 2,
    "start_time": "2023-03-31T03:27:21.308Z"
   },
   {
    "duration": 23,
    "start_time": "2023-03-31T03:27:21.312Z"
   },
   {
    "duration": 20,
    "start_time": "2023-03-31T03:27:21.336Z"
   },
   {
    "duration": 20,
    "start_time": "2023-03-31T03:27:21.358Z"
   },
   {
    "duration": 1662,
    "start_time": "2023-03-31T03:27:21.381Z"
   },
   {
    "duration": 15168,
    "start_time": "2023-03-31T03:27:23.134Z"
   },
   {
    "duration": 22674,
    "start_time": "2023-03-31T03:27:38.304Z"
   },
   {
    "duration": 989,
    "start_time": "2023-03-31T03:28:00.979Z"
   },
   {
    "duration": 492,
    "start_time": "2023-03-31T04:58:12.334Z"
   },
   {
    "duration": 480,
    "start_time": "2023-03-31T04:59:38.268Z"
   },
   {
    "duration": 114,
    "start_time": "2023-03-31T04:59:56.392Z"
   },
   {
    "duration": 1610,
    "start_time": "2023-03-31T04:59:56.508Z"
   },
   {
    "duration": 2,
    "start_time": "2023-03-31T04:59:58.120Z"
   },
   {
    "duration": 754,
    "start_time": "2023-03-31T04:59:58.124Z"
   },
   {
    "duration": 2,
    "start_time": "2023-03-31T04:59:58.880Z"
   },
   {
    "duration": 67,
    "start_time": "2023-03-31T04:59:58.884Z"
   },
   {
    "duration": 76,
    "start_time": "2023-03-31T04:59:58.953Z"
   },
   {
    "duration": 254,
    "start_time": "2023-03-31T04:59:59.030Z"
   },
   {
    "duration": 4,
    "start_time": "2023-03-31T04:59:59.286Z"
   },
   {
    "duration": 11,
    "start_time": "2023-03-31T04:59:59.293Z"
   },
   {
    "duration": 19,
    "start_time": "2023-03-31T04:59:59.305Z"
   },
   {
    "duration": 29,
    "start_time": "2023-03-31T04:59:59.325Z"
   },
   {
    "duration": 26,
    "start_time": "2023-03-31T04:59:59.356Z"
   },
   {
    "duration": 22,
    "start_time": "2023-03-31T04:59:59.384Z"
   },
   {
    "duration": 23,
    "start_time": "2023-03-31T04:59:59.408Z"
   },
   {
    "duration": 24,
    "start_time": "2023-03-31T04:59:59.432Z"
   },
   {
    "duration": 7799,
    "start_time": "2023-03-31T04:59:59.458Z"
   },
   {
    "duration": 1101,
    "start_time": "2023-03-31T05:00:07.260Z"
   },
   {
    "duration": 529,
    "start_time": "2023-03-31T05:00:08.362Z"
   },
   {
    "duration": 7,
    "start_time": "2023-03-31T05:00:08.893Z"
   },
   {
    "duration": 715,
    "start_time": "2023-03-31T05:00:08.902Z"
   },
   {
    "duration": 53,
    "start_time": "2023-03-31T05:00:09.619Z"
   },
   {
    "duration": 18,
    "start_time": "2023-03-31T05:00:09.674Z"
   },
   {
    "duration": 61,
    "start_time": "2023-03-31T05:00:09.694Z"
   },
   {
    "duration": 3,
    "start_time": "2023-03-31T05:00:09.757Z"
   },
   {
    "duration": 14,
    "start_time": "2023-03-31T05:00:09.762Z"
   },
   {
    "duration": 16,
    "start_time": "2023-03-31T05:00:09.777Z"
   },
   {
    "duration": 21,
    "start_time": "2023-03-31T05:00:09.796Z"
   },
   {
    "duration": 3420,
    "start_time": "2023-03-31T05:00:09.820Z"
   },
   {
    "duration": 16077,
    "start_time": "2023-03-31T05:00:13.245Z"
   },
   {
    "duration": 26431,
    "start_time": "2023-03-31T05:00:29.324Z"
   },
   {
    "duration": 1093,
    "start_time": "2023-03-31T05:00:55.757Z"
   },
   {
    "duration": 507,
    "start_time": "2023-03-31T05:06:16.006Z"
   },
   {
    "duration": 641,
    "start_time": "2023-03-31T05:06:55.090Z"
   },
   {
    "duration": 636,
    "start_time": "2023-03-31T05:17:13.373Z"
   },
   {
    "duration": 560,
    "start_time": "2023-03-31T05:17:29.365Z"
   },
   {
    "duration": 758,
    "start_time": "2023-03-31T05:17:46.725Z"
   },
   {
    "duration": 713,
    "start_time": "2023-03-31T05:18:52.068Z"
   },
   {
    "duration": 481,
    "start_time": "2023-03-31T05:19:58.717Z"
   },
   {
    "duration": 884,
    "start_time": "2023-03-31T05:20:24.658Z"
   },
   {
    "duration": 734,
    "start_time": "2023-03-31T05:20:42.092Z"
   },
   {
    "duration": 811,
    "start_time": "2023-03-31T05:21:24.171Z"
   },
   {
    "duration": 761,
    "start_time": "2023-03-31T05:21:40.569Z"
   },
   {
    "duration": 815,
    "start_time": "2023-03-31T05:21:56.234Z"
   },
   {
    "duration": 780,
    "start_time": "2023-03-31T05:22:14.061Z"
   },
   {
    "duration": 803,
    "start_time": "2023-03-31T05:24:26.430Z"
   },
   {
    "duration": 1294,
    "start_time": "2023-03-31T05:47:46.603Z"
   },
   {
    "duration": 1260,
    "start_time": "2023-03-31T05:48:24.465Z"
   },
   {
    "duration": 1207,
    "start_time": "2023-03-31T05:48:57.194Z"
   },
   {
    "duration": 796,
    "start_time": "2023-03-31T05:49:23.462Z"
   },
   {
    "duration": 9,
    "start_time": "2023-03-31T06:00:25.715Z"
   },
   {
    "duration": 24,
    "start_time": "2023-03-31T06:00:34.203Z"
   },
   {
    "duration": 44,
    "start_time": "2023-03-31T06:01:11.860Z"
   },
   {
    "duration": 1524,
    "start_time": "2023-03-31T06:01:11.906Z"
   },
   {
    "duration": 4,
    "start_time": "2023-03-31T06:01:13.431Z"
   },
   {
    "duration": 802,
    "start_time": "2023-03-31T06:01:13.437Z"
   },
   {
    "duration": 5,
    "start_time": "2023-03-31T06:01:14.241Z"
   },
   {
    "duration": 75,
    "start_time": "2023-03-31T06:01:14.247Z"
   },
   {
    "duration": 67,
    "start_time": "2023-03-31T06:01:14.323Z"
   },
   {
    "duration": 265,
    "start_time": "2023-03-31T06:01:14.391Z"
   },
   {
    "duration": 8,
    "start_time": "2023-03-31T06:01:14.657Z"
   },
   {
    "duration": 27,
    "start_time": "2023-03-31T06:01:14.668Z"
   },
   {
    "duration": 59,
    "start_time": "2023-03-31T06:01:14.697Z"
   },
   {
    "duration": 26,
    "start_time": "2023-03-31T06:01:14.758Z"
   },
   {
    "duration": 26,
    "start_time": "2023-03-31T06:01:14.786Z"
   },
   {
    "duration": 27,
    "start_time": "2023-03-31T06:01:14.816Z"
   },
   {
    "duration": 26,
    "start_time": "2023-03-31T06:01:14.852Z"
   },
   {
    "duration": 25,
    "start_time": "2023-03-31T06:01:14.880Z"
   },
   {
    "duration": 7400,
    "start_time": "2023-03-31T06:01:14.907Z"
   },
   {
    "duration": 974,
    "start_time": "2023-03-31T06:01:22.309Z"
   },
   {
    "duration": 899,
    "start_time": "2023-03-31T06:01:23.285Z"
   },
   {
    "duration": 7,
    "start_time": "2023-03-31T06:01:24.185Z"
   },
   {
    "duration": 691,
    "start_time": "2023-03-31T06:01:24.193Z"
   },
   {
    "duration": 719,
    "start_time": "2023-03-31T06:01:24.886Z"
   },
   {
    "duration": 49,
    "start_time": "2023-03-31T06:01:25.607Z"
   },
   {
    "duration": 4,
    "start_time": "2023-03-31T06:01:25.663Z"
   },
   {
    "duration": 46,
    "start_time": "2023-03-31T06:01:25.669Z"
   },
   {
    "duration": 2,
    "start_time": "2023-03-31T06:01:25.716Z"
   },
   {
    "duration": 25,
    "start_time": "2023-03-31T06:01:25.720Z"
   },
   {
    "duration": 33,
    "start_time": "2023-03-31T06:01:25.752Z"
   },
   {
    "duration": 25,
    "start_time": "2023-03-31T06:01:25.787Z"
   },
   {
    "duration": 2847,
    "start_time": "2023-03-31T06:01:25.814Z"
   },
   {
    "duration": 204,
    "start_time": "2023-03-31T06:01:28.738Z"
   },
   {
    "duration": 0,
    "start_time": "2023-03-31T06:01:28.944Z"
   },
   {
    "duration": 0,
    "start_time": "2023-03-31T06:01:28.945Z"
   },
   {
    "duration": 14771,
    "start_time": "2023-03-31T06:06:49.753Z"
   },
   {
    "duration": 14809,
    "start_time": "2023-03-31T06:07:52.505Z"
   },
   {
    "duration": 28610,
    "start_time": "2023-03-31T06:09:33.415Z"
   },
   {
    "duration": 29221,
    "start_time": "2023-03-31T06:11:44.275Z"
   },
   {
    "duration": 45380,
    "start_time": "2023-03-31T06:29:59.161Z"
   },
   {
    "duration": 113617,
    "start_time": "2023-03-31T06:32:08.664Z"
   },
   {
    "duration": 3905,
    "start_time": "2023-03-31T06:48:07.418Z"
   },
   {
    "duration": 95,
    "start_time": "2023-03-31T06:51:00.336Z"
   },
   {
    "duration": 12,
    "start_time": "2023-03-31T06:59:25.820Z"
   },
   {
    "duration": 12,
    "start_time": "2023-03-31T07:00:07.730Z"
   },
   {
    "duration": 835,
    "start_time": "2023-03-31T07:01:42.732Z"
   },
   {
    "duration": 1671,
    "start_time": "2023-03-31T07:02:43.064Z"
   },
   {
    "duration": 13,
    "start_time": "2023-03-31T07:04:25.655Z"
   }
  ],
  "kernelspec": {
   "display_name": "Python 3 (ipykernel)",
   "language": "python",
   "name": "python3"
  },
  "language_info": {
   "codemirror_mode": {
    "name": "ipython",
    "version": 3
   },
   "file_extension": ".py",
   "mimetype": "text/x-python",
   "name": "python",
   "nbconvert_exporter": "python",
   "pygments_lexer": "ipython3",
   "version": "3.9.5"
  },
  "toc": {
   "base_numbering": 1,
   "nav_menu": {},
   "number_sections": true,
   "sideBar": true,
   "skip_h1_title": true,
   "title_cell": "Содержание",
   "title_sidebar": "Contents",
   "toc_cell": true,
   "toc_position": {
    "height": "calc(100% - 180px)",
    "left": "10px",
    "top": "150px",
    "width": "165px"
   },
   "toc_section_display": true,
   "toc_window_display": true
  }
 },
 "nbformat": 4,
 "nbformat_minor": 2
}
